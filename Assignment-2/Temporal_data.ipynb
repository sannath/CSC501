{
 "cells": [
  {
   "cell_type": "code",
   "execution_count": 106,
   "metadata": {},
   "outputs": [],
   "source": [
    "import numpy as np\n",
    "import pandas as pd\n",
    "import seaborn as sns\n",
    "from datetime import datetime\n",
    "import matplotlib.pyplot as plt\n",
    "%matplotlib inline"
   ]
  },
  {
   "cell_type": "code",
   "execution_count": 122,
   "metadata": {},
   "outputs": [
    {
     "data": {
      "text/html": [
       "<div>\n",
       "<style scoped>\n",
       "    .dataframe tbody tr th:only-of-type {\n",
       "        vertical-align: middle;\n",
       "    }\n",
       "\n",
       "    .dataframe tbody tr th {\n",
       "        vertical-align: top;\n",
       "    }\n",
       "\n",
       "    .dataframe thead th {\n",
       "        text-align: right;\n",
       "    }\n",
       "</style>\n",
       "<table border=\"1\" class=\"dataframe\">\n",
       "  <thead>\n",
       "    <tr style=\"text-align: right;\">\n",
       "      <th></th>\n",
       "      <th>VendorID</th>\n",
       "      <th>tpep_pickup_datetime</th>\n",
       "      <th>tpep_dropoff_datetime</th>\n",
       "      <th>passenger_count</th>\n",
       "      <th>trip_distance</th>\n",
       "      <th>RatecodeID</th>\n",
       "      <th>store_and_fwd_flag</th>\n",
       "      <th>PULocationID</th>\n",
       "      <th>DOLocationID</th>\n",
       "      <th>payment_type</th>\n",
       "      <th>fare_amount</th>\n",
       "      <th>extra</th>\n",
       "      <th>mta_tax</th>\n",
       "      <th>tip_amount</th>\n",
       "      <th>tolls_amount</th>\n",
       "      <th>improvement_surcharge</th>\n",
       "      <th>total_amount</th>\n",
       "    </tr>\n",
       "  </thead>\n",
       "  <tbody>\n",
       "    <tr>\n",
       "      <th>496354</th>\n",
       "      <td>2</td>\n",
       "      <td>2018-12-29 16:13:23</td>\n",
       "      <td>12/29/2018 04:30:04 PM</td>\n",
       "      <td>1</td>\n",
       "      <td>2.08</td>\n",
       "      <td>1</td>\n",
       "      <td>N</td>\n",
       "      <td>43</td>\n",
       "      <td>230</td>\n",
       "      <td>1</td>\n",
       "      <td>12.0</td>\n",
       "      <td>0.0</td>\n",
       "      <td>0.5</td>\n",
       "      <td>2.56</td>\n",
       "      <td>0.0</td>\n",
       "      <td>0.3</td>\n",
       "      <td>15.36</td>\n",
       "    </tr>\n",
       "    <tr>\n",
       "      <th>183538</th>\n",
       "      <td>2</td>\n",
       "      <td>2018-12-31 08:12:10</td>\n",
       "      <td>12/31/2018 08:15:02 AM</td>\n",
       "      <td>1</td>\n",
       "      <td>0.92</td>\n",
       "      <td>1</td>\n",
       "      <td>N</td>\n",
       "      <td>75</td>\n",
       "      <td>236</td>\n",
       "      <td>1</td>\n",
       "      <td>4.5</td>\n",
       "      <td>0.0</td>\n",
       "      <td>0.5</td>\n",
       "      <td>1.00</td>\n",
       "      <td>0.0</td>\n",
       "      <td>0.3</td>\n",
       "      <td>6.30</td>\n",
       "    </tr>\n",
       "    <tr>\n",
       "      <th>757292</th>\n",
       "      <td>1</td>\n",
       "      <td>2018-12-28 12:20:01</td>\n",
       "      <td>12/28/2018 12:36:58 PM</td>\n",
       "      <td>1</td>\n",
       "      <td>1.80</td>\n",
       "      <td>1</td>\n",
       "      <td>N</td>\n",
       "      <td>162</td>\n",
       "      <td>48</td>\n",
       "      <td>1</td>\n",
       "      <td>11.5</td>\n",
       "      <td>0.0</td>\n",
       "      <td>0.5</td>\n",
       "      <td>3.50</td>\n",
       "      <td>0.0</td>\n",
       "      <td>0.3</td>\n",
       "      <td>15.80</td>\n",
       "    </tr>\n",
       "    <tr>\n",
       "      <th>493305</th>\n",
       "      <td>2</td>\n",
       "      <td>2018-12-29 16:27:49</td>\n",
       "      <td>12/29/2018 04:34:39 PM</td>\n",
       "      <td>1</td>\n",
       "      <td>1.57</td>\n",
       "      <td>1</td>\n",
       "      <td>N</td>\n",
       "      <td>237</td>\n",
       "      <td>262</td>\n",
       "      <td>2</td>\n",
       "      <td>7.0</td>\n",
       "      <td>0.0</td>\n",
       "      <td>0.5</td>\n",
       "      <td>0.00</td>\n",
       "      <td>0.0</td>\n",
       "      <td>0.3</td>\n",
       "      <td>7.80</td>\n",
       "    </tr>\n",
       "    <tr>\n",
       "      <th>1031982</th>\n",
       "      <td>2</td>\n",
       "      <td>2018-12-27 06:48:15</td>\n",
       "      <td>12/27/2018 06:54:14 AM</td>\n",
       "      <td>1</td>\n",
       "      <td>1.44</td>\n",
       "      <td>1</td>\n",
       "      <td>N</td>\n",
       "      <td>249</td>\n",
       "      <td>231</td>\n",
       "      <td>1</td>\n",
       "      <td>7.0</td>\n",
       "      <td>0.0</td>\n",
       "      <td>0.5</td>\n",
       "      <td>1.56</td>\n",
       "      <td>0.0</td>\n",
       "      <td>0.3</td>\n",
       "      <td>9.36</td>\n",
       "    </tr>\n",
       "  </tbody>\n",
       "</table>\n",
       "</div>"
      ],
      "text/plain": [
       "         VendorID tpep_pickup_datetime   tpep_dropoff_datetime  \\\n",
       "496354          2  2018-12-29 16:13:23  12/29/2018 04:30:04 PM   \n",
       "183538          2  2018-12-31 08:12:10  12/31/2018 08:15:02 AM   \n",
       "757292          1  2018-12-28 12:20:01  12/28/2018 12:36:58 PM   \n",
       "493305          2  2018-12-29 16:27:49  12/29/2018 04:34:39 PM   \n",
       "1031982         2  2018-12-27 06:48:15  12/27/2018 06:54:14 AM   \n",
       "\n",
       "         passenger_count  trip_distance  RatecodeID store_and_fwd_flag  \\\n",
       "496354                 1           2.08           1                  N   \n",
       "183538                 1           0.92           1                  N   \n",
       "757292                 1           1.80           1                  N   \n",
       "493305                 1           1.57           1                  N   \n",
       "1031982                1           1.44           1                  N   \n",
       "\n",
       "         PULocationID  DOLocationID  payment_type  fare_amount  extra  \\\n",
       "496354             43           230             1         12.0    0.0   \n",
       "183538             75           236             1          4.5    0.0   \n",
       "757292            162            48             1         11.5    0.0   \n",
       "493305            237           262             2          7.0    0.0   \n",
       "1031982           249           231             1          7.0    0.0   \n",
       "\n",
       "         mta_tax  tip_amount  tolls_amount  improvement_surcharge  \\\n",
       "496354       0.5        2.56           0.0                    0.3   \n",
       "183538       0.5        1.00           0.0                    0.3   \n",
       "757292       0.5        3.50           0.0                    0.3   \n",
       "493305       0.5        0.00           0.0                    0.3   \n",
       "1031982      0.5        1.56           0.0                    0.3   \n",
       "\n",
       "         total_amount  \n",
       "496354          15.36  \n",
       "183538           6.30  \n",
       "757292          15.80  \n",
       "493305           7.80  \n",
       "1031982          9.36  "
      ]
     },
     "execution_count": 122,
     "metadata": {},
     "output_type": "execute_result"
    }
   ],
   "source": [
    "df = pd.read_csv(\"taxi-sample.csv\",parse_dates=[\"tpep_pickup_datetime\"])\n",
    "df = df.sample(frac=0.5)\n",
    "df.head()"
   ]
  },
  {
   "cell_type": "code",
   "execution_count": 123,
   "metadata": {},
   "outputs": [
    {
     "name": "stdout",
     "output_type": "stream",
     "text": [
      "9\n",
      "0\n"
     ]
    }
   ],
   "source": [
    "df['passenger_count']=df['passenger_count'].astype(int)\n",
    "print(df['passenger_count'].max())\n",
    "print(df['passenger_count'].min())"
   ]
  },
  {
   "cell_type": "code",
   "execution_count": 129,
   "metadata": {},
   "outputs": [
    {
     "data": {
      "text/plain": [
       "<matplotlib.axes._subplots.AxesSubplot at 0x3687363438>"
      ]
     },
     "execution_count": 129,
     "metadata": {},
     "output_type": "execute_result"
    },
    {
     "data": {
      "image/png": "[encoded data removed]",
      "text/plain": [
       "<Figure size 432x288 with 1 Axes>"
      ]
     },
     "metadata": {
      "needs_background": "light"
     },
     "output_type": "display_data"
    }
   ],
   "source": [
    "sns.countplot(x='passenger_count',data=df,palette='Set2')"
   ]
  },
  {
   "cell_type": "code",
   "execution_count": 130,
   "metadata": {},
   "outputs": [
    {
     "data": {
      "text/html": [
       "<div>\n",
       "<style scoped>\n",
       "    .dataframe tbody tr th:only-of-type {\n",
       "        vertical-align: middle;\n",
       "    }\n",
       "\n",
       "    .dataframe tbody tr th {\n",
       "        vertical-align: top;\n",
       "    }\n",
       "\n",
       "    .dataframe thead th {\n",
       "        text-align: right;\n",
       "    }\n",
       "</style>\n",
       "<table border=\"1\" class=\"dataframe\">\n",
       "  <thead>\n",
       "    <tr style=\"text-align: right;\">\n",
       "      <th></th>\n",
       "      <th>VendorID</th>\n",
       "      <th>tpep_pickup_datetime</th>\n",
       "      <th>tpep_dropoff_datetime</th>\n",
       "      <th>passenger_count</th>\n",
       "      <th>trip_distance</th>\n",
       "      <th>RatecodeID</th>\n",
       "      <th>store_and_fwd_flag</th>\n",
       "      <th>PULocationID</th>\n",
       "      <th>DOLocationID</th>\n",
       "      <th>payment_type</th>\n",
       "      <th>...</th>\n",
       "      <th>tip_amount</th>\n",
       "      <th>tolls_amount</th>\n",
       "      <th>improvement_surcharge</th>\n",
       "      <th>total_amount</th>\n",
       "      <th>pickup_day</th>\n",
       "      <th>pickup_month</th>\n",
       "      <th>pickup_year</th>\n",
       "      <th>pickup_weekday</th>\n",
       "      <th>pickup_hour</th>\n",
       "      <th>mid_night_trip</th>\n",
       "    </tr>\n",
       "  </thead>\n",
       "  <tbody>\n",
       "    <tr>\n",
       "      <th>496354</th>\n",
       "      <td>2</td>\n",
       "      <td>2018-12-29 16:13:23</td>\n",
       "      <td>12/29/2018 04:30:04 PM</td>\n",
       "      <td>1</td>\n",
       "      <td>2.08</td>\n",
       "      <td>1</td>\n",
       "      <td>N</td>\n",
       "      <td>43</td>\n",
       "      <td>230</td>\n",
       "      <td>1</td>\n",
       "      <td>...</td>\n",
       "      <td>2.56</td>\n",
       "      <td>0.0</td>\n",
       "      <td>0.3</td>\n",
       "      <td>15.36</td>\n",
       "      <td>29</td>\n",
       "      <td>12</td>\n",
       "      <td>2018</td>\n",
       "      <td>5</td>\n",
       "      <td>16</td>\n",
       "      <td>0</td>\n",
       "    </tr>\n",
       "    <tr>\n",
       "      <th>183538</th>\n",
       "      <td>2</td>\n",
       "      <td>2018-12-31 08:12:10</td>\n",
       "      <td>12/31/2018 08:15:02 AM</td>\n",
       "      <td>1</td>\n",
       "      <td>0.92</td>\n",
       "      <td>1</td>\n",
       "      <td>N</td>\n",
       "      <td>75</td>\n",
       "      <td>236</td>\n",
       "      <td>1</td>\n",
       "      <td>...</td>\n",
       "      <td>1.00</td>\n",
       "      <td>0.0</td>\n",
       "      <td>0.3</td>\n",
       "      <td>6.30</td>\n",
       "      <td>31</td>\n",
       "      <td>12</td>\n",
       "      <td>2018</td>\n",
       "      <td>0</td>\n",
       "      <td>8</td>\n",
       "      <td>0</td>\n",
       "    </tr>\n",
       "    <tr>\n",
       "      <th>757292</th>\n",
       "      <td>1</td>\n",
       "      <td>2018-12-28 12:20:01</td>\n",
       "      <td>12/28/2018 12:36:58 PM</td>\n",
       "      <td>1</td>\n",
       "      <td>1.80</td>\n",
       "      <td>1</td>\n",
       "      <td>N</td>\n",
       "      <td>162</td>\n",
       "      <td>48</td>\n",
       "      <td>1</td>\n",
       "      <td>...</td>\n",
       "      <td>3.50</td>\n",
       "      <td>0.0</td>\n",
       "      <td>0.3</td>\n",
       "      <td>15.80</td>\n",
       "      <td>28</td>\n",
       "      <td>12</td>\n",
       "      <td>2018</td>\n",
       "      <td>4</td>\n",
       "      <td>12</td>\n",
       "      <td>0</td>\n",
       "    </tr>\n",
       "    <tr>\n",
       "      <th>493305</th>\n",
       "      <td>2</td>\n",
       "      <td>2018-12-29 16:27:49</td>\n",
       "      <td>12/29/2018 04:34:39 PM</td>\n",
       "      <td>1</td>\n",
       "      <td>1.57</td>\n",
       "      <td>1</td>\n",
       "      <td>N</td>\n",
       "      <td>237</td>\n",
       "      <td>262</td>\n",
       "      <td>2</td>\n",
       "      <td>...</td>\n",
       "      <td>0.00</td>\n",
       "      <td>0.0</td>\n",
       "      <td>0.3</td>\n",
       "      <td>7.80</td>\n",
       "      <td>29</td>\n",
       "      <td>12</td>\n",
       "      <td>2018</td>\n",
       "      <td>5</td>\n",
       "      <td>16</td>\n",
       "      <td>0</td>\n",
       "    </tr>\n",
       "    <tr>\n",
       "      <th>1031982</th>\n",
       "      <td>2</td>\n",
       "      <td>2018-12-27 06:48:15</td>\n",
       "      <td>12/27/2018 06:54:14 AM</td>\n",
       "      <td>1</td>\n",
       "      <td>1.44</td>\n",
       "      <td>1</td>\n",
       "      <td>N</td>\n",
       "      <td>249</td>\n",
       "      <td>231</td>\n",
       "      <td>1</td>\n",
       "      <td>...</td>\n",
       "      <td>1.56</td>\n",
       "      <td>0.0</td>\n",
       "      <td>0.3</td>\n",
       "      <td>9.36</td>\n",
       "      <td>27</td>\n",
       "      <td>12</td>\n",
       "      <td>2018</td>\n",
       "      <td>3</td>\n",
       "      <td>6</td>\n",
       "      <td>0</td>\n",
       "    </tr>\n",
       "  </tbody>\n",
       "</table>\n",
       "<p>5 rows × 23 columns</p>\n",
       "</div>"
      ],
      "text/plain": [
       "         VendorID tpep_pickup_datetime   tpep_dropoff_datetime  \\\n",
       "496354          2  2018-12-29 16:13:23  12/29/2018 04:30:04 PM   \n",
       "183538          2  2018-12-31 08:12:10  12/31/2018 08:15:02 AM   \n",
       "757292          1  2018-12-28 12:20:01  12/28/2018 12:36:58 PM   \n",
       "493305          2  2018-12-29 16:27:49  12/29/2018 04:34:39 PM   \n",
       "1031982         2  2018-12-27 06:48:15  12/27/2018 06:54:14 AM   \n",
       "\n",
       "         passenger_count  trip_distance  RatecodeID store_and_fwd_flag  \\\n",
       "496354                 1           2.08           1                  N   \n",
       "183538                 1           0.92           1                  N   \n",
       "757292                 1           1.80           1                  N   \n",
       "493305                 1           1.57           1                  N   \n",
       "1031982                1           1.44           1                  N   \n",
       "\n",
       "         PULocationID  DOLocationID  payment_type  ...  tip_amount  \\\n",
       "496354             43           230             1  ...        2.56   \n",
       "183538             75           236             1  ...        1.00   \n",
       "757292            162            48             1  ...        3.50   \n",
       "493305            237           262             2  ...        0.00   \n",
       "1031982           249           231             1  ...        1.56   \n",
       "\n",
       "         tolls_amount  improvement_surcharge  total_amount  pickup_day  \\\n",
       "496354            0.0                    0.3         15.36          29   \n",
       "183538            0.0                    0.3          6.30          31   \n",
       "757292            0.0                    0.3         15.80          28   \n",
       "493305            0.0                    0.3          7.80          29   \n",
       "1031982           0.0                    0.3          9.36          27   \n",
       "\n",
       "         pickup_month  pickup_year  pickup_weekday  pickup_hour  \\\n",
       "496354             12         2018               5           16   \n",
       "183538             12         2018               0            8   \n",
       "757292             12         2018               4           12   \n",
       "493305             12         2018               5           16   \n",
       "1031982            12         2018               3            6   \n",
       "\n",
       "         mid_night_trip  \n",
       "496354                0  \n",
       "183538                0  \n",
       "757292                0  \n",
       "493305                0  \n",
       "1031982               0  \n",
       "\n",
       "[5 rows x 23 columns]"
      ]
     },
     "execution_count": 130,
     "metadata": {},
     "output_type": "execute_result"
    }
   ],
   "source": [
    "df['pickup_day']=pd.to_datetime(df.tpep_pickup_datetime,format='%Y-%m-%d %H:%M:%S').dt.day\n",
    "df['pickup_month']=pd.to_datetime(df.tpep_pickup_datetime,format='%Y-%m-%d %H:%M:%S').dt.month\n",
    "df['pickup_year']=pd.to_datetime(df.tpep_pickup_datetime,format='%Y-%m-%d %H:%M:%S').dt.year\n",
    "df['pickup_weekday'] = pd.DatetimeIndex(df.tpep_pickup_datetime).dayofweek\n",
    "df['pickup_hour']=pd.to_datetime(df.tpep_pickup_datetime,format='%Y-%m-%d %H:%M:%S').dt.hour\n",
    "df['mid_night_trip']=((df['pickup_hour']>23) | (df['pickup_hour']<6)).astype(int)\n",
    "df.head()"
   ]
  },
  {
   "cell_type": "code",
   "execution_count": 131,
   "metadata": {},
   "outputs": [
    {
     "data": {
      "image/png": "[encoded data removed]",
      "text/plain": [
       "<Figure size 864x576 with 4 Axes>"
      ]
     },
     "metadata": {
      "needs_background": "light"
     },
     "output_type": "display_data"
    }
   ],
   "source": [
    "plt.figure(figsize=(12,8))\n",
    "plt.subplot(2,2,1)\n",
    "sns.countplot(y='pickup_year', data=df,palette='Set2')\n",
    "plt.subplot(2,2,2)\n",
    "sns.countplot(x='pickup_month', data=df,palette='Set2')\n",
    "plt.subplot(2,2,3)\n",
    "sns.countplot(x='pickup_hour', data=df,palette='Set2')\n",
    "plt.subplot(2,2,4)\n",
    "sns.countplot(x='pickup_weekday', data=df,palette='Set2')\n",
    "plt.show()"
   ]
  },
  {
   "cell_type": "code",
   "execution_count": 139,
   "metadata": {},
   "outputs": [
    {
     "data": {
      "text/plain": [
       "<matplotlib.axes._subplots.AxesSubplot at 0x36ad33def0>"
      ]
     },
     "execution_count": 139,
     "metadata": {},
     "output_type": "execute_result"
    },
    {
     "data": {
      "image/png": "[encoded data removed]",
      "text/plain": [
       "<Figure size 432x288 with 1 Axes>"
      ]
     },
     "metadata": {
      "needs_background": "light"
     },
     "output_type": "display_data"
    }
   ],
   "source": [
    "sns.countplot(x='mid_night_trip',data=df,color=\"gray\")"
   ]
  },
  {
   "cell_type": "code",
   "execution_count": 138,
   "metadata": {},
   "outputs": [
    {
     "data": {
      "text/plain": [
       "<matplotlib.axes._subplots.AxesSubplot at 0x369b941a90>"
      ]
     },
     "execution_count": 138,
     "metadata": {},
     "output_type": "execute_result"
    },
    {
     "data": {
      "image/png": "[encoded data removed]",
      "text/plain": [
       "<Figure size 432x288 with 1 Axes>"
      ]
     },
     "metadata": {
      "needs_background": "light"
     },
     "output_type": "display_data"
    }
   ],
   "source": [
    "df.plot(x='total_amount',y='trip_distance',kind='scatter',color='red')"
   ]
  },
  {
   "cell_type": "code",
   "execution_count": null,
   "metadata": {},
   "outputs": [],
   "source": []
  },
  {
   "cell_type": "code",
   "execution_count": null,
   "metadata": {},
   "outputs": [],
   "source": []
  },
  {
   "cell_type": "code",
   "execution_count": null,
   "metadata": {},
   "outputs": [],
   "source": []
  },
  {
   "cell_type": "code",
   "execution_count": null,
   "metadata": {},
   "outputs": [],
   "source": []
  }
 ],
 "metadata": {
  "kernelspec": {
   "display_name": "Python 3",
   "language": "python",
   "name": "python3"
  },
  "language_info": {
   "codemirror_mode": {
    "name": "ipython",
    "version": 3
   },
   "file_extension": ".py",
   "mimetype": "text/x-python",
   "name": "python",
   "nbconvert_exporter": "python",
   "pygments_lexer": "ipython3",
   "version": "3.7.3"
  }
 },
 "nbformat": 4,
 "nbformat_minor": 2
}

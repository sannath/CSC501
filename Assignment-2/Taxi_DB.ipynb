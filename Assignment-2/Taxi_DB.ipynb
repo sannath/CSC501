{
 "cells": [
  {
   "cell_type": "code",
   "execution_count": 1,
   "metadata": {},
   "outputs": [],
   "source": [
    "import geopandas as gp \n",
    "import pandas as pd\n",
    "from sqlalchemy import create_engine"
   ]
  },
  {
   "cell_type": "code",
   "execution_count": 2,
   "metadata": {},
   "outputs": [],
   "source": [
    "taxi_db = create_engine(\"sqlite:///taxi_dbs.db\")"
   ]
  },
  {
   "cell_type": "code",
   "execution_count": 5,
   "metadata": {},
   "outputs": [
    {
     "name": "stdout",
     "output_type": "stream",
     "text": [
      "loading to sql_DB\n",
      "Wall time: 26.2 s\n"
     ]
    }
   ],
   "source": [
    "%%time\n",
    "chunk_size = 100000\n",
    "x = 0\n",
    "y = 1\n",
    "for data_f in pd.read_csv('taxi-sample.csv', chunksize=chunk_size, iterator=True):\n",
    "      data_f = data_f.rename(columns={c: c.replace(' ', '') for c in data_f.columns}) \n",
    "      data_f.index += y\n",
    "      x+=1\n",
    "      data_f.to_sql('taxi_Details', taxi_db, if_exists='append')\n",
    "      y = data_f.index[-1] + 1\n",
    "print(\"loading to sql_DB\")"
   ]
  }
 ],
 "metadata": {
  "kernelspec": {
   "display_name": "Python 3",
   "language": "python",
   "name": "python3"
  },
  "language_info": {
   "codemirror_mode": {
    "name": "ipython",
    "version": 3
   },
   "file_extension": ".py",
   "mimetype": "text/x-python",
   "name": "python",
   "nbconvert_exporter": "python",
   "pygments_lexer": "ipython3",
   "version": "3.7.3"
  }
 },
 "nbformat": 4,
 "nbformat_minor": 4
}

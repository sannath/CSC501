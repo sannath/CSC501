{
 "cells": [
  {
   "cell_type": "code",
   "execution_count": 1,
   "metadata": {},
   "outputs": [],
   "source": [
    "import pandas as pd\n",
    "#Punctuations\n",
    "import string\n",
    "#reg Expressions\n",
    "import re\n",
    "#emojis with description\n",
    "import demoji\n",
    "#sentences to words\n",
    "from nltk.tokenize import TreebankWordTokenizer\n",
    "#paras to sentences\n",
    "from nltk.tokenize import sent_tokenize\n",
    "#stopwords\n",
    "from nltk.corpus import stopwords\n",
    "#for converting word to vector\n",
    "import gensim.models.word2vec as w2v"
   ]
  },
  {
   "cell_type": "code",
   "execution_count": 2,
   "metadata": {},
   "outputs": [
    {
     "data": {
      "text/html": [
       "<div>\n",
       "<style scoped>\n",
       "    .dataframe tbody tr th:only-of-type {\n",
       "        vertical-align: middle;\n",
       "    }\n",
       "\n",
       "    .dataframe tbody tr th {\n",
       "        vertical-align: top;\n",
       "    }\n",
       "\n",
       "    .dataframe thead th {\n",
       "        text-align: right;\n",
       "    }\n",
       "</style>\n",
       "<table border=\"1\" class=\"dataframe\">\n",
       "  <thead>\n",
       "    <tr style=\"text-align: right;\">\n",
       "      <th></th>\n",
       "      <th>external_author_id</th>\n",
       "      <th>author</th>\n",
       "      <th>content</th>\n",
       "      <th>region</th>\n",
       "      <th>language</th>\n",
       "      <th>publish_date</th>\n",
       "      <th>harvested_date</th>\n",
       "      <th>following</th>\n",
       "      <th>followers</th>\n",
       "      <th>updates</th>\n",
       "      <th>...</th>\n",
       "      <th>account_type</th>\n",
       "      <th>retweet</th>\n",
       "      <th>account_category</th>\n",
       "      <th>new_june_2018</th>\n",
       "      <th>alt_external_id</th>\n",
       "      <th>tweet_id</th>\n",
       "      <th>article_url</th>\n",
       "      <th>tco1_step1</th>\n",
       "      <th>tco2_step1</th>\n",
       "      <th>tco3_step1</th>\n",
       "    </tr>\n",
       "  </thead>\n",
       "  <tbody>\n",
       "    <tr>\n",
       "      <th>0</th>\n",
       "      <td>906000000000000000</td>\n",
       "      <td>10_GOP</td>\n",
       "      <td>\"We have a sitting Democrat US Senator on tria...</td>\n",
       "      <td>Unknown</td>\n",
       "      <td>English</td>\n",
       "      <td>10/1/2017 19:58</td>\n",
       "      <td>10/1/2017 19:59</td>\n",
       "      <td>1052</td>\n",
       "      <td>9636</td>\n",
       "      <td>253</td>\n",
       "      <td>...</td>\n",
       "      <td>Right</td>\n",
       "      <td>0</td>\n",
       "      <td>RightTroll</td>\n",
       "      <td>0</td>\n",
       "      <td>905874659358453760</td>\n",
       "      <td>914580356430536707</td>\n",
       "      <td>http://twitter.com/905874659358453760/statuses...</td>\n",
       "      <td>https://twitter.com/10_gop/status/914580356430...</td>\n",
       "      <td>NaN</td>\n",
       "      <td>NaN</td>\n",
       "    </tr>\n",
       "    <tr>\n",
       "      <th>1</th>\n",
       "      <td>906000000000000000</td>\n",
       "      <td>10_GOP</td>\n",
       "      <td>Marshawn Lynch arrives to game in anti-Trump s...</td>\n",
       "      <td>Unknown</td>\n",
       "      <td>English</td>\n",
       "      <td>10/1/2017 22:43</td>\n",
       "      <td>10/1/2017 22:43</td>\n",
       "      <td>1054</td>\n",
       "      <td>9637</td>\n",
       "      <td>254</td>\n",
       "      <td>...</td>\n",
       "      <td>Right</td>\n",
       "      <td>0</td>\n",
       "      <td>RightTroll</td>\n",
       "      <td>0</td>\n",
       "      <td>905874659358453760</td>\n",
       "      <td>914621840496189440</td>\n",
       "      <td>http://twitter.com/905874659358453760/statuses...</td>\n",
       "      <td>https://twitter.com/damienwoody/status/9145685...</td>\n",
       "      <td>NaN</td>\n",
       "      <td>NaN</td>\n",
       "    </tr>\n",
       "    <tr>\n",
       "      <th>2</th>\n",
       "      <td>906000000000000000</td>\n",
       "      <td>10_GOP</td>\n",
       "      <td>Daughter of fallen Navy Sailor delivers powerf...</td>\n",
       "      <td>Unknown</td>\n",
       "      <td>English</td>\n",
       "      <td>10/1/2017 22:50</td>\n",
       "      <td>10/1/2017 22:51</td>\n",
       "      <td>1054</td>\n",
       "      <td>9637</td>\n",
       "      <td>255</td>\n",
       "      <td>...</td>\n",
       "      <td>Right</td>\n",
       "      <td>1</td>\n",
       "      <td>RightTroll</td>\n",
       "      <td>0</td>\n",
       "      <td>905874659358453760</td>\n",
       "      <td>914623490375979008</td>\n",
       "      <td>http://twitter.com/905874659358453760/statuses...</td>\n",
       "      <td>https://twitter.com/10_gop/status/913231923715...</td>\n",
       "      <td>NaN</td>\n",
       "      <td>NaN</td>\n",
       "    </tr>\n",
       "    <tr>\n",
       "      <th>3</th>\n",
       "      <td>906000000000000000</td>\n",
       "      <td>10_GOP</td>\n",
       "      <td>JUST IN: President Trump dedicates Presidents ...</td>\n",
       "      <td>Unknown</td>\n",
       "      <td>English</td>\n",
       "      <td>10/1/2017 23:52</td>\n",
       "      <td>10/1/2017 23:52</td>\n",
       "      <td>1062</td>\n",
       "      <td>9642</td>\n",
       "      <td>256</td>\n",
       "      <td>...</td>\n",
       "      <td>Right</td>\n",
       "      <td>0</td>\n",
       "      <td>RightTroll</td>\n",
       "      <td>0</td>\n",
       "      <td>905874659358453760</td>\n",
       "      <td>914639143690555392</td>\n",
       "      <td>http://twitter.com/905874659358453760/statuses...</td>\n",
       "      <td>https://twitter.com/10_gop/status/914639143690...</td>\n",
       "      <td>NaN</td>\n",
       "      <td>NaN</td>\n",
       "    </tr>\n",
       "    <tr>\n",
       "      <th>4</th>\n",
       "      <td>906000000000000000</td>\n",
       "      <td>10_GOP</td>\n",
       "      <td>19,000 RESPECTING our National Anthem! #StandF...</td>\n",
       "      <td>Unknown</td>\n",
       "      <td>English</td>\n",
       "      <td>10/1/2017 2:13</td>\n",
       "      <td>10/1/2017 2:13</td>\n",
       "      <td>1050</td>\n",
       "      <td>9645</td>\n",
       "      <td>246</td>\n",
       "      <td>...</td>\n",
       "      <td>Right</td>\n",
       "      <td>1</td>\n",
       "      <td>RightTroll</td>\n",
       "      <td>0</td>\n",
       "      <td>905874659358453760</td>\n",
       "      <td>914312219952861184</td>\n",
       "      <td>http://twitter.com/905874659358453760/statuses...</td>\n",
       "      <td>https://twitter.com/realDonaldTrump/status/914...</td>\n",
       "      <td>NaN</td>\n",
       "      <td>NaN</td>\n",
       "    </tr>\n",
       "  </tbody>\n",
       "</table>\n",
       "<p>5 rows × 21 columns</p>\n",
       "</div>"
      ],
      "text/plain": [
       "   external_author_id  author  \\\n",
       "0  906000000000000000  10_GOP   \n",
       "1  906000000000000000  10_GOP   \n",
       "2  906000000000000000  10_GOP   \n",
       "3  906000000000000000  10_GOP   \n",
       "4  906000000000000000  10_GOP   \n",
       "\n",
       "                                             content   region language  \\\n",
       "0  \"We have a sitting Democrat US Senator on tria...  Unknown  English   \n",
       "1  Marshawn Lynch arrives to game in anti-Trump s...  Unknown  English   \n",
       "2  Daughter of fallen Navy Sailor delivers powerf...  Unknown  English   \n",
       "3  JUST IN: President Trump dedicates Presidents ...  Unknown  English   \n",
       "4  19,000 RESPECTING our National Anthem! #StandF...  Unknown  English   \n",
       "\n",
       "      publish_date   harvested_date  following  followers  updates  ...  \\\n",
       "0  10/1/2017 19:58  10/1/2017 19:59       1052       9636      253  ...   \n",
       "1  10/1/2017 22:43  10/1/2017 22:43       1054       9637      254  ...   \n",
       "2  10/1/2017 22:50  10/1/2017 22:51       1054       9637      255  ...   \n",
       "3  10/1/2017 23:52  10/1/2017 23:52       1062       9642      256  ...   \n",
       "4   10/1/2017 2:13   10/1/2017 2:13       1050       9645      246  ...   \n",
       "\n",
       "  account_type retweet  account_category new_june_2018     alt_external_id  \\\n",
       "0        Right       0        RightTroll             0  905874659358453760   \n",
       "1        Right       0        RightTroll             0  905874659358453760   \n",
       "2        Right       1        RightTroll             0  905874659358453760   \n",
       "3        Right       0        RightTroll             0  905874659358453760   \n",
       "4        Right       1        RightTroll             0  905874659358453760   \n",
       "\n",
       "             tweet_id                                        article_url  \\\n",
       "0  914580356430536707  http://twitter.com/905874659358453760/statuses...   \n",
       "1  914621840496189440  http://twitter.com/905874659358453760/statuses...   \n",
       "2  914623490375979008  http://twitter.com/905874659358453760/statuses...   \n",
       "3  914639143690555392  http://twitter.com/905874659358453760/statuses...   \n",
       "4  914312219952861184  http://twitter.com/905874659358453760/statuses...   \n",
       "\n",
       "                                          tco1_step1 tco2_step1 tco3_step1  \n",
       "0  https://twitter.com/10_gop/status/914580356430...        NaN        NaN  \n",
       "1  https://twitter.com/damienwoody/status/9145685...        NaN        NaN  \n",
       "2  https://twitter.com/10_gop/status/913231923715...        NaN        NaN  \n",
       "3  https://twitter.com/10_gop/status/914639143690...        NaN        NaN  \n",
       "4  https://twitter.com/realDonaldTrump/status/914...        NaN        NaN  \n",
       "\n",
       "[5 rows x 21 columns]"
      ]
     },
     "execution_count": 2,
     "metadata": {},
     "output_type": "execute_result"
    }
   ],
   "source": [
    "file = pd.read_csv('IRAhandle_tweets_1.csv',nrows=1000)\n",
    "#file.head()"
   ]
  },
  {
   "cell_type": "code",
   "execution_count": 3,
   "metadata": {},
   "outputs": [],
   "source": [
    "# subset of entire csv based on (langugae = english and russian) as DATAFRAME"
   ]
  },
  {
   "cell_type": "code",
   "execution_count": 4,
   "metadata": {},
   "outputs": [],
   "source": [
    "text = file[(file['language']=='English') | (file['language']=='Russian')]"
   ]
  },
  {
   "cell_type": "code",
   "execution_count": 5,
   "metadata": {},
   "outputs": [],
   "source": [
    "text = text[['content','language']]"
   ]
  },
  {
   "cell_type": "code",
   "execution_count": 6,
   "metadata": {},
   "outputs": [],
   "source": [
    "text_df = text.sort_values(['language'])\n",
    "#text_df"
   ]
  },
  {
   "cell_type": "code",
   "execution_count": 7,
   "metadata": {},
   "outputs": [],
   "source": [
    "text_list = text_df.values.tolist()\n",
    "#text_list"
   ]
  },
  {
   "cell_type": "code",
   "execution_count": 8,
   "metadata": {},
   "outputs": [],
   "source": [
    "ind_russian = []\n",
    "ind_english = []\n",
    "\n",
    "for i in range(len(text_list)):\n",
    "    if text_list[i][1]=='Russian':\n",
    "        ind_russian.append(i)\n",
    "    else :\n",
    "        ind_english.append(i)"
   ]
  },
  {
   "cell_type": "code",
   "execution_count": 9,
   "metadata": {},
   "outputs": [],
   "source": [
    "#(1) filtering hyperlinks and \n",
    "#(2) remove numbers and convert text into lowercase\n",
    "#(3) separate emojis from text. create a list of set of emojis, each set represents the emojis in its respective locations tweet \n",
    "#(4) identifying '#' and creating a list of hashtag words\n",
    "#(5) sentence into words\n",
    "#(6) filtering punctuations\n",
    "#(7) stop-words for english and russian tweets"
   ]
  },
  {
   "cell_type": "code",
   "execution_count": 10,
   "metadata": {},
   "outputs": [
    {
     "name": "stdout",
     "output_type": "stream",
     "text": [
      "Wall time: 590 ms\n"
     ]
    }
   ],
   "source": [
    "%%time\n",
    "text_h = []\n",
    "emoji_list = []\n",
    "hashtags_list = []\n",
    "punch = string.punctuation\n",
    "stop_words_e = stopwords.words('english')\n",
    "stop_words_r = stopwords.words('russian')\n",
    "\n",
    "for i in range(len(text_list)):\n",
    "    \n",
    "    # (1)\n",
    "    tweet = re.sub(r'(https?:\\/\\/)(\\s)*(www\\.)?(\\s)*((\\w|\\s)+\\.)*([\\w\\-\\s]+\\/)*([\\w\\-]+)((\\?)?[\\w\\s]*=\\s*[\\w\\%&]*)*', '', text_list[i][0], flags=re.MULTILINE)\n",
    "\n",
    "    tweet = tweet.translate(str.maketrans('', '', string.punctuation))\n",
    "    \n",
    "    # (2)\n",
    "    tweet = re.sub(r'\\d+', '', tweet)\n",
    "    tweet = tweet.lower()\n",
    "\n",
    "    # (3)\n",
    "    emoji_set = demoji.findall(tweet)\n",
    "    emoji_list.append(emoji_set)\n",
    "    \n",
    "    # (4)\n",
    "    hastags_per_tweet = re.findall('\\#(\\w*)',tweet)\n",
    "    hashtags_list.append(hastags_per_tweet)\n",
    "    \n",
    "    # (5)\n",
    "    tweet = TreebankWordTokenizer().tokenize(tweet)\n",
    "    tweet.sort()\n",
    "    \n",
    "    # (6)\n",
    "    tweet = [words for words in tweet if words not in punch]\n",
    "    \n",
    "    # (7)\n",
    "    if i<len(ind_english):\n",
    "        tweet = [words for words in tweet if words not in stop_words_e]\n",
    "    else:\n",
    "        tweet = [words for words in tweet if words not in stop_words_r]\n",
    "    \n",
    "    text_h.append(tweet)"
   ]
  },
  {
   "cell_type": "code",
   "execution_count": 11,
   "metadata": {},
   "outputs": [],
   "source": [
    "#text_h"
   ]
  },
  {
   "cell_type": "code",
   "execution_count": 12,
   "metadata": {},
   "outputs": [],
   "source": [
    "# %%time\n",
    "# #model = w2v.Word2Vec(size=100, window=20, min_count=200, workers=4) \n",
    "# Create CBOW model \n",
    "#model1 = w2v.Word2Vec(text_h, min_count = 1,size = 100, window = 5) \n",
    "# Create Skip Gram model \n",
    "#model2 = w2v.Word2Vec(text_h, min_count = 1, size = 100, window = 5, sg = 1) "
   ]
  },
  {
   "cell_type": "code",
   "execution_count": 13,
   "metadata": {},
   "outputs": [],
   "source": [
    "from gensim import corpora\n",
    "# turn our tokenized documents into a id <-> term dictionary\n",
    "dictionary = corpora.Dictionary(text_h)\n",
    "\n",
    "# convert tokenized documents into a document-term matrix\n",
    "corpus=[dictionary.doc2bow(text) for text in text_h]"
   ]
  },
  {
   "cell_type": "code",
   "execution_count": 14,
   "metadata": {},
   "outputs": [
    {
     "name": "stdout",
     "output_type": "stream",
     "text": [
      "(0, '0.019*\"trump\" + 0.010*\"причина\" + 0.007*\"realdonaldtrump\" + 0.006*\"flag\"')\n",
      "(1, '0.019*\"trump\" + 0.011*\"president\" + 0.009*\"cnn\" + 0.006*\"mexico\"')\n",
      "(2, '0.015*\"realdonaldtrump\" + 0.013*\"причина\" + 0.012*\"president\" + 0.010*\"“\"')\n",
      "(3, '0.008*\"know\" + 0.006*\"dont\" + 0.006*\"trump\" + 0.005*\"happy\"')\n",
      "(4, '0.016*\"trump\" + 0.010*\"president\" + 0.010*\"people\" + 0.009*\"realdonaldtrump\"')\n",
      "Wall time: 3.88 s\n"
     ]
    }
   ],
   "source": [
    "%%time\n",
    "import gensim\n",
    "NUM_TOPICS = 5\n",
    "ldamodel = gensim.models.ldamodel.LdaModel(corpus, num_topics = NUM_TOPICS, id2word=dictionary, passes=15)\n",
    "ldamodel.save('model5.gensim')\n",
    "topics = ldamodel.print_topics(num_words=4)\n",
    "for topic in topics:\n",
    "    print(topic)"
   ]
  },
  {
   "cell_type": "code",
   "execution_count": 15,
   "metadata": {},
   "outputs": [
    {
     "name": "stderr",
     "output_type": "stream",
     "text": [
      "C:\\Users\\Mona\\Anaconda3\\lib\\site-packages\\pyLDAvis\\_prepare.py:257: FutureWarning: Sorting because non-concatenation axis is not aligned. A future version\n",
      "of pandas will change to not sort by default.\n",
      "\n",
      "To accept the future behavior, pass 'sort=False'.\n",
      "\n",
      "To retain the current behavior and silence the warning, pass 'sort=True'.\n",
      "\n",
      "  return pd.concat([default_term_info] + list(topic_dfs))\n"
     ]
    },
    {
     "name": "stdout",
     "output_type": "stream",
     "text": [
      "Wall time: 1min 45s\n"
     ]
    },
    {
     "data": {
      "text/html": [
       "\n",
       "<link rel=\"stylesheet\" type=\"text/css\" href=\"https://cdn.rawgit.com/bmabey/pyLDAvis/files/ldavis.v1.0.0.css\">\n",
       "\n",
       "\n",
       "<div id=\"ldavis_el29641769264210643862637416\"></div>\n",
       "<script type=\"text/javascript\">\n",
       "\n",
       "var ldavis_el29641769264210643862637416_data = {\"mdsDat\": {\"x\": [0.03410297434003662, 0.09771597236798815, -0.11821231986954298, 0.0459470951059673, -0.059553721944449], \"y\": [-0.08151962871650231, 0.03762922538649568, -0.06124903313647138, -0.017780526505108408, 0.12291996297158642], \"topics\": [1, 2, 3, 4, 5], \"cluster\": [1, 1, 1, 1, 1], \"Freq\": [17.733118057250977, 21.720666885375977, 22.98700714111328, 12.502577781677246, 25.05663299560547]}, \"tinfo\": {\"Category\": [\"Default\", \"Default\", \"Default\", \"Default\", \"Default\", \"Default\", \"Default\", \"Default\", \"Default\", \"Default\", \"Default\", \"Default\", \"Default\", \"Default\", \"Default\", \"Default\", \"Default\", \"Default\", \"Default\", \"Default\", \"Default\", \"Default\", \"Default\", \"Default\", \"Default\", \"Default\", \"Default\", \"Default\", \"Default\", \"Default\", \"Topic1\", \"Topic1\", \"Topic1\", \"Topic1\", \"Topic1\", \"Topic1\", \"Topic1\", \"Topic1\", \"Topic1\", \"Topic1\", \"Topic1\", \"Topic1\", \"Topic1\", \"Topic1\", \"Topic1\", \"Topic1\", \"Topic1\", \"Topic1\", \"Topic1\", \"Topic1\", \"Topic1\", \"Topic1\", \"Topic1\", \"Topic1\", \"Topic1\", \"Topic1\", \"Topic1\", \"Topic1\", \"Topic1\", \"Topic1\", \"Topic1\", \"Topic1\", \"Topic1\", \"Topic1\", \"Topic1\", \"Topic1\", \"Topic1\", \"Topic1\", \"Topic1\", \"Topic1\", \"Topic1\", \"Topic1\", \"Topic1\", \"Topic1\", \"Topic1\", \"Topic1\", \"Topic1\", \"Topic1\", \"Topic1\", \"Topic1\", \"Topic1\", \"Topic1\", \"Topic1\", \"Topic1\", \"Topic1\", \"Topic1\", \"Topic1\", \"Topic1\", \"Topic1\", \"Topic1\", \"Topic2\", \"Topic2\", \"Topic2\", \"Topic2\", \"Topic2\", \"Topic2\", \"Topic2\", \"Topic2\", \"Topic2\", \"Topic2\", \"Topic2\", \"Topic2\", \"Topic2\", \"Topic2\", \"Topic2\", \"Topic2\", \"Topic2\", \"Topic2\", \"Topic2\", \"Topic2\", \"Topic2\", \"Topic2\", \"Topic2\", \"Topic2\", \"Topic2\", \"Topic2\", \"Topic2\", \"Topic2\", \"Topic2\", \"Topic2\", \"Topic2\", \"Topic2\", \"Topic2\", \"Topic2\", \"Topic2\", \"Topic2\", \"Topic2\", \"Topic2\", \"Topic2\", \"Topic2\", \"Topic2\", \"Topic2\", \"Topic2\", \"Topic2\", \"Topic2\", \"Topic2\", \"Topic2\", \"Topic2\", \"Topic2\", \"Topic2\", \"Topic2\", \"Topic2\", \"Topic2\", \"Topic2\", \"Topic2\", \"Topic2\", \"Topic2\", \"Topic2\", \"Topic2\", \"Topic2\", \"Topic2\", \"Topic2\", \"Topic2\", \"Topic2\", \"Topic2\", \"Topic3\", \"Topic3\", \"Topic3\", \"Topic3\", \"Topic3\", \"Topic3\", \"Topic3\", \"Topic3\", \"Topic3\", \"Topic3\", \"Topic3\", \"Topic3\", \"Topic3\", \"Topic3\", \"Topic3\", \"Topic3\", \"Topic3\", \"Topic3\", \"Topic3\", \"Topic3\", \"Topic3\", \"Topic3\", \"Topic3\", \"Topic3\", \"Topic3\", \"Topic3\", \"Topic3\", \"Topic3\", \"Topic3\", \"Topic3\", \"Topic3\", \"Topic3\", \"Topic3\", \"Topic3\", \"Topic3\", \"Topic3\", \"Topic3\", \"Topic3\", \"Topic3\", \"Topic3\", \"Topic3\", \"Topic3\", \"Topic3\", \"Topic3\", \"Topic3\", \"Topic3\", \"Topic3\", \"Topic3\", \"Topic3\", \"Topic3\", \"Topic3\", \"Topic3\", \"Topic3\", \"Topic3\", \"Topic3\", \"Topic3\", \"Topic3\", \"Topic3\", \"Topic4\", \"Topic4\", \"Topic4\", \"Topic4\", \"Topic4\", \"Topic4\", \"Topic4\", \"Topic4\", \"Topic4\", \"Topic4\", \"Topic4\", \"Topic4\", \"Topic4\", \"Topic4\", \"Topic4\", \"Topic4\", \"Topic4\", \"Topic4\", \"Topic4\", \"Topic4\", \"Topic4\", \"Topic4\", \"Topic4\", \"Topic4\", \"Topic4\", \"Topic4\", \"Topic4\", \"Topic4\", \"Topic4\", \"Topic4\", \"Topic4\", \"Topic4\", \"Topic4\", \"Topic4\", \"Topic4\", \"Topic4\", \"Topic4\", \"Topic4\", \"Topic4\", \"Topic4\", \"Topic4\", \"Topic4\", \"Topic4\", \"Topic4\", \"Topic4\", \"Topic4\", \"Topic4\", \"Topic4\", \"Topic4\", \"Topic4\", \"Topic4\", \"Topic4\", \"Topic4\", \"Topic4\", \"Topic4\", \"Topic4\", \"Topic4\", \"Topic4\", \"Topic5\", \"Topic5\", \"Topic5\", \"Topic5\", \"Topic5\", \"Topic5\", \"Topic5\", \"Topic5\", \"Topic5\", \"Topic5\", \"Topic5\", \"Topic5\", \"Topic5\", \"Topic5\", \"Topic5\", \"Topic5\", \"Topic5\", \"Topic5\", \"Topic5\", \"Topic5\", \"Topic5\", \"Topic5\", \"Topic5\", \"Topic5\", \"Topic5\", \"Topic5\", \"Topic5\", \"Topic5\", \"Topic5\", \"Topic5\", \"Topic5\", \"Topic5\", \"Topic5\", \"Topic5\", \"Topic5\", \"Topic5\", \"Topic5\", \"Topic5\", \"Topic5\", \"Topic5\", \"Topic5\", \"Topic5\", \"Topic5\", \"Topic5\", \"Topic5\", \"Topic5\", \"Topic5\", \"Topic5\", \"Topic5\", \"Topic5\", \"Topic5\", \"Topic5\", \"Topic5\", \"Topic5\", \"Topic5\", \"Topic5\", \"Topic5\", \"Topic5\"], \"Freq\": [29.0, 14.0, 10.0, 12.0, 11.0, 6.0, 13.0, 7.0, 13.0, 34.0, 8.0, 27.0, 7.0, 5.0, 7.0, 8.0, 10.0, 6.0, 6.0, 3.0, 4.0, 2.0, 3.0, 3.0, 4.0, 5.0, 5.0, 5.0, 6.0, 18.0, 3.3630378246307373, 2.7287039756774902, 2.7278382778167725, 2.7263050079345703, 2.0780463218688965, 4.032013893127441, 3.37689208984375, 1.4295542240142822, 1.42954683303833, 1.429546594619751, 1.4295467138290405, 1.4295457601547241, 1.4295457601547241, 1.4295446872711182, 1.4295446872711182, 1.4295446872711182, 1.4295439720153809, 1.42953622341156, 1.429518461227417, 1.4294160604476929, 1.4293744564056396, 1.4293757677078247, 1.4293739795684814, 1.4292585849761963, 1.4289661645889282, 1.4289692640304565, 1.4289684295654297, 1.4289193153381348, 1.4288591146469116, 1.4288578033447266, 2.7300219535827637, 2.664114236831665, 4.4858479499816895, 2.0815048217773438, 2.0801632404327393, 3.729827880859375, 14.092185020446777, 7.302052974700928, 3.8208510875701904, 3.3623647689819336, 2.727590322494507, 2.082249164581299, 2.079875946044922, 2.0805816650390625, 2.0798990726470947, 2.081400156021118, 4.318630218505859, 3.621239423751831, 4.959186553955078, 2.6191296577453613, 2.0797922611236572, 2.733919143676758, 2.7337822914123535, 2.7319283485412598, 2.72953200340271, 2.256178379058838, 2.26971435546875, 2.0935544967651367, 2.0935139656066895, 2.0822153091430664, 2.2013964653015137, 2.2013845443725586, 2.2013821601867676, 2.2013776302337646, 2.2013707160949707, 2.2001075744628906, 2.2001051902770996, 2.1890645027160645, 2.189058542251587, 2.1836771965026855, 3.578279733657837, 1.5134116411209106, 1.5134111642837524, 1.5134106874465942, 1.513410210609436, 1.513410210609436, 1.5134106874465942, 1.5134100914001465, 1.51340913772583, 1.5134084224700928, 1.513407826423645, 1.513407588005066, 1.5134080648422241, 1.513407588005066, 1.5134074687957764, 1.5134071111679077, 1.513407588005066, 1.5134031772613525, 1.5134000778198242, 1.5133991241455078, 3.5667366981506348, 4.9465012550354, 2.8896586894989014, 2.8896167278289795, 5.1542816162109375, 4.481625556945801, 3.5662877559661865, 4.374160289764404, 4.948923110961914, 8.40123462677002, 2.890979290008545, 2.20223331451416, 2.2005527019500732, 3.5898683071136475, 2.200252056121826, 2.2027809619903564, 2.2026588916778564, 17.213762283325195, 2.1763973236083984, 10.25815486907959, 3.563852310180664, 3.581820249557495, 3.581080198287964, 3.8703391551971436, 2.8907601833343506, 2.887507915496826, 2.8778717517852783, 2.561814546585083, 2.892064332962036, 2.892024278640747, 2.8906877040863037, 2.889002561569214, 2.8788211345672607, 2.3761329650878906, 2.206904649734497, 4.3215556144714355, 9.16677474975586, 3.608036518096924, 2.927457332611084, 2.920241117477417, 10.05745792388916, 2.230409860610962, 2.2303268909454346, 2.7922794818878174, 2.22947096824646, 2.229037046432495, 2.227652072906494, 2.225963830947876, 2.2248215675354004, 9.415285110473633, 2.199084758758545, 4.324130535125732, 1.5333553552627563, 1.5333553552627563, 1.5333551168441772, 1.5333538055419922, 1.5333530902862549, 1.5333532094955444, 1.5333528518676758, 1.533353567123413, 1.533353567123413, 1.533353567123413, 1.5333528518676758, 1.5333524942398071, 1.5333524942398071, 9.52557373046875, 4.318883895874023, 2.9220223426818848, 2.930026054382324, 2.929737091064453, 2.9269521236419678, 4.328330993652344, 14.983014106750488, 7.782434463500977, 2.7312426567077637, 12.687277793884277, 4.6913580894470215, 2.2327256202697754, 11.950759887695312, 4.197490215301514, 5.020179271697998, 3.629913091659546, 9.438983917236328, 4.325596809387207, 2.9211723804473877, 3.6232106685638428, 3.0264945030212402, 3.445469379425049, 2.929736614227295, 2.930908679962158, 2.927701234817505, 2.927694082260132, 2.9270236492156982, 2.422743082046509, 1.8513853549957275, 1.2731951475143433, 1.2731941938400269, 1.273190975189209, 1.2731865644454956, 1.2731854915618896, 1.2731722593307495, 1.2731513977050781, 1.2731032371520996, 1.2730557918548584, 1.2730551958084106, 1.2726109027862549, 1.2725692987442017, 1.2723488807678223, 1.2720013856887817, 1.2719870805740356, 1.2719676494598389, 1.2719175815582275, 1.2718614339828491, 1.2640568017959595, 4.165924072265625, 2.437056064605713, 2.427597999572754, 0.6944244503974915, 0.6944244503974915, 0.6944245100021362, 0.6944242715835571, 0.6944242715835571, 0.6944241523742676, 2.4316649436950684, 2.441110610961914, 1.2743406295776367, 1.2737776041030884, 1.856086254119873, 1.272812843322754, 1.8578002452850342, 1.8532917499542236, 3.0199198722839355, 1.8534821271896362, 2.4347012042999268, 1.8518364429473877, 1.8528990745544434, 1.7444992065429688, 2.9997541904449463, 1.5892302989959717, 1.4580962657928467, 1.333884358406067, 1.2775812149047852, 1.2793116569519043, 1.2775861024856567, 1.2774535417556763, 1.2768527269363403, 1.2759170532226562, 1.2753112316131592, 1.275223731994629, 1.2750436067581177, 1.2747353315353394, 7.209835529327393, 4.367441177368164, 3.6762359142303467, 3.668238878250122, 2.9692509174346924, 2.9692294597625732, 2.9692282676696777, 2.9692277908325195, 2.9686245918273926, 2.965566396713257, 2.9633235931396484, 2.9598348140716553, 2.262254476547241, 2.2621874809265137, 2.261934280395508, 2.260939359664917, 2.260937452316284, 2.2606449127197266, 2.255847692489624, 2.2450292110443115, 3.6769909858703613, 10.762792587280273, 1.5552477836608887, 1.5552455186843872, 1.5552449226379395, 1.555245041847229, 1.5552442073822021, 1.5552442073822021, 1.555242657661438, 1.5552421808242798, 2.9653797149658203, 7.2154741287231445, 5.791360855102539, 9.068649291992188, 2.970062255859375, 2.969998359680176, 2.969115972518921, 2.9702608585357666, 3.6752641201019287, 4.869177341461182, 4.102164268493652, 16.66328239440918, 10.910819053649902, 9.469979286193848, 3.8491249084472656, 3.6765904426574707, 3.646681308746338, 3.679056167602539, 3.3578898906707764, 3.3041205406188965, 3.467965841293335, 3.6675422191619873, 3.3325774669647217, 2.976985216140747, 2.9748218059539795, 2.972060441970825, 2.97204852104187, 2.9717354774475098], \"Term\": [\"realdonaldtrump\", \"people\", \"mr\", \"\\u201c\", \"\\u201d\", \"know\", \"great\", \"thank\", \"\\u2019\", \"president\", \"wont\", \"\\u043f\\u0440\\u0438\\u0447\\u0438\\u043d\\u0430\", \"mexico\", \"got\", \"earthquake\", \"flag\", \"amp\", \"st\", \"city\", \"always\", \"asks\", \"john\", \"hurt\", \"liberal\", \"real\", \"right\", \"happy\", \"tweet\", \"melania\", \"cnn\", \"always\", \"supporter\", \"lock\", \"lady\", \"\\u2764\\ufe0f\\u2764\\ufe0f\", \"got\", \"real\", \"blame\", \"indoctrination\", \"places\", \"completely\", \"walk\", \"teacher\", \"chicago\", \"despite\", \"level\", \"\\u0438\\u043d\\u0442\\u0435\\u0440\\u043d\\u0435\\u0442\", \"nra\", \"skin\", \"nobody\", \"eminem\", \"idiot\", \"\\u043f\\u0440\\u0435\\u0434\\u043b\\u043e\\u0436\\u0438\\u043b\", \"friendship\", \"sessions\", \"guilt\", \"broadcast\", \"middle\", \"cut\", \"question\", \"youve\", \"change\", \"flag\", \"make\", \"behind\", \"white\", \"trump\", \"\\u043f\\u0440\\u0438\\u0447\\u0438\\u043d\\u0430\", \"first\", \"wont\", \"melania\", \"kids\", \"things\", \"time\", \"next\", \"youre\", \"cnn\", \"great\", \"realdonaldtrump\", \"earthquake\", \"doesnt\", \"love\", \"dont\", \"like\", \"hillary\", \"country\", \"police\", \"vegas\", \"las\", \"gop\", \"sailor\", \"massive\", \"viewers\", \"ago\", \"wall\", \"building\", \"collapses\", \"prayformexico\", \"magnitude\", \"paul\", \"american\", \"burns\", \"packers\", \"fallen\", \"gear\", \"delivers\", \"daughter\", \"monologue\", \"touched\", \"kaepernick\", \"defends\", \"floyd\", \"admitting\", \"neverforget\", \"ran\", \"mayweather\", \"former\", \"confirmed\", \"bill\", \"raw\", \"louis\", \"st\", \"san\", \"juan\", \"mexico\", \"city\", \"stlverdict\", \"earthquake\", \"wont\", \"cnn\", \"mayor\", \"two\", \"another\", \"never\", \"protest\", \"navy\", \"amendment\", \"trump\", \"rioters\", \"president\", \"manafort\", \"would\", \"nfl\", \"breaking\", \"one\", \"see\", \"video\", \"powerful\", \"\\u00ab\", \"\\u00bb\", \"like\", \"police\", \"\\u043f\\u0440\\u0438\\u0447\\u0438\\u043d\\u0430\", \"speech\", \"woman\", \"asks\", \"mr\", \"signing\", \"whats\", \"russians\", \"\\u201c\", \"book\", \"divided\", \"facebook\", \"espn\", \"hours\", \"benatberkeley\", \"wonderful\", \"books\", \"\\u201d\", \"important\", \"tweet\", \"seth\", \"advice\", \"emails\", \"rich\", \"corporations\", \"lose\", \"socialism\", \"ivana\", \"loomer\", \"haiti\", \"freedom\", \"grasp\", \"bannon\", \"\\u2019\", \"god\", \"bless\", \"america\", \"un\", \"need\", \"stop\", \"realdonaldtrump\", \"hillary\", \"gone\", \"\\u043f\\u0440\\u0438\\u0447\\u0438\\u043d\\u0430\", \"get\", \"stand\", \"president\", \"twitter\", \"police\", \"censorship\", \"trump\", \"like\", \"amazing\", \"love\", \"still\", \"first\", \"video\", \"take\", \"vegas\", \"las\", \"please\", \"john\", \"beauty\", \"restaurant\", \"rules\", \"speak\", \"constitutionday\", \"constitution\", \"multiple\", \"madness\", \"easy\", \"tom\", \"petty\", \"shed\", \"hailed\", \"cover\", \"wiretapping\", \"picked\", \"clapper\", \"dirt\", \"couldnt\", \"kelly\", \"know\", \"hurt\", \"liberal\", \"awareness\", \"heads\", \"proceeds\", \"donating\", \"shirts\", \"explode\", \"right\", \"happy\", \"someone\", \"tweets\", \"th\", \"style\", \"even\", \"world\", \"dont\", \"man\", \"people\", \"melania\", \"manafort\", \"much\", \"trump\", \"new\", \"back\", \"president\", \"death\", \"watch\", \"trumps\", \"love\", \"support\", \"well\", \"help\", \"liberals\", \"james\", \"\\ud83c\\uddfa\\ud83c\\uddf8\", \"thank\", \"social\", \"come\", \"georgia\", \"kill\", \"vedere\", \"streaming\", \"tv\", \"made\", \"condemn\", \"retweet\", \"tech\", \"friends\", \"obamacare\", \"joke\", \"burned\", \"violent\", \"ifiwerepresidentforoneday\", \"actually\", \"silence\", \"national\", \"people\", \"hospital\", \"hateful\", \"vegasstrong\", \"conservarives\", \"roam\", \"censors\", \"fully\", \"billion\", \"nice\", \"amp\", \"media\", \"great\", \"e\", \"rico\", \"fakenews\", \"potus\", \"follow\", \"obama\", \"anthem\", \"trump\", \"president\", \"realdonaldtrump\", \"house\", \"please\", \"see\", \"back\", \"country\", \"get\", \"police\", \"\\u043f\\u0440\\u0438\\u0447\\u0438\\u043d\\u0430\", \"cnn\", \"irma\", \"hurricane\", \"weinstein\", \"going\", \"puerto\"], \"Total\": [29.0, 14.0, 10.0, 12.0, 11.0, 6.0, 13.0, 7.0, 13.0, 34.0, 8.0, 27.0, 7.0, 5.0, 7.0, 8.0, 10.0, 6.0, 6.0, 3.0, 4.0, 2.0, 3.0, 3.0, 4.0, 5.0, 5.0, 5.0, 6.0, 18.0, 3.9146366119384766, 3.2634716033935547, 3.263530969619751, 3.263627052307129, 2.6136667728424072, 5.259763240814209, 4.4919352531433105, 1.9637227058410645, 1.9637197256088257, 1.9637196063995361, 1.9637199640274048, 1.9637196063995361, 1.9637198448181152, 1.963719367980957, 1.963719367980957, 1.9637196063995361, 1.9637186527252197, 1.9637165069580078, 1.963720440864563, 1.9637054204940796, 1.9636963605880737, 1.9637274742126465, 1.9637305736541748, 1.9636874198913574, 1.9637607336044312, 1.9637680053710938, 1.963768720626831, 1.9637725353240967, 1.9637782573699951, 1.9637776613235474, 3.9701757431030273, 3.9759790897369385, 8.00045394897461, 3.320204734802246, 3.3202919960021973, 7.976873397827148, 60.40796661376953, 27.802776336669922, 10.141475677490234, 8.730538368225098, 6.393750190734863, 3.998095750808716, 3.9893414974212646, 4.008074760437012, 4.007515907287598, 4.017125129699707, 18.300769805908203, 13.661554336547852, 29.719181060791016, 7.39700174331665, 4.586236953735352, 9.987482070922852, 11.016124725341797, 12.190139770507812, 14.171467781066895, 8.222105979919434, 13.762693405151367, 7.521258354187012, 7.521262168884277, 7.992282867431641, 2.7279417514801025, 2.7279372215270996, 2.727935552597046, 2.7279396057128906, 2.7279324531555176, 2.727864980697632, 2.7278642654418945, 2.7272415161132812, 2.7272403240203857, 2.7281417846679688, 4.682742595672607, 2.0399553775787354, 2.0399556159973145, 2.0399553775787354, 2.0399551391601562, 2.0399551391601562, 2.0399556159973145, 2.0399553775787354, 2.039954662322998, 2.03995418548584, 2.0399539470672607, 2.0399539470672607, 2.039954662322998, 2.0399539470672607, 2.0399537086486816, 2.0399537086486816, 2.03995418548584, 2.039951801300049, 2.039950370788574, 2.0399506092071533, 4.809826374053955, 6.893022537231445, 3.994645357131958, 3.994638442993164, 7.440162658691406, 6.752684116363525, 5.516837120056152, 7.39700174331665, 8.730538368225098, 18.300769805908203, 4.701334476470947, 3.3777308464050293, 3.377617835998535, 6.73548698425293, 3.4246277809143066, 3.4347236156463623, 3.4347305297851562, 60.40796661376953, 3.4331607818603516, 34.588008880615234, 7.253889560699463, 7.500311851501465, 7.627810478210449, 8.706642150878906, 6.085807800292969, 6.948213577270508, 6.910012245178223, 4.779099941253662, 8.220248222351074, 8.22023868560791, 12.190139770507812, 13.762693405151367, 27.802776336669922, 5.466401100158691, 5.359821796417236, 4.846295356750488, 10.413034439086914, 4.149435520172119, 3.4521937370300293, 3.4522504806518555, 12.375256538391113, 2.7551429271698, 2.755127191543579, 3.4503707885742188, 2.7551307678222656, 2.755160093307495, 2.755176067352295, 2.755079746246338, 2.755183696746826, 11.675577163696289, 2.752924919128418, 5.4254021644592285, 2.0580861568450928, 2.058086633682251, 2.0580861568450928, 2.0580856800079346, 2.0580852031707764, 2.0580852031707764, 2.0580849647521973, 2.0580859184265137, 2.0580859184265137, 2.0580859184265137, 2.0580852031707764, 2.0580852031707764, 2.0580849647521973, 13.918517112731934, 6.221445083618164, 4.1389570236206055, 4.158946514129639, 4.158934593200684, 4.158482074737549, 6.654480457305908, 29.719181060791016, 14.171467781066895, 4.16182804107666, 27.802776336669922, 9.063798904418945, 3.405000925064087, 34.588008880615234, 8.828180313110352, 13.762693405151367, 7.427407264709473, 60.40796661376953, 12.190139770507812, 5.516067981719971, 9.987482070922852, 6.632312774658203, 10.141475677490234, 6.910012245178223, 8.158636093139648, 7.521258354187012, 7.521262168884277, 6.987060070037842, 2.9806325435638428, 2.400454044342041, 1.821582555770874, 1.821582317352295, 1.821581244468689, 1.821580171585083, 1.8215800523757935, 1.8215875625610352, 1.8215707540512085, 1.8215558528900146, 1.8216012716293335, 1.8216015100479126, 1.8216915130615234, 1.82169771194458, 1.8217334747314453, 1.8218110799789429, 1.8218144178390503, 1.8218340873718262, 1.821823239326477, 1.8218313455581665, 1.8232797384262085, 6.091446399688721, 3.66572904586792, 3.676506996154785, 1.2428075075149536, 1.2428075075149536, 1.2428076267242432, 1.2428075075149536, 1.2428075075149536, 1.2428075075149536, 5.004580974578857, 5.04039192199707, 2.4711575508117676, 2.471235990524292, 3.7941455841064453, 2.4714207649230957, 4.452574729919434, 4.488883972167969, 11.016124725341797, 5.858579158782959, 14.271568298339844, 6.393750190734863, 7.253889560699463, 5.860053539276123, 60.40796661376953, 5.223765850067139, 8.756628036499023, 34.588008880615234, 2.5271034240722656, 3.8735060691833496, 5.269020080566406, 9.987482070922852, 5.99440336227417, 5.9090752601623535, 5.306801795959473, 4.5717453956604, 3.874626636505127, 3.855745792388916, 7.7339067459106445, 4.904783248901367, 4.199001789093018, 4.198451042175293, 3.49200177192688, 3.491992950439453, 3.491992950439453, 3.491992950439453, 3.4919872283935547, 3.491942882537842, 3.491788148880005, 3.491319417953491, 2.7849974632263184, 2.7849764823913574, 2.784984827041626, 2.7849607467651367, 2.7849631309509277, 2.7849628925323486, 2.784756660461426, 2.7835326194763184, 4.848792552947998, 14.271568298339844, 2.077986717224121, 2.0779855251312256, 2.0779850482940674, 2.0779852867126465, 2.0779850482940674, 2.0779852867126465, 2.077984094619751, 2.077983856201172, 4.070539474487305, 10.474981307983398, 8.391878128051758, 13.661554336547852, 4.1798248291015625, 4.179808139801025, 4.179668426513672, 4.188887596130371, 5.54562520980835, 8.748958587646484, 6.908835411071777, 60.40796661376953, 34.588008880615234, 29.719181060791016, 6.788169860839844, 6.987060070037842, 6.948213577270508, 8.756628036499023, 8.222105979919434, 9.063798904418945, 13.762693405151367, 27.802776336669922, 18.300769805908203, 8.2494535446167, 7.608711242675781, 7.499523162841797, 5.526531219482422, 5.564700126647949], \"loglift\": [30.0, 29.0, 28.0, 27.0, 26.0, 25.0, 24.0, 23.0, 22.0, 21.0, 20.0, 19.0, 18.0, 17.0, 16.0, 15.0, 14.0, 13.0, 12.0, 11.0, 10.0, 9.0, 8.0, 7.0, 6.0, 5.0, 4.0, 3.0, 2.0, 1.0, 1.5779000520706177, 1.5507999658584595, 1.5504000186920166, 1.5498000383377075, 1.5003999471664429, 1.4638999700546265, 1.4443999528884888, 1.4122999906539917, 1.4122999906539917, 1.4122999906539917, 1.4122999906539917, 1.4122999906539917, 1.4122999906539917, 1.4122999906539917, 1.4122999906539917, 1.4122999906539917, 1.4122999906539917, 1.4121999740600586, 1.4121999740600586, 1.4121999740600586, 1.4120999574661255, 1.4120999574661255, 1.4120999574661255, 1.4120999574661255, 1.4118000268936157, 1.4118000268936157, 1.4118000268936157, 1.4118000268936157, 1.4117000102996826, 1.4117000102996826, 1.3552000522613525, 1.329300045967102, 1.1512000560760498, 1.2627999782562256, 1.2620999813079834, 0.9696000218391418, 0.2741999924182892, 0.3928000032901764, 0.753600001335144, 0.775600016117096, 0.8777999877929688, 1.0773999691009521, 1.0784000158309937, 1.0741000175476074, 1.0738999843597412, 1.0721999406814575, 0.2856999933719635, 0.4020000100135803, -0.06080000102519989, 0.6915000081062317, 0.9388999938964844, 0.4341000020503998, 0.3361000120639801, 0.23409999907016754, 0.08259999752044678, 0.436599999666214, -0.07259999960660934, 0.45089998841285706, 0.45080000162124634, 0.3847000002861023, 1.3125, 1.312399983406067, 1.312399983406067, 1.312399983406067, 1.312399983406067, 1.311900019645691, 1.311900019645691, 1.3071000576019287, 1.3071000576019287, 1.3042999505996704, 1.2578999996185303, 1.2282999753952026, 1.2282999753952026, 1.2282999753952026, 1.2282999753952026, 1.2282999753952026, 1.2282999753952026, 1.2282999753952026, 1.2282999753952026, 1.2282999753952026, 1.2282999753952026, 1.2282999753952026, 1.2282999753952026, 1.2282999753952026, 1.2282999753952026, 1.2282999753952026, 1.2282999753952026, 1.2282999753952026, 1.2282999753952026, 1.2282999753952026, 1.2279000282287598, 1.195099949836731, 1.2030999660491943, 1.2030999660491943, 1.1598000526428223, 1.1169999837875366, 1.0906000137329102, 1.0015000104904175, 0.9592000246047974, 0.7483000159263611, 1.0406999588012695, 1.0992000102996826, 1.0983999967575073, 0.897599995136261, 1.0844999551773071, 1.0827000141143799, 1.0825999975204468, 0.27149999141693115, 1.0710999965667725, 0.31150001287460327, 0.8162000179290771, 0.7878000140190125, 0.770799994468689, 0.7161999940872192, 0.7825000286102295, 0.6488000154495239, 0.6510000228881836, 0.9034000039100647, 0.4823000133037567, 0.4823000133037567, 0.08780000358819962, -0.0340999998152256, -0.7408000230789185, 0.6937999725341797, 0.6395999789237976, 1.3555999994277954, 1.3428000211715698, 1.330399990081787, 1.305400013923645, 1.302899956703186, 1.2628999948501587, 1.2589999437332153, 1.2589000463485718, 1.2585999965667725, 1.2584999799728394, 1.2582999467849731, 1.257699966430664, 1.2569999694824219, 1.2563999891281128, 1.2551000118255615, 1.2455999851226807, 1.243399977684021, 1.1758999824523926, 1.1758999824523926, 1.1758999824523926, 1.1758999824523926, 1.1758999824523926, 1.1758999824523926, 1.1758999824523926, 1.1758999824523926, 1.1758999824523926, 1.1758999824523926, 1.1758999824523926, 1.1758999824523926, 1.1758999824523926, 1.090999960899353, 1.1052000522613525, 1.1220999956130981, 1.1200000047683716, 1.1198999881744385, 1.1190999746322632, 1.0400999784469604, 0.7853999733924866, 0.8708999752998352, 1.0490000247955322, 0.685699999332428, 0.8116999864578247, 1.048200011253357, 0.4074999988079071, 0.7268000245094299, 0.4616999924182892, 0.7542999982833862, -0.38600000739097595, 0.4341999888420105, 0.8345999717712402, 0.4562999904155731, 0.685699999332428, 0.39070001244544983, 0.6122000217437744, 0.4465000033378601, 0.5267000198364258, 0.5267000198364258, 0.6001999974250793, 1.871999979019165, 1.8194999694824219, 1.7210999727249146, 1.7210999727249146, 1.7210999727249146, 1.7210999727249146, 1.7210999727249146, 1.7209999561309814, 1.7209999561309814, 1.7209999561309814, 1.720900058746338, 1.720900058746338, 1.7204999923706055, 1.7204999923706055, 1.7202999591827393, 1.7200000286102295, 1.7200000286102295, 1.7200000286102295, 1.7199000120162964, 1.7199000120162964, 1.7129000425338745, 1.6993000507354736, 1.6710000038146973, 1.664199948310852, 1.4972000122070312, 1.4972000122070312, 1.4972000122070312, 1.4972000122070312, 1.4972000122070312, 1.4972000122070312, 1.3574999570846558, 1.354200005531311, 1.4170000553131104, 1.4164999723434448, 1.3641999959945679, 1.4156999588012695, 1.2051000595092773, 1.194599986076355, 0.785099983215332, 0.9283999800682068, 0.3107999861240387, 0.8400999903678894, 0.7143999934196472, 0.8675000071525574, -0.9233999848365784, 0.8892999887466431, 0.2865999937057495, -1.176200032234192, 1.3970999717712402, 0.9714000225067139, 0.6624000072479248, 0.02280000038444996, 0.532800018787384, 0.5464000105857849, 0.6534000039100647, 0.8025000095367432, 0.9678000211715698, 0.9724000096321106, 1.3138999938964844, 1.2680000066757202, 1.251099944114685, 1.2489999532699585, 1.2218999862670898, 1.2218999862670898, 1.2218999862670898, 1.2218999862670898, 1.2216999530792236, 1.2206000089645386, 1.2199000120162964, 1.2188999652862549, 1.1761000156402588, 1.1761000156402588, 1.1759999990463257, 1.1756000518798828, 1.1756000518798828, 1.1754000186920166, 1.1734000444412231, 1.1690000295639038, 1.1073999404907227, 1.1018999814987183, 1.0943000316619873, 1.0943000316619873, 1.0943000316619873, 1.0943000316619873, 1.0943000316619873, 1.0943000316619873, 1.0943000316619873, 1.0943000316619873, 1.0672999620437622, 1.011299967765808, 1.013100028038025, 0.9743000268936157, 1.0422999858856201, 1.0422999858856201, 1.042099952697754, 1.0401999950408936, 0.972599983215332, 0.7979999780654907, 0.8626999855041504, 0.09610000252723694, 0.23029999434947968, 0.24040000140666962, 0.8166999816894531, 0.7419999837875366, 0.7394000291824341, 0.5169000029563904, 0.4884999990463257, 0.3749000132083893, 0.00559999980032444, -0.6416000127792358, -0.3192000091075897, 0.36480000615119934, 0.4449000060558319, 0.45840001106262207, 0.763700008392334, 0.7566999793052673], \"logprob\": [30.0, 29.0, 28.0, 27.0, 26.0, 25.0, 24.0, 23.0, 22.0, 21.0, 20.0, 19.0, 18.0, 17.0, 16.0, 15.0, 14.0, 13.0, 12.0, 11.0, 10.0, 9.0, 8.0, 7.0, 6.0, 5.0, 4.0, 3.0, 2.0, 1.0, -5.412600040435791, -5.621600151062012, -5.6219000816345215, -5.622499942779541, -5.894000053405762, -5.231100082397461, -5.4085001945495605, -6.26800012588501, -6.268099784851074, -6.268099784851074, -6.268099784851074, -6.268099784851074, -6.268099784851074, -6.268099784851074, -6.268099784851074, -6.268099784851074, -6.268099784851074, -6.268099784851074, -6.268099784851074, -6.268099784851074, -6.268199920654297, -6.268199920654297, -6.268199920654297, -6.2683000564575195, -6.268499851226807, -6.268499851226807, -6.268499851226807, -6.268499851226807, -6.268499851226807, -6.268499851226807, -5.621099948883057, -5.645500183105469, -5.124499797821045, -5.892300128936768, -5.89300012588501, -5.309000015258789, -3.97979998588562, -4.63730001449585, -5.284900188446045, -5.412799835205078, -5.622000217437744, -5.892000198364258, -5.893099784851074, -5.8927998542785645, -5.893099784851074, -5.892399787902832, -5.162499904632568, -5.338600158691406, -5.024199962615967, -5.662600040435791, -5.893099784851074, -5.619699954986572, -5.619699954986572, -5.6203999519348145, -5.621300220489502, -5.811699867248535, -5.805799961090088, -5.886499881744385, -5.886600017547607, -5.892000198364258, -6.039100170135498, -6.0391998291015625, -6.0391998291015625, -6.0391998291015625, -6.0391998291015625, -6.039700031280518, -6.039700031280518, -6.0447998046875, -6.0447998046875, -6.0472002029418945, -5.553400039672852, -6.413899898529053, -6.413899898529053, -6.413899898529053, -6.413899898529053, -6.413899898529053, -6.413899898529053, -6.413899898529053, -6.413899898529053, -6.413899898529053, -6.413899898529053, -6.413899898529053, -6.413899898529053, -6.413899898529053, -6.413899898529053, -6.413899898529053, -6.413899898529053, -6.413899898529053, -6.413899898529053, -6.413899898529053, -5.556600093841553, -5.229599952697754, -5.767099857330322, -5.767099857330322, -5.188399791717529, -5.3282999992370605, -5.556700229644775, -5.352499961853027, -5.229100227355957, -4.699900150299072, -5.766600131988525, -6.03879976272583, -6.0395002365112305, -5.550099849700928, -6.039700031280518, -6.03849983215332, -6.038599967956543, -3.9825000762939453, -6.050600051879883, -4.500199794769287, -5.557400226593018, -5.5524001121521, -5.552599906921387, -5.474899768829346, -5.76669979095459, -5.7677998542785645, -5.771200180053711, -5.887499809265137, -5.766300201416016, -5.766300201416016, -5.76669979095459, -5.767300128936768, -5.770899772644043, -5.962800025939941, -6.036600112915039, -5.421299934387207, -4.669300079345703, -5.6016998291015625, -5.810800075531006, -5.813199996948242, -4.576600074768066, -6.082699775695801, -6.082799911499023, -5.857999801635742, -6.083099842071533, -6.0833001136779785, -6.084000110626221, -6.084700107574463, -6.08519983291626, -4.642600059509277, -6.09689998626709, -5.4207000732421875, -6.457399845123291, -6.457399845123291, -6.457399845123291, -6.457399845123291, -6.457399845123291, -6.457399845123291, -6.457399845123291, -6.457399845123291, -6.457399845123291, -6.457399845123291, -6.457399845123291, -6.457399845123291, -6.457399845123291, -4.630899906158447, -5.421899795532227, -5.812600135803223, -5.809899806976318, -5.809999942779541, -5.8109002113342285, -5.4197001457214355, -4.177999973297119, -4.833000183105469, -5.880099773406982, -4.344299793243408, -5.339200019836426, -6.081699848175049, -4.404099941253662, -5.450399875640869, -5.271399974822998, -5.595699787139893, -4.640100002288818, -5.420400142669678, -5.812900066375732, -5.597499847412109, -5.777500152587891, -5.647799968719482, -5.809999942779541, -5.809599876403809, -5.810699939727783, -5.810699939727783, -5.8109002113342285, -5.390999794006348, -5.659999847412109, -6.03439998626709, -6.03439998626709, -6.03439998626709, -6.03439998626709, -6.03439998626709, -6.03439998626709, -6.03439998626709, -6.0345001220703125, -6.0345001220703125, -6.0345001220703125, -6.034800052642822, -6.034900188446045, -6.034999847412109, -6.035299777984619, -6.035299777984619, -6.035299777984619, -6.035399913787842, -6.035399913787842, -6.041600227355957, -4.848999977111816, -5.3850998878479, -5.388999938964844, -6.640600204467773, -6.640600204467773, -6.640600204467773, -6.640600204467773, -6.640600204467773, -6.640600204467773, -5.38730001449585, -5.383500099182129, -6.0335001945495605, -6.033899784088135, -5.657400131225586, -6.0346999168396, -5.656499862670898, -5.658899784088135, -5.1707000732421875, -5.65880012512207, -5.386099815368652, -5.6596999168396, -5.659200191497803, -5.719399929046631, -5.1774001121521, -5.812699794769287, -5.898799896240234, -5.987800121307373, -6.030900001525879, -6.029600143432617, -6.030900001525879, -6.031000137329102, -6.031499862670898, -6.032199859619141, -6.032700061798096, -6.032800197601318, -6.032899856567383, -6.033199787139893, -4.995699882507324, -5.4969000816345215, -5.6691999435424805, -5.67140007019043, -5.882800102233887, -5.882800102233887, -5.882800102233887, -5.882800102233887, -5.882999897003174, -5.883999824523926, -5.884799957275391, -5.886000156402588, -6.154799938201904, -6.154799938201904, -6.154900074005127, -6.155300140380859, -6.155300140380859, -6.1554999351501465, -6.157599925994873, -6.162399768829346, -5.669000148773193, -4.59499979019165, -6.5295000076293945, -6.5295000076293945, -6.5295000076293945, -6.5295000076293945, -6.5295000076293945, -6.5295000076293945, -6.5295000076293945, -6.5295000076293945, -5.884099960327148, -4.994900226593018, -5.214700222015381, -4.766300201416016, -5.882500171661377, -5.882599830627441, -5.882800102233887, -5.882500171661377, -5.66949987411499, -5.388199806213379, -5.559599876403809, -4.157899856567383, -4.581399917602539, -4.7230000495910645, -5.623300075531006, -5.669099807739258, -5.677299976348877, -5.668499946594238, -5.759799957275391, -5.775899887084961, -5.727499961853027, -5.671599864959717, -5.767399787902832, -5.880199909210205, -5.880899906158447, -5.881899833679199, -5.881899833679199, -5.881999969482422]}, \"token.table\": {\"Topic\": [5, 2, 3, 2, 1, 2, 3, 2, 5, 3, 5, 2, 4, 1, 3, 5, 1, 2, 1, 2, 5, 3, 4, 1, 3, 4, 5, 3, 4, 1, 5, 3, 2, 5, 1, 2, 3, 3, 3, 1, 2, 3, 4, 5, 1, 2, 5, 2, 5, 3, 4, 5, 1, 5, 1, 1, 2, 4, 1, 2, 3, 4, 5, 2, 5, 1, 5, 2, 5, 4, 4, 3, 4, 1, 3, 5, 4, 1, 2, 4, 5, 2, 2, 1, 4, 3, 1, 3, 4, 4, 1, 2, 3, 4, 5, 2, 5, 1, 2, 4, 3, 1, 3, 1, 3, 4, 5, 4, 3, 2, 5, 2, 1, 2, 3, 5, 1, 2, 5, 2, 1, 3, 5, 2, 3, 5, 1, 5, 2, 5, 2, 3, 5, 2, 3, 1, 2, 3, 5, 3, 5, 1, 3, 4, 5, 1, 3, 3, 1, 4, 5, 1, 4, 3, 1, 4, 5, 5, 4, 2, 3, 4, 5, 1, 2, 3, 4, 5, 5, 3, 1, 3, 4, 5, 1, 2, 3, 5, 2, 4, 1, 5, 3, 1, 1, 2, 3, 5, 3, 1, 3, 4, 5, 4, 5, 2, 4, 2, 4, 1, 2, 3, 5, 2, 4, 1, 1, 3, 5, 1, 3, 4, 1, 3, 4, 5, 1, 2, 3, 4, 5, 1, 3, 3, 2, 5, 1, 2, 3, 4, 5, 5, 4, 2, 1, 5, 1, 2, 4, 5, 2, 4, 5, 2, 2, 4, 5, 2, 2, 3, 5, 1, 3, 4, 1, 2, 1, 2, 2, 3, 1, 2, 4, 5, 4, 1, 5, 2, 5, 3, 5, 1, 2, 3, 4, 5, 2, 2, 3, 4, 1, 3, 2, 3, 5, 4, 5, 1, 1, 1, 3, 4, 5, 5, 2, 3, 4, 2, 2, 2, 4, 5, 4, 4, 1, 3, 5, 1, 2, 3, 5, 3, 5, 2, 5, 2, 2, 3, 4, 5, 4, 2, 3, 2, 3, 5, 1, 2, 2, 1, 4, 1, 3, 5, 4, 5, 3, 2, 5, 1, 2, 4, 2, 5, 5, 4, 3, 2, 2, 4, 2, 5, 1, 3, 4, 4, 3, 5, 1, 5, 3, 1, 4, 4, 1, 2, 3, 2, 5, 1, 3, 1, 3, 4, 5, 2, 5, 1, 3, 4, 5, 1, 4, 2, 3, 4, 5, 1, 1, 2, 3, 4, 5, 1, 5, 2, 4, 5, 5, 1, 2, 1, 2, 5, 4, 2, 1, 2, 3, 4, 5, 1, 2, 3, 4, 5, 5, 3, 4, 1, 4, 3, 4, 5, 1, 2, 3, 5, 5, 1, 3, 5, 5, 2, 3, 5, 2, 5, 1, 2, 1, 3, 4, 5, 1, 2, 3, 4, 5, 1, 2, 3, 4, 5, 3, 1, 2, 4, 5, 4, 1, 2, 3, 4, 5, 3, 1, 2, 3, 4, 2, 3, 4, 5, 1, 3, 5, 1, 5, 1, 2, 3, 5, 1, 2, 3, 5, 1, 1, 1, 2, 3, 4, 5, 2, 3, 5, 1, 3, 1, 3, 1, 1, 2, 3, 4], \"Freq\": [0.7181956171989441, 0.9804139733314514, 0.9717763662338257, 0.7331540584564209, 0.7663546800613403, 0.3625771105289459, 0.5438656806945801, 0.5822873115539551, 0.29114365577697754, 0.7213365435600281, 0.24044550955295563, 0.8542002439498901, 0.21355006098747253, 0.09546556323766708, 0.19093112647533417, 0.6682589650154114, 0.29606664180755615, 0.5921332836151123, 0.1447421908378601, 0.2894843816757202, 0.5789687633514404, 0.8253726959228516, 0.8046298623085022, 0.1141992062330246, 0.342597633600235, 0.1141992062330246, 0.4567968249320984, 0.9717772006988525, 0.8331757187843323, 0.6023566722869873, 0.30117833614349365, 0.7259064316749573, 0.9804159998893738, 0.9624713659286499, 0.5092368721961975, 0.24160675704479218, 0.7248202562332153, 0.7259151339530945, 0.7259044051170349, 0.1148548424243927, 0.4594193696975708, 0.1148548424243927, 0.1148548424243927, 0.2297096848487854, 0.5092249512672424, 0.7331741452217102, 0.7181429862976074, 0.9804136157035828, 0.9624707102775574, 0.5385459661483765, 0.13463649153709412, 0.26927298307418823, 0.7545311450958252, 0.2515103816986084, 0.5092377066612244, 0.29617851972579956, 0.5923570394515991, 0.548897385597229, 0.2185700386762619, 0.4371400773525238, 0.10928501933813095, 0.054642509669065475, 0.16392752528190613, 0.7331743240356445, 0.9526073336601257, 0.5092375874519348, 0.8591206073760986, 0.9804153442382812, 0.9624707102775574, 0.5489739775657654, 0.5489739179611206, 0.971777081489563, 0.5488982200622559, 0.24324668943881989, 0.24324668943881989, 0.36487001180648804, 0.5489277243614197, 0.5092224478721619, 0.9804134964942932, 0.39570996165275574, 0.39570996165275574, 0.9804142713546753, 0.9804137349128723, 0.5092377066612244, 0.5489006638526917, 0.7259193062782288, 0.43608736991882324, 0.43608736991882324, 0.21804368495941162, 0.8046298623085022, 0.27232807874679565, 0.18155205249786377, 0.18155205249786377, 0.27232807874679565, 0.09077602624893188, 0.2392444759607315, 0.7177334427833557, 0.40556973218917847, 0.5407596230506897, 0.548981249332428, 0.9717766046524048, 0.5092437267303467, 0.7259183526039124, 0.22458915412425995, 0.22458915412425995, 0.4491783082485199, 0.22458915412425995, 0.8046298623085022, 0.8694717884063721, 0.239253431558609, 0.7177602648735046, 0.9804136157035828, 0.39441990852355957, 0.19720995426177979, 0.2958149313926697, 0.09860497713088989, 0.4999716281890869, 0.24998581409454346, 0.12499290704727173, 0.9804142713546753, 0.1803223192691803, 0.1803223192691803, 0.7212892770767212, 0.9804141521453857, 0.971777081489563, 0.7181335091590881, 0.5092459917068481, 0.9624712467193604, 0.9804137349128723, 0.9527323246002197, 0.11032901704311371, 0.5516451001167297, 0.33098703622817993, 0.321468710899353, 0.642937421798706, 0.18094532191753387, 0.18094532191753387, 0.18094532191753387, 0.5428360104560852, 0.7208371162414551, 0.24027903378009796, 0.25024139881134033, 0.25024139881134033, 0.12512069940567017, 0.3753620982170105, 0.7604904770851135, 0.19012261927127838, 0.971777081489563, 0.2927924394607544, 0.0731981098651886, 0.6587830185890198, 0.5092251300811768, 0.548938512802124, 0.9717767238616943, 0.19839726388454437, 0.39679452776908875, 0.39679452776908875, 0.9624705910682678, 0.8046298623085022, 0.18843741714954376, 0.3768748342990875, 0.18843741714954376, 0.18843741714954376, 0.2116929590702057, 0.14112864434719086, 0.5645145773887634, 0.07056432217359543, 0.07056432217359543, 0.9624700546264648, 0.7259106040000916, 0.147315114736557, 0.147315114736557, 0.147315114736557, 0.589260458946228, 0.1314283013343811, 0.2628566026687622, 0.2628566026687622, 0.3942849040031433, 0.27279701828956604, 0.5455940365791321, 0.5092356204986572, 0.7181424498558044, 0.7265000343322754, 0.5092376470565796, 0.12122014909982681, 0.24244029819965363, 0.24244029819965363, 0.36366045475006104, 0.9717767238616943, 0.2580893933773041, 0.2580893933773041, 0.2580893933773041, 0.2580893933773041, 0.6709985136985779, 0.7181367874145508, 0.7510066628456116, 0.25033554434776306, 0.9804141521453857, 0.5484622120857239, 0.5002381205558777, 0.25011906027793884, 0.25011906027793884, 0.8591060638427734, 0.3283292353153229, 0.6566584706306458, 0.9192226529121399, 0.265912801027298, 0.39886921644210815, 0.265912801027298, 0.5092376470565796, 0.2719973027706146, 0.5439946055412292, 0.21873484551906586, 0.4374696910381317, 0.21873484551906586, 0.21873484551906586, 0.2461005449295044, 0.2461005449295044, 0.32813405990600586, 0.08203351497650146, 0.16406702995300293, 0.9192497134208679, 0.9717767238616943, 0.971777081489563, 0.8316308259963989, 0.20790770649909973, 0.3003759980201721, 0.20025067031383514, 0.4005013406276703, 0.10012533515691757, 0.10012533515691757, 0.8591096997261047, 0.5489767789840698, 0.7333420515060425, 0.6023724675178528, 0.3011862337589264, 0.17068985104560852, 0.17068985104560852, 0.34137970209121704, 0.34137970209121704, 0.5514283180236816, 0.2757141590118408, 0.2757141590118408, 0.7331547141075134, 0.638116717338562, 0.2127055674791336, 0.2127055674791336, 0.9804143905639648, 0.23832567036151886, 0.11916283518075943, 0.7149770259857178, 0.4692082107067108, 0.3128054738044739, 0.3128054738044739, 0.26881131529808044, 0.6720283031463623, 0.5092239379882812, 0.9804136157035828, 0.0960334837436676, 0.8643013834953308, 0.17064690589904785, 0.3412938117980957, 0.3412938117980957, 0.3412938117980957, 0.5489717125892639, 0.20623691380023956, 0.8249476552009583, 0.5822885036468506, 0.2911442518234253, 0.7214170694351196, 0.24047236144542694, 0.14846736192703247, 0.5938694477081299, 0.14846736192703247, 0.14846736192703247, 0.14846736192703247, 0.9804142713546753, 0.3828655481338501, 0.3828655481338501, 0.3828655481338501, 0.49906226992607117, 0.49906226992607117, 0.5243968963623047, 0.13109922409057617, 0.3932976722717285, 0.24566768109798431, 0.7370030283927917, 0.5092413425445557, 0.5092384815216064, 0.22859863936901093, 0.11429931968450546, 0.11429931968450546, 0.5714966058731079, 0.7181389331817627, 0.4929501712322235, 0.32863345742225647, 0.16431672871112823, 0.9804134964942932, 0.7330996990203857, 0.07006938755512238, 0.14013877511024475, 0.7707632184028625, 0.5489674806594849, 0.5489033460617065, 0.5092376470565796, 0.4293651282787323, 0.5724868774414062, 0.14532038569450378, 0.21798059344291687, 0.36330097913742065, 0.21798059344291687, 0.23872686922550201, 0.7161805629730225, 0.6277332901954651, 0.41848883032798767, 0.7333417534828186, 0.2891175448894501, 0.3469410538673401, 0.028911754488945007, 0.3180292844772339, 0.8046297430992126, 0.5840050578117371, 0.29200252890586853, 0.3594084084033966, 0.1797042042016983, 0.5391126275062561, 0.5092226266860962, 0.9804143905639648, 0.9804158806800842, 0.6678636074066162, 0.22262120246887207, 0.16824151575565338, 0.5047245621681213, 0.30283471941947937, 0.5489732027053833, 0.8591586351394653, 0.9717768430709839, 0.2392454296350479, 0.7177363038063049, 0.19981692731380463, 0.39963385462760925, 0.39963385462760925, 0.5825535655021667, 0.2912767827510834, 0.9624708294868469, 0.5489732623100281, 0.8689983487129211, 0.7331534624099731, 0.7510053515434265, 0.25033512711524963, 0.4317656457424164, 0.5756875276565552, 0.5092269778251648, 0.9717766046524048, 0.5489403605461121, 0.8046298623085022, 0.9639865159988403, 0.7185114026069641, 0.5092374682426453, 0.8155304193496704, 0.9717772006988525, 0.4046686589717865, 0.4046686589717865, 0.5489736199378967, 0.1829357147216797, 0.3658714294433594, 0.3658714294433594, 0.7253711819648743, 0.29014846682548523, 0.2936856746673584, 0.5873713493347168, 0.1507769674062729, 0.45233088731765747, 0.1507769674062729, 0.1507769674062729, 0.7250531315803528, 0.3625265657901764, 0.15027469396591187, 0.6010987758636475, 0.15027469396591187, 0.8591082692146301, 0.4046255648136139, 0.4046255648136139, 0.3336445391178131, 0.3336445391178131, 0.16682226955890656, 0.16682226955890656, 0.9192664623260498, 0.1225695088505745, 0.245139017701149, 0.3677085340023041, 0.1225695088505745, 0.245139017701149, 0.5092375874519348, 0.8592739701271057, 0.26356396079063416, 0.5271279215812683, 0.26356396079063416, 0.9051052927970886, 0.501335859298706, 0.501335859298706, 0.4989926815032959, 0.24949634075164795, 0.24949634075164795, 0.5489675402641296, 0.9804139733314514, 0.2317575067281723, 0.2814198434352875, 0.14898696541786194, 0.04966232553124428, 0.2814198434352875, 0.1897886097431183, 0.1897886097431183, 0.1897886097431183, 0.1897886097431183, 0.3795772194862366, 0.8591082692146301, 0.7372725605964661, 0.18431814014911652, 0.4046558141708374, 0.4046558141708374, 0.4530945122241974, 0.11327362805604935, 0.33982089161872864, 0.29605674743652344, 0.5921134948730469, 0.7213385701179504, 0.24044619500637054, 0.8591082692146301, 0.2659129500389099, 0.39886942505836487, 0.2659129500389099, 0.9624708294868469, 0.43415263295173645, 0.43415263295173645, 0.14471754431724548, 0.7331551313400269, 0.7181423902511597, 0.5092376470565796, 0.7331559658050537, 0.25816404819488525, 0.25816404819488525, 0.25816404819488525, 0.25816404819488525, 0.13334180414676666, 0.13334180414676666, 0.2666836082935333, 0.13334180414676666, 0.4000254273414612, 0.16923122107982635, 0.16923122107982635, 0.3384624421596527, 0.16923122107982635, 0.16923122107982635, 0.8690126538276672, 0.5014495849609375, 0.12536239624023438, 0.12536239624023438, 0.3760871887207031, 0.5489043593406677, 0.18657337129116058, 0.37314674258232117, 0.18657337129116058, 0.18657337129116058, 0.18657337129116058, 0.7259318232536316, 0.3436214327812195, 0.5727023482322693, 0.4455450475215912, 0.4455450475215912, 0.533311128616333, 0.13332778215408325, 0.13332778215408325, 0.2666555643081665, 0.49786847829818726, 0.24893423914909363, 0.24893423914909363, 0.755634069442749, 0.251878023147583, 0.121650829911232, 0.3649524748325348, 0.243301659822464, 0.243301659822464, 0.12165097147226334, 0.3649528920650482, 0.24330194294452667, 0.24330194294452667, 0.5092379450798035, 0.5092348456382751, 0.2517734169960022, 0.107902891933918, 0.4675792157649994, 0.0359676294028759, 0.1438705176115036, 0.1436934620141983, 0.7184673547744751, 0.1436934620141983, 0.08080640435218811, 0.8080640435218811, 0.08564887195825577, 0.7708398103713989, 0.7652084827423096, 0.2593531906604767, 0.2593531906604767, 0.2593531906604767, 0.2593531906604767], \"Term\": [\"actually\", \"admitting\", \"advice\", \"ago\", \"always\", \"amazing\", \"amazing\", \"amendment\", \"amendment\", \"america\", \"america\", \"american\", \"american\", \"amp\", \"amp\", \"amp\", \"another\", \"another\", \"anthem\", \"anthem\", \"anthem\", \"asks\", \"awareness\", \"back\", \"back\", \"back\", \"back\", \"bannon\", \"beauty\", \"behind\", \"behind\", \"benatberkeley\", \"bill\", \"billion\", \"blame\", \"bless\", \"bless\", \"book\", \"books\", \"breaking\", \"breaking\", \"breaking\", \"breaking\", \"breaking\", \"broadcast\", \"building\", \"burned\", \"burns\", \"censors\", \"censorship\", \"censorship\", \"censorship\", \"change\", \"change\", \"chicago\", \"city\", \"city\", \"clapper\", \"cnn\", \"cnn\", \"cnn\", \"cnn\", \"cnn\", \"collapses\", \"come\", \"completely\", \"condemn\", \"confirmed\", \"conservarives\", \"constitution\", \"constitutionday\", \"corporations\", \"couldnt\", \"country\", \"country\", \"country\", \"cover\", \"cut\", \"daughter\", \"death\", \"death\", \"defends\", \"delivers\", \"despite\", \"dirt\", \"divided\", \"doesnt\", \"doesnt\", \"doesnt\", \"donating\", \"dont\", \"dont\", \"dont\", \"dont\", \"dont\", \"e\", \"e\", \"earthquake\", \"earthquake\", \"easy\", \"emails\", \"eminem\", \"espn\", \"even\", \"even\", \"even\", \"even\", \"explode\", \"facebook\", \"fakenews\", \"fakenews\", \"fallen\", \"first\", \"first\", \"first\", \"first\", \"flag\", \"flag\", \"flag\", \"floyd\", \"follow\", \"follow\", \"follow\", \"former\", \"freedom\", \"friends\", \"friendship\", \"fully\", \"gear\", \"georgia\", \"get\", \"get\", \"get\", \"god\", \"god\", \"going\", \"going\", \"going\", \"going\", \"gone\", \"gone\", \"gop\", \"gop\", \"gop\", \"gop\", \"got\", \"got\", \"grasp\", \"great\", \"great\", \"great\", \"guilt\", \"hailed\", \"haiti\", \"happy\", \"happy\", \"happy\", \"hateful\", \"heads\", \"help\", \"help\", \"help\", \"help\", \"hillary\", \"hillary\", \"hillary\", \"hillary\", \"hillary\", \"hospital\", \"hours\", \"house\", \"house\", \"house\", \"house\", \"hurricane\", \"hurricane\", \"hurricane\", \"hurricane\", \"hurt\", \"hurt\", \"idiot\", \"ifiwerepresidentforoneday\", \"important\", \"indoctrination\", \"irma\", \"irma\", \"irma\", \"irma\", \"ivana\", \"james\", \"james\", \"james\", \"james\", \"john\", \"joke\", \"juan\", \"juan\", \"kaepernick\", \"kelly\", \"kids\", \"kids\", \"kids\", \"kill\", \"know\", \"know\", \"lady\", \"las\", \"las\", \"las\", \"level\", \"liberal\", \"liberal\", \"liberals\", \"liberals\", \"liberals\", \"liberals\", \"like\", \"like\", \"like\", \"like\", \"like\", \"lock\", \"loomer\", \"lose\", \"louis\", \"louis\", \"love\", \"love\", \"love\", \"love\", \"love\", \"made\", \"madness\", \"magnitude\", \"make\", \"make\", \"man\", \"man\", \"man\", \"man\", \"manafort\", \"manafort\", \"manafort\", \"massive\", \"mayor\", \"mayor\", \"mayor\", \"mayweather\", \"media\", \"media\", \"media\", \"melania\", \"melania\", \"melania\", \"mexico\", \"mexico\", \"middle\", \"monologue\", \"mr\", \"mr\", \"much\", \"much\", \"much\", \"much\", \"multiple\", \"national\", \"national\", \"navy\", \"navy\", \"need\", \"need\", \"never\", \"never\", \"never\", \"never\", \"never\", \"neverforget\", \"new\", \"new\", \"new\", \"next\", \"next\", \"nfl\", \"nfl\", \"nfl\", \"nice\", \"nice\", \"nobody\", \"nra\", \"obama\", \"obama\", \"obama\", \"obama\", \"obamacare\", \"one\", \"one\", \"one\", \"packers\", \"paul\", \"people\", \"people\", \"people\", \"petty\", \"picked\", \"places\", \"please\", \"please\", \"police\", \"police\", \"police\", \"police\", \"potus\", \"potus\", \"powerful\", \"powerful\", \"prayformexico\", \"president\", \"president\", \"president\", \"president\", \"proceeds\", \"protest\", \"protest\", \"puerto\", \"puerto\", \"puerto\", \"question\", \"ran\", \"raw\", \"real\", \"real\", \"realdonaldtrump\", \"realdonaldtrump\", \"realdonaldtrump\", \"restaurant\", \"retweet\", \"rich\", \"rico\", \"rico\", \"right\", \"right\", \"right\", \"rioters\", \"rioters\", \"roam\", \"rules\", \"russians\", \"sailor\", \"san\", \"san\", \"see\", \"see\", \"sessions\", \"seth\", \"shed\", \"shirts\", \"signing\", \"silence\", \"skin\", \"social\", \"socialism\", \"someone\", \"someone\", \"speak\", \"speech\", \"speech\", \"speech\", \"st\", \"st\", \"stand\", \"stand\", \"still\", \"still\", \"still\", \"still\", \"stlverdict\", \"stlverdict\", \"stop\", \"stop\", \"stop\", \"streaming\", \"style\", \"style\", \"support\", \"support\", \"support\", \"support\", \"supporter\", \"take\", \"take\", \"take\", \"take\", \"take\", \"teacher\", \"tech\", \"th\", \"th\", \"th\", \"thank\", \"things\", \"things\", \"time\", \"time\", \"time\", \"tom\", \"touched\", \"trump\", \"trump\", \"trump\", \"trump\", \"trump\", \"trumps\", \"trumps\", \"trumps\", \"trumps\", \"trumps\", \"tv\", \"tweet\", \"tweet\", \"tweets\", \"tweets\", \"twitter\", \"twitter\", \"twitter\", \"two\", \"two\", \"un\", \"un\", \"vedere\", \"vegas\", \"vegas\", \"vegas\", \"vegasstrong\", \"video\", \"video\", \"video\", \"viewers\", \"violent\", \"walk\", \"wall\", \"watch\", \"watch\", \"watch\", \"watch\", \"weinstein\", \"weinstein\", \"weinstein\", \"weinstein\", \"weinstein\", \"well\", \"well\", \"well\", \"well\", \"well\", \"whats\", \"white\", \"white\", \"white\", \"white\", \"wiretapping\", \"woman\", \"woman\", \"woman\", \"woman\", \"woman\", \"wonderful\", \"wont\", \"wont\", \"world\", \"world\", \"would\", \"would\", \"would\", \"would\", \"youre\", \"youre\", \"youre\", \"youve\", \"youve\", \"\\u00ab\", \"\\u00ab\", \"\\u00ab\", \"\\u00ab\", \"\\u00bb\", \"\\u00bb\", \"\\u00bb\", \"\\u00bb\", \"\\u0438\\u043d\\u0442\\u0435\\u0440\\u043d\\u0435\\u0442\", \"\\u043f\\u0440\\u0435\\u0434\\u043b\\u043e\\u0436\\u0438\\u043b\", \"\\u043f\\u0440\\u0438\\u0447\\u0438\\u043d\\u0430\", \"\\u043f\\u0440\\u0438\\u0447\\u0438\\u043d\\u0430\", \"\\u043f\\u0440\\u0438\\u0447\\u0438\\u043d\\u0430\", \"\\u043f\\u0440\\u0438\\u0447\\u0438\\u043d\\u0430\", \"\\u043f\\u0440\\u0438\\u0447\\u0438\\u043d\\u0430\", \"\\u2019\", \"\\u2019\", \"\\u2019\", \"\\u201c\", \"\\u201c\", \"\\u201d\", \"\\u201d\", \"\\u2764\\ufe0f\\u2764\\ufe0f\", \"\\ud83c\\uddfa\\ud83c\\uddf8\", \"\\ud83c\\uddfa\\ud83c\\uddf8\", \"\\ud83c\\uddfa\\ud83c\\uddf8\", \"\\ud83c\\uddfa\\ud83c\\uddf8\"]}, \"R\": 30, \"lambda.step\": 0.01, \"plot.opts\": {\"xlab\": \"PC1\", \"ylab\": \"PC2\"}, \"topic.order\": [1, 2, 3, 4, 5]};\n",
       "\n",
       "function LDAvis_load_lib(url, callback){\n",
       "  var s = document.createElement('script');\n",
       "  s.src = url;\n",
       "  s.async = true;\n",
       "  s.onreadystatechange = s.onload = callback;\n",
       "  s.onerror = function(){console.warn(\"failed to load library \" + url);};\n",
       "  document.getElementsByTagName(\"head\")[0].appendChild(s);\n",
       "}\n",
       "\n",
       "if(typeof(LDAvis) !== \"undefined\"){\n",
       "   // already loaded: just create the visualization\n",
       "   !function(LDAvis){\n",
       "       new LDAvis(\"#\" + \"ldavis_el29641769264210643862637416\", ldavis_el29641769264210643862637416_data);\n",
       "   }(LDAvis);\n",
       "}else if(typeof define === \"function\" && define.amd){\n",
       "   // require.js is available: use it to load d3/LDAvis\n",
       "   require.config({paths: {d3: \"https://cdnjs.cloudflare.com/ajax/libs/d3/3.5.5/d3.min\"}});\n",
       "   require([\"d3\"], function(d3){\n",
       "      window.d3 = d3;\n",
       "      LDAvis_load_lib(\"https://cdn.rawgit.com/bmabey/pyLDAvis/files/ldavis.v1.0.0.js\", function(){\n",
       "        new LDAvis(\"#\" + \"ldavis_el29641769264210643862637416\", ldavis_el29641769264210643862637416_data);\n",
       "      });\n",
       "    });\n",
       "}else{\n",
       "    // require.js not available: dynamically load d3 & LDAvis\n",
       "    LDAvis_load_lib(\"https://cdnjs.cloudflare.com/ajax/libs/d3/3.5.5/d3.min.js\", function(){\n",
       "         LDAvis_load_lib(\"https://cdn.rawgit.com/bmabey/pyLDAvis/files/ldavis.v1.0.0.js\", function(){\n",
       "                 new LDAvis(\"#\" + \"ldavis_el29641769264210643862637416\", ldavis_el29641769264210643862637416_data);\n",
       "            })\n",
       "         });\n",
       "}\n",
       "</script>"
      ],
      "text/plain": [
       "<IPython.core.display.HTML object>"
      ]
     },
     "execution_count": 15,
     "metadata": {},
     "output_type": "execute_result"
    }
   ],
   "source": [
    "%%time\n",
    "import pyLDAvis.gensim\n",
    "lda_display = pyLDAvis.gensim.prepare(ldamodel, corpus, dictionary, sort_topics=False)\n",
    "pyLDAvis.display(lda_display)"
   ]
  },
  {
   "cell_type": "code",
   "execution_count": 17,
   "metadata": {},
   "outputs": [
    {
     "name": "stdout",
     "output_type": "stream",
     "text": [
      "\n",
      "Perplexity:  -7.870451016183864\n",
      "\n",
      "Coherence Score:  0.5757121463422921\n"
     ]
    }
   ],
   "source": [
    "from gensim.models import CoherenceModel\n",
    "\n",
    "# Compute Perplexity\n",
    "print('\\nPerplexity: ', ldamodel.log_perplexity(corpus))  # a measure of how good the model is. lower the better.\n",
    "\n",
    "# Compute Coherence Score\n",
    "coherence_model_lda = CoherenceModel(model=ldamodel, texts=text_h, dictionary=dictionary, coherence='c_v')\n",
    "coherence_lda = coherence_model_lda.get_coherence()\n",
    "print('\\nCoherence Score: ', coherence_lda)"
   ]
  },
  {
   "cell_type": "code",
   "execution_count": null,
   "metadata": {},
   "outputs": [],
   "source": []
  },
  {
   "cell_type": "code",
   "execution_count": 17,
   "metadata": {},
   "outputs": [],
   "source": []
  },
  {
   "cell_type": "code",
   "execution_count": null,
   "metadata": {},
   "outputs": [],
   "source": []
  },
  {
   "cell_type": "code",
   "execution_count": null,
   "metadata": {},
   "outputs": [],
   "source": []
  },
  {
   "cell_type": "code",
   "execution_count": null,
   "metadata": {},
   "outputs": [],
   "source": []
  },
  {
   "cell_type": "code",
   "execution_count": null,
   "metadata": {},
   "outputs": [],
   "source": []
  },
  {
   "cell_type": "code",
   "execution_count": null,
   "metadata": {},
   "outputs": [],
   "source": []
  },
  {
   "cell_type": "code",
   "execution_count": null,
   "metadata": {},
   "outputs": [],
   "source": []
  },
  {
   "cell_type": "code",
   "execution_count": null,
   "metadata": {},
   "outputs": [],
   "source": [
    "\n"
   ]
  },
  {
   "cell_type": "code",
   "execution_count": null,
   "metadata": {},
   "outputs": [],
   "source": []
  },
  {
   "cell_type": "code",
   "execution_count": null,
   "metadata": {},
   "outputs": [],
   "source": []
  },
  {
   "cell_type": "code",
   "execution_count": null,
   "metadata": {},
   "outputs": [],
   "source": []
  },
  {
   "cell_type": "code",
   "execution_count": null,
   "metadata": {},
   "outputs": [],
   "source": []
  },
  {
   "cell_type": "code",
   "execution_count": null,
   "metadata": {},
   "outputs": [],
   "source": []
  },
  {
   "cell_type": "code",
   "execution_count": null,
   "metadata": {},
   "outputs": [],
   "source": []
  },
  {
   "cell_type": "code",
   "execution_count": null,
   "metadata": {},
   "outputs": [],
   "source": []
  },
  {
   "cell_type": "code",
   "execution_count": null,
   "metadata": {},
   "outputs": [],
   "source": []
  },
  {
   "cell_type": "code",
   "execution_count": null,
   "metadata": {},
   "outputs": [],
   "source": []
  },
  {
   "cell_type": "code",
   "execution_count": null,
   "metadata": {},
   "outputs": [],
   "source": []
  },
  {
   "cell_type": "code",
   "execution_count": null,
   "metadata": {},
   "outputs": [],
   "source": []
  },
  {
   "cell_type": "code",
   "execution_count": null,
   "metadata": {},
   "outputs": [],
   "source": []
  }
 ],
 "metadata": {
  "kernelspec": {
   "display_name": "Python 3",
   "language": "python",
   "name": "python3"
  },
  "language_info": {
   "codemirror_mode": {
    "name": "ipython",
    "version": 3
   },
   "file_extension": ".py",
   "mimetype": "text/x-python",
   "name": "python",
   "nbconvert_exporter": "python",
   "pygments_lexer": "ipython3",
   "version": "3.7.4"
  }
 },
 "nbformat": 4,
 "nbformat_minor": 2
}

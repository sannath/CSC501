{
 "cells": [
  {
   "cell_type": "code",
   "execution_count": 1,
   "metadata": {},
   "outputs": [],
   "source": [
    "import pandas as pd\n",
    "\n",
    "#Punctuations\n",
    "import string\n",
    "\n",
    "#reg Expressions\n",
    "import re\n",
    "\n",
    "#emojis with description\n",
    "import demoji\n",
    "\n",
    "#sentences to words\n",
    "from nltk.tokenize import TreebankWordTokenizer\n",
    "\n",
    "#paras to sentences\n",
    "from nltk.tokenize import sent_tokenize\n",
    "\n",
    "#stopwords\n",
    "from nltk.corpus import stopwords\n"
   ]
  },
  {
   "cell_type": "code",
   "execution_count": 2,
   "metadata": {},
   "outputs": [],
   "source": [
    "file = pd.read_csv('IRAhandle_tweets_1.csv')"
   ]
  },
  {
   "cell_type": "code",
   "execution_count": null,
   "metadata": {},
   "outputs": [],
   "source": []
  },
  {
   "cell_type": "code",
   "execution_count": 3,
   "metadata": {},
   "outputs": [],
   "source": [
    "# subset of entire csv based on (langugae = english and russian) as DATAFRAME"
   ]
  },
  {
   "cell_type": "code",
   "execution_count": null,
   "metadata": {},
   "outputs": [],
   "source": []
  },
  {
   "cell_type": "code",
   "execution_count": 4,
   "metadata": {},
   "outputs": [],
   "source": [
    "text = file[(file['language']=='English') | (file['language']=='Russian')]"
   ]
  },
  {
   "cell_type": "code",
   "execution_count": 5,
   "metadata": {},
   "outputs": [],
   "source": [
    "text = text[['content','language']]"
   ]
  },
  {
   "cell_type": "code",
   "execution_count": 6,
   "metadata": {},
   "outputs": [],
   "source": [
    "text_df = text.sort_values(['language'])"
   ]
  },
  {
   "cell_type": "code",
   "execution_count": 7,
   "metadata": {},
   "outputs": [],
   "source": [
    "text_list = text_df.values.tolist()"
   ]
  },
  {
   "cell_type": "code",
   "execution_count": null,
   "metadata": {},
   "outputs": [],
   "source": []
  },
  {
   "cell_type": "code",
   "execution_count": 8,
   "metadata": {},
   "outputs": [],
   "source": [
    "ind_russian = []\n",
    "ind_english = []\n",
    "\n",
    "for i in range(len(text_list)):\n",
    "    if text_list[i][1]=='Russian':\n",
    "        ind_russian.append(i)\n",
    "    else :\n",
    "        ind_english.append(i)\n"
   ]
  },
  {
   "cell_type": "code",
   "execution_count": null,
   "metadata": {},
   "outputs": [],
   "source": []
  },
  {
   "cell_type": "code",
   "execution_count": 9,
   "metadata": {},
   "outputs": [],
   "source": [
    "#(1) filtering hyperlinks and \n",
    "#(2) remove numbers and convert text into lowercase\n",
    "#(3) separate emojis from text. create a list of set of emojis, each set represents the emojis in its respective locations tweet \n",
    "#(4) identifying '#' and creating a list of hashtag words\n",
    "#(5) sentence into words\n",
    "#(6) filtering punctuations\n",
    "#(7) stop-words for english and russian tweets"
   ]
  },
  {
   "cell_type": "code",
   "execution_count": 10,
   "metadata": {},
   "outputs": [
    {
     "name": "stdout",
     "output_type": "stream",
     "text": [
      "Wall time: 1min 46s\n"
     ]
    }
   ],
   "source": [
    "%%time\n",
    "text_h = []\n",
    "emoji_list = []\n",
    "hashtags_list = []\n",
    "punch = string.punctuation\n",
    "stop_words_e = stopwords.words('english')\n",
    "stop_words_r = stopwords.words('russian')\n",
    "\n",
    "for i in range(len(text_list)):\n",
    "    \n",
    "    # (1)\n",
    "    tweet = re.sub(r'(https?:\\/\\/)(\\s)*(www\\.)?(\\s)*((\\w|\\s)+\\.)*([\\w\\-\\s]+\\/)*([\\w\\-]+)((\\?)?[\\w\\s]*=\\s*[\\w\\%&]*)*', '', text_list[i][0], flags=re.MULTILINE)\n",
    "\n",
    "    tweet = tweet.translate(str.maketrans('', '', string.punctuation))\n",
    "    \n",
    "    # (2)\n",
    "    tweet = re.sub(r'\\d+', '', tweet)\n",
    "    tweet = tweet.lower()\n",
    "\n",
    "    # (3)\n",
    "    emoji_set = demoji.findall(tweet)\n",
    "    emoji_list.append(emoji_set)\n",
    "    \n",
    "    # (4)\n",
    "    hastags_per_tweet = re.findall('\\#(\\w*)',tweet)\n",
    "    hashtags_list.append(hastags_per_tweet)\n",
    "    \n",
    "    # (5)\n",
    "    tweet = TreebankWordTokenizer().tokenize(tweet)\n",
    "    tweet.sort()\n",
    "    \n",
    "    # (6)\n",
    "    tweet = [words for words in tweet if words not in punch]\n",
    "    \n",
    "    # (7)\n",
    "    if i<len(ind_english):\n",
    "        tweet = [words for words in tweet if words not in stop_words_e]\n",
    "    else:\n",
    "        tweet = [words for words in tweet if words not in stop_words_r]\n",
    "    \n",
    "    text_h.append(tweet)"
   ]
  },
  {
   "cell_type": "code",
   "execution_count": 11,
   "metadata": {},
   "outputs": [],
   "source": [
    "# emoji_list[:100]\n",
    "# text_h[:10]\n",
    "# hashtags_list[:10]"
   ]
  },
  {
   "cell_type": "code",
   "execution_count": null,
   "metadata": {},
   "outputs": [],
   "source": []
  },
  {
   "cell_type": "code",
   "execution_count": 12,
   "metadata": {},
   "outputs": [],
   "source": [
    "##########    Data Modelling      #######"
   ]
  },
  {
   "cell_type": "code",
   "execution_count": 13,
   "metadata": {},
   "outputs": [],
   "source": [
    "# one-hot vector"
   ]
  },
  {
   "cell_type": "code",
   "execution_count": 25,
   "metadata": {},
   "outputs": [],
   "source": [
    "# BoG"
   ]
  },
  {
   "cell_type": "code",
   "execution_count": 26,
   "metadata": {},
   "outputs": [],
   "source": [
    "# Transition Matrix"
   ]
  },
  {
   "cell_type": "code",
   "execution_count": null,
   "metadata": {},
   "outputs": [],
   "source": [
    "# 1-Skip-gram"
   ]
  }
 ],
 "metadata": {
  "kernelspec": {
   "display_name": "Python 3",
   "language": "python",
   "name": "python3"
  },
  "language_info": {
   "codemirror_mode": {
    "name": "ipython",
    "version": 3
   },
   "file_extension": ".py",
   "mimetype": "text/x-python",
   "name": "python",
   "nbconvert_exporter": "python",
   "pygments_lexer": "ipython3",
   "version": "3.7.3"
  }
 },
 "nbformat": 4,
 "nbformat_minor": 4
}

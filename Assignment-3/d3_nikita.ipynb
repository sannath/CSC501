{
 "cells": [
  {
   "cell_type": "code",
   "execution_count": 11,
   "metadata": {},
   "outputs": [],
   "source": [
    "import numpy as np\n",
    "import random\n",
    "import networkx as nx\n",
    "from IPython.display import Image\n",
    "import matplotlib.pyplot as plt\n",
    "from js.d3 import d3\n",
    "d3.need()"
   ]
  },
  {
   "cell_type": "code",
   "execution_count": 16,
   "metadata": {},
   "outputs": [],
   "source": [
    "import json"
   ]
  },
  {
   "cell_type": "code",
   "execution_count": 44,
   "metadata": {},
   "outputs": [
    {
     "data": {
      "text/plain": [
       "NodeView((0, 1, 2, 3, 4, 5, 6, 7, 8, 9, 10, 11, 12, 13, 14, 15, 16, 17, 18, 19, 20, 21, 22, 23, 24, 25, 26, 27, 28, 29, 30, 31, 32, 33))"
      ]
     },
     "execution_count": 44,
     "metadata": {},
     "output_type": "execute_result"
    }
   ],
   "source": [
    "g = nx.karate_club_graph()\n",
    "# edges = [(0, 0), (0, 1), (0, 2), (1, 2), (2, 0), (2, 1), (2, 2)]\n",
    "# G = nx.DiGraph(edges)\n",
    "#len(list(nx.simple_cycles(G)))\n",
    "g.nodes()"
   ]
  },
  {
   "cell_type": "code",
   "execution_count": 41,
   "metadata": {},
   "outputs": [],
   "source": [
    "nodes = [{'name': str(i), 'club': g.node[i]['club']}\n",
    "         for i in g.nodes()]\n",
    "links = [{'source': u[0], 'target': u[1]}\n",
    "         for u in g.edges()]\n",
    "with open('graph.json', 'w') as f:\n",
    "    json.dump({'nodes': nodes, 'links': links},\n",
    "              f, indent=4,)"
   ]
  },
  {
   "cell_type": "code",
   "execution_count": 46,
   "metadata": {},
   "outputs": [
    {
     "data": {
      "text/html": [
       "<div id=\"d3-example\"></div>\n",
       "<style>\n",
       ".node {stroke: #fff; stroke-width: 1.5px;}\n",
       ".link {stroke: #999; stroke-opacity: .6;}\n",
       "</style>\n"
      ],
      "text/plain": [
       "<IPython.core.display.HTML object>"
      ]
     },
     "metadata": {},
     "output_type": "display_data"
    }
   ],
   "source": [
    "%%html\n",
    "<div id=\"d3-example\"></div>\n",
    "<style>\n",
    ".node {stroke: #fff; stroke-width: 1.5px;}\n",
    ".link {stroke: #999; stroke-opacity: .6;}\n",
    "</style>"
   ]
  },
  {
   "cell_type": "code",
   "execution_count": 47,
   "metadata": {},
   "outputs": [
    {
     "data": {
      "application/javascript": [
       "// We load the d3.js library from the Web.\n",
       "require.config({paths:\n",
       "    {d3: \"http://d3js.org/d3.v3.min\"}});\n",
       "require([\"d3\"], function(d3) {\n",
       "  // The code in this block is executed when the\n",
       "  // d3.js library has been loaded.\n",
       "\n",
       "  // First, we specify the size of the canvas\n",
       "  // containing the visualization (size of the\n",
       "  // <div> element).\n",
       "  var width = 300, height = 300;\n",
       "\n",
       "  // We create a color scale.\n",
       "  var color = d3.scale.category10();\n",
       "\n",
       "  // We create a force-directed dynamic graph layout.\n",
       "  var force = d3.layout.force()\n",
       "    .charge(-120)\n",
       "    .linkDistance(30)\n",
       "    .size([width, height]);\n",
       "\n",
       "  // In the <div> element, we create a <svg> graphic\n",
       "  // that will contain our interactive visualization.\n",
       "  var svg = d3.select(\"#d3-example\").select(\"svg\")\n",
       "  if (svg.empty()) {\n",
       "    svg = d3.select(\"#d3-example\").append(\"svg\")\n",
       "          .attr(\"width\", width)\n",
       "          .attr(\"height\", height);\n",
       "  }\n",
       "\n",
       "  // We load the JSON file.\n",
       "  d3.json(\"graph.json\", function(error, graph) {\n",
       "    // In this block, the file has been loaded\n",
       "    // and the 'graph' object contains our graph.\n",
       "\n",
       "    // We load the nodes and links in the\n",
       "    // force-directed graph.\n",
       "    force.nodes(graph.nodes)\n",
       "      .links(graph.links)\n",
       "      .start();\n",
       "\n",
       "    // We create a <line> SVG element for each link\n",
       "    // in the graph.\n",
       "    var link = svg.selectAll(\".link\")\n",
       "      .data(graph.links)\n",
       "      .enter().append(\"line\")\n",
       "      .attr(\"class\", \"link\");\n",
       "\n",
       "    // We create a <circle> SVG element for each node\n",
       "    // in the graph, and we specify a few attributes.\n",
       "    var node = svg.selectAll(\".node\")\n",
       "      .data(graph.nodes)\n",
       "      .enter().append(\"circle\")\n",
       "      .attr(\"class\", \"node\")\n",
       "      .attr(\"r\", 5)  // radius\n",
       "      .style(\"fill\", function(d) {\n",
       "         // The node color depends on the club.\n",
       "          \n",
       "         return color(d.club);\n",
       "      })\n",
       "      .call(force.drag);\n",
       "\n",
       "    // The name of each node is the node number.\n",
       "    node.append(\"title\")\n",
       "        .text(function(d) { return d.name; });\n",
       "\n",
       "    // We bind the positions of the SVG elements\n",
       "    // to the positions of the dynamic force-directed\n",
       "    // graph, at each time step.\n",
       "    force.on(\"tick\", function() {\n",
       "      link.attr(\"x1\", function(d){return d.source.x})\n",
       "          .attr(\"y1\", function(d){return d.source.y})\n",
       "          .attr(\"x2\", function(d){return d.target.x})\n",
       "          .attr(\"y2\", function(d){return d.target.y});\n",
       "\n",
       "      node.attr(\"cx\", function(d){return d.x})\n",
       "          .attr(\"cy\", function(d){return d.y});\n",
       "    });\n",
       "  });\n",
       "});\n"
      ],
      "text/plain": [
       "<IPython.core.display.Javascript object>"
      ]
     },
     "metadata": {},
     "output_type": "display_data"
    }
   ],
   "source": [
    "%%javascript\n",
    "require.config({paths:\n",
    "    {d3: \"http://d3js.org/d3.v3.min\"}});\n",
    "require([\"d3\"], function(d3) {\n",
    "  var width = 300, height = 300;\n",
    "  var color = d3.scale.category10();\n",
    "  var force = d3.layout.force()\n",
    "    .charge(-120)\n",
    "    .linkDistance(30)\n",
    "    .size([width, height]);\n",
    "  var svg = d3.select(\"#d3-example\").select(\"svg\")\n",
    "  if (svg.empty()) {\n",
    "    svg = d3.select(\"#d3-example\").append(\"svg\")\n",
    "          .attr(\"width\", width)\n",
    "          .attr(\"height\", height);\n",
    "  }\n",
    "  d3.json(\"graph.json\", function(error, graph) {\n",
    "    force.nodes(graph.nodes)\n",
    "      .links(graph.links)\n",
    "      .start();\n",
    "    var link = svg.selectAll(\".link\")\n",
    "      .data(graph.links)\n",
    "      .enter().append(\"line\")\n",
    "      .attr(\"class\", \"link\");\n",
    "    var node = svg.selectAll(\".node\")\n",
    "      .data(graph.nodes)\n",
    "      .enter().append(\"circle\")\n",
    "      .attr(\"class\", \"node\")\n",
    "      .attr(\"r\", 5)  // radius\n",
    "      .style(\"fill\", function(d) { //change css \n",
    "         return color(d.club);\n",
    "      })\n",
    "      .call(force.drag);\n",
    "    node.append(\"title\")\n",
    "        .text(function(d) { return d.name; });\n",
    "\n",
    "    force.on(\"tick\", function() {\n",
    "      link.attr(\"x1\", function(d){return d.source.x})\n",
    "          .attr(\"y1\", function(d){return d.source.y})\n",
    "          .attr(\"x2\", function(d){return d.target.x})\n",
    "          .attr(\"y2\", function(d){return d.target.y});\n",
    "      node.attr(\"cx\", function(d){return d.x})\n",
    "          .attr(\"cy\", function(d){return d.y});\n",
    "    });\n",
    "  });\n",
    "});"
   ]
  },
  {
   "cell_type": "code",
   "execution_count": null,
   "metadata": {},
   "outputs": [],
   "source": []
  }
 ],
 "metadata": {
  "kernelspec": {
   "display_name": "Python 3",
   "language": "python",
   "name": "python3"
  },
  "language_info": {
   "codemirror_mode": {
    "name": "ipython",
    "version": 3
   },
   "file_extension": ".py",
   "mimetype": "text/x-python",
   "name": "python",
   "nbconvert_exporter": "python",
   "pygments_lexer": "ipython3",
   "version": "3.7.3"
  }
 },
 "nbformat": 4,
 "nbformat_minor": 2
}

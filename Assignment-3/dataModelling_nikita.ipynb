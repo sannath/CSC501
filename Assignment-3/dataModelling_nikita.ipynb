{
 "cells": [
  {
   "cell_type": "code",
   "execution_count": 5,
   "metadata": {},
   "outputs": [],
   "source": [
    "import pandas as pd\n",
    "import numpy as np\n",
    "from py2neo import Graph, Node, Relationship\n",
    "import matplotlib.pyplot as plt\n",
    "%matplotlib inline"
   ]
  },
  {
   "cell_type": "code",
   "execution_count": 3,
   "metadata": {},
   "outputs": [],
   "source": [
    "def custom_func(elem):\n",
    "    return(elem[1])"
   ]
  },
  {
   "cell_type": "code",
   "execution_count": 4,
   "metadata": {},
   "outputs": [
    {
     "name": "stdout",
     "output_type": "stream",
     "text": [
      "Wall time: 10.8 s\n"
     ]
    }
   ],
   "source": [
    "%%time \n",
    "df = pd.read_csv('C:\\\\Users\\\\nikita\\\\Downloads/soc-redditHyperlinks-title.tsv', delimiter='\\t')"
   ]
  },
  {
   "cell_type": "code",
   "execution_count": 5,
   "metadata": {},
   "outputs": [
    {
     "data": {
      "text/html": [
       "<div>\n",
       "<style scoped>\n",
       "    .dataframe tbody tr th:only-of-type {\n",
       "        vertical-align: middle;\n",
       "    }\n",
       "\n",
       "    .dataframe tbody tr th {\n",
       "        vertical-align: top;\n",
       "    }\n",
       "\n",
       "    .dataframe thead th {\n",
       "        text-align: right;\n",
       "    }\n",
       "</style>\n",
       "<table border=\"1\" class=\"dataframe\">\n",
       "  <thead>\n",
       "    <tr style=\"text-align: right;\">\n",
       "      <th></th>\n",
       "      <th>SOURCE_SUBREDDIT</th>\n",
       "      <th>TARGET_SUBREDDIT</th>\n",
       "      <th>POST_ID</th>\n",
       "      <th>TIMESTAMP</th>\n",
       "      <th>LINK_SENTIMENT</th>\n",
       "      <th>PROPERTIES</th>\n",
       "    </tr>\n",
       "  </thead>\n",
       "  <tbody>\n",
       "    <tr>\n",
       "      <th>0</th>\n",
       "      <td>rddtgaming</td>\n",
       "      <td>rddtrust</td>\n",
       "      <td>1u4pzzs</td>\n",
       "      <td>2013-12-31 16:39:18</td>\n",
       "      <td>1</td>\n",
       "      <td>25.0,23.0,0.76,0.0,0.44,0.12,0.12,4.0,4.0,0.0,...</td>\n",
       "    </tr>\n",
       "    <tr>\n",
       "      <th>1</th>\n",
       "      <td>xboxone</td>\n",
       "      <td>battlefield_4</td>\n",
       "      <td>1u4tmfs</td>\n",
       "      <td>2013-12-31 17:59:11</td>\n",
       "      <td>1</td>\n",
       "      <td>100.0,88.0,0.78,0.02,0.08,0.13,0.07,16.0,16.0,...</td>\n",
       "    </tr>\n",
       "    <tr>\n",
       "      <th>2</th>\n",
       "      <td>ps4</td>\n",
       "      <td>battlefield_4</td>\n",
       "      <td>1u4tmos</td>\n",
       "      <td>2013-12-31 17:59:40</td>\n",
       "      <td>1</td>\n",
       "      <td>100.0,88.0,0.78,0.02,0.08,0.13,0.07,16.0,16.0,...</td>\n",
       "    </tr>\n",
       "    <tr>\n",
       "      <th>3</th>\n",
       "      <td>fitnesscirclejerk</td>\n",
       "      <td>leangains</td>\n",
       "      <td>1u50xfs</td>\n",
       "      <td>2013-12-31 19:01:56</td>\n",
       "      <td>1</td>\n",
       "      <td>49.0,43.0,0.775510204082,0.0,0.265306122449,0....</td>\n",
       "    </tr>\n",
       "    <tr>\n",
       "      <th>4</th>\n",
       "      <td>fitnesscirclejerk</td>\n",
       "      <td>lifeprotips</td>\n",
       "      <td>1u51nps</td>\n",
       "      <td>2013-12-31 21:02:28</td>\n",
       "      <td>1</td>\n",
       "      <td>14.0,14.0,0.785714285714,0.0,0.428571428571,0....</td>\n",
       "    </tr>\n",
       "  </tbody>\n",
       "</table>\n",
       "</div>"
      ],
      "text/plain": [
       "    SOURCE_SUBREDDIT TARGET_SUBREDDIT  POST_ID            TIMESTAMP  \\\n",
       "0         rddtgaming         rddtrust  1u4pzzs  2013-12-31 16:39:18   \n",
       "1            xboxone    battlefield_4  1u4tmfs  2013-12-31 17:59:11   \n",
       "2                ps4    battlefield_4  1u4tmos  2013-12-31 17:59:40   \n",
       "3  fitnesscirclejerk        leangains  1u50xfs  2013-12-31 19:01:56   \n",
       "4  fitnesscirclejerk      lifeprotips  1u51nps  2013-12-31 21:02:28   \n",
       "\n",
       "   LINK_SENTIMENT                                         PROPERTIES  \n",
       "0               1  25.0,23.0,0.76,0.0,0.44,0.12,0.12,4.0,4.0,0.0,...  \n",
       "1               1  100.0,88.0,0.78,0.02,0.08,0.13,0.07,16.0,16.0,...  \n",
       "2               1  100.0,88.0,0.78,0.02,0.08,0.13,0.07,16.0,16.0,...  \n",
       "3               1  49.0,43.0,0.775510204082,0.0,0.265306122449,0....  \n",
       "4               1  14.0,14.0,0.785714285714,0.0,0.428571428571,0....  "
      ]
     },
     "execution_count": 5,
     "metadata": {},
     "output_type": "execute_result"
    }
   ],
   "source": [
    "df.head()"
   ]
  },
  {
   "cell_type": "code",
   "execution_count": 6,
   "metadata": {},
   "outputs": [
    {
     "data": {
      "text/plain": [
       "11065"
      ]
     },
     "execution_count": 6,
     "metadata": {},
     "output_type": "execute_result"
    }
   ],
   "source": [
    "# len(file)\n",
    "df['TIMESTAMP'] = pd.to_datetime(df['TIMESTAMP'])\n",
    "mask = (df['TIMESTAMP'] > '2017-04-13 16:39:18')\n",
    "file = df.loc[mask]\n",
    "len(file)"
   ]
  },
  {
   "cell_type": "code",
   "execution_count": 7,
   "metadata": {},
   "outputs": [
    {
     "data": {
      "text/html": [
       "<div>\n",
       "<style scoped>\n",
       "    .dataframe tbody tr th:only-of-type {\n",
       "        vertical-align: middle;\n",
       "    }\n",
       "\n",
       "    .dataframe tbody tr th {\n",
       "        vertical-align: top;\n",
       "    }\n",
       "\n",
       "    .dataframe thead th {\n",
       "        text-align: right;\n",
       "    }\n",
       "</style>\n",
       "<table border=\"1\" class=\"dataframe\">\n",
       "  <thead>\n",
       "    <tr style=\"text-align: right;\">\n",
       "      <th></th>\n",
       "      <th>SOURCE_SUBREDDIT</th>\n",
       "      <th>TARGET_SUBREDDIT</th>\n",
       "      <th>POST_ID</th>\n",
       "      <th>TIMESTAMP</th>\n",
       "      <th>LINK_SENTIMENT</th>\n",
       "      <th>PROPERTIES</th>\n",
       "    </tr>\n",
       "  </thead>\n",
       "  <tbody>\n",
       "    <tr>\n",
       "      <th>3203</th>\n",
       "      <td>againstagainstmen</td>\n",
       "      <td>againstmensrights</td>\n",
       "      <td>1v1x0u</td>\n",
       "      <td>2017-04-27 15:53:56</td>\n",
       "      <td>-1</td>\n",
       "      <td>94.0,82.0,0.81914893617,0.0,0.063829787234,0.1...</td>\n",
       "    </tr>\n",
       "    <tr>\n",
       "      <th>23285</th>\n",
       "      <td>againstagainstmen</td>\n",
       "      <td>againstmensrights</td>\n",
       "      <td>20l834</td>\n",
       "      <td>2017-04-27 15:53:56</td>\n",
       "      <td>-1</td>\n",
       "      <td>76.0,66.0,0.828947368421,0.0,0.0789473684211,0...</td>\n",
       "    </tr>\n",
       "    <tr>\n",
       "      <th>47992</th>\n",
       "      <td>vetworship</td>\n",
       "      <td>pics</td>\n",
       "      <td>26nl38s</td>\n",
       "      <td>2017-04-27 19:52:51</td>\n",
       "      <td>1</td>\n",
       "      <td>35.0,30.0,0.8,0.0,0.171428571429,0.17142857142...</td>\n",
       "    </tr>\n",
       "    <tr>\n",
       "      <th>311639</th>\n",
       "      <td>shitnazissay</td>\n",
       "      <td>askanamerican</td>\n",
       "      <td>41ciph</td>\n",
       "      <td>2017-04-29 07:33:59</td>\n",
       "      <td>-1</td>\n",
       "      <td>238.0,197.0,0.789915966387,0.0,0.0420168067227...</td>\n",
       "    </tr>\n",
       "    <tr>\n",
       "      <th>340361</th>\n",
       "      <td>cammersfault</td>\n",
       "      <td>roadcam</td>\n",
       "      <td>4ac2vos</td>\n",
       "      <td>2017-04-21 01:29:19</td>\n",
       "      <td>1</td>\n",
       "      <td>87.0,72.0,0.804597701149,0.0,0.0689655172414,0...</td>\n",
       "    </tr>\n",
       "    <tr>\n",
       "      <th>340621</th>\n",
       "      <td>tonkahs</td>\n",
       "      <td>tifu</td>\n",
       "      <td>4aeh65s</td>\n",
       "      <td>2017-04-22 06:42:51</td>\n",
       "      <td>1</td>\n",
       "      <td>53.0,47.0,0.792452830189,0.0,0.188679245283,0....</td>\n",
       "    </tr>\n",
       "    <tr>\n",
       "      <th>347945</th>\n",
       "      <td>cammersfault</td>\n",
       "      <td>roadcam</td>\n",
       "      <td>4cj4kus</td>\n",
       "      <td>2017-04-21 01:29:19</td>\n",
       "      <td>1</td>\n",
       "      <td>47.0,40.0,0.808510638298,0.0,0.127659574468,0....</td>\n",
       "    </tr>\n",
       "    <tr>\n",
       "      <th>348193</th>\n",
       "      <td>blameamerica</td>\n",
       "      <td>news</td>\n",
       "      <td>4clwtt</td>\n",
       "      <td>2017-04-14 11:42:51</td>\n",
       "      <td>-1</td>\n",
       "      <td>99.0,83.0,0.757575757576,0.0,0.0909090909091,0...</td>\n",
       "    </tr>\n",
       "    <tr>\n",
       "      <th>366080</th>\n",
       "      <td>redditeconomics</td>\n",
       "      <td>news</td>\n",
       "      <td>4huroqs</td>\n",
       "      <td>2017-04-26 16:53:07</td>\n",
       "      <td>1</td>\n",
       "      <td>83.0,70.0,0.807228915663,0.0,0.0722891566265,0...</td>\n",
       "    </tr>\n",
       "    <tr>\n",
       "      <th>376301</th>\n",
       "      <td>bestofcuckculture</td>\n",
       "      <td>drama</td>\n",
       "      <td>4krjfos</td>\n",
       "      <td>2017-04-27 14:36:08</td>\n",
       "      <td>1</td>\n",
       "      <td>86.0,76.0,0.790697674419,0.0,0.093023255814,0....</td>\n",
       "    </tr>\n",
       "    <tr>\n",
       "      <th>445734</th>\n",
       "      <td>shitdwarffortresssays</td>\n",
       "      <td>dwarffortress</td>\n",
       "      <td>55ej76s</td>\n",
       "      <td>2017-04-17 23:37:38</td>\n",
       "      <td>1</td>\n",
       "      <td>59.0,49.0,0.779661016949,0.0,0.101694915254,0....</td>\n",
       "    </tr>\n",
       "    <tr>\n",
       "      <th>450073</th>\n",
       "      <td>unexpectedredvsblue</td>\n",
       "      <td>destinythegame</td>\n",
       "      <td>56nwrws</td>\n",
       "      <td>2017-04-30 00:36:30</td>\n",
       "      <td>1</td>\n",
       "      <td>23.0,20.0,0.739130434783,0.0,0.260869565217,0....</td>\n",
       "    </tr>\n",
       "    <tr>\n",
       "      <th>453204</th>\n",
       "      <td>unexpectedpregnancy</td>\n",
       "      <td>trashyboners</td>\n",
       "      <td>57lohqs</td>\n",
       "      <td>2017-04-16 10:59:46</td>\n",
       "      <td>1</td>\n",
       "      <td>27.0,24.0,0.814814814815,0.0,0.222222222222,0....</td>\n",
       "    </tr>\n",
       "    <tr>\n",
       "      <th>458555</th>\n",
       "      <td>unexpectedmulaney</td>\n",
       "      <td>askreddit</td>\n",
       "      <td>598q8us</td>\n",
       "      <td>2017-04-26 15:38:53</td>\n",
       "      <td>1</td>\n",
       "      <td>114.0,96.0,0.789473684211,0.0,0.0789473684211,...</td>\n",
       "    </tr>\n",
       "    <tr>\n",
       "      <th>462061</th>\n",
       "      <td>redpillortaliban</td>\n",
       "      <td>incelideas</td>\n",
       "      <td>5abcios</td>\n",
       "      <td>2017-04-22 13:48:44</td>\n",
       "      <td>1</td>\n",
       "      <td>192.0,164.0,0.8125,0.0,0.0677083333333,0.15104...</td>\n",
       "    </tr>\n",
       "  </tbody>\n",
       "</table>\n",
       "</div>"
      ],
      "text/plain": [
       "             SOURCE_SUBREDDIT   TARGET_SUBREDDIT  POST_ID           TIMESTAMP  \\\n",
       "3203        againstagainstmen  againstmensrights   1v1x0u 2017-04-27 15:53:56   \n",
       "23285       againstagainstmen  againstmensrights   20l834 2017-04-27 15:53:56   \n",
       "47992              vetworship               pics  26nl38s 2017-04-27 19:52:51   \n",
       "311639           shitnazissay      askanamerican   41ciph 2017-04-29 07:33:59   \n",
       "340361           cammersfault            roadcam  4ac2vos 2017-04-21 01:29:19   \n",
       "340621                tonkahs               tifu  4aeh65s 2017-04-22 06:42:51   \n",
       "347945           cammersfault            roadcam  4cj4kus 2017-04-21 01:29:19   \n",
       "348193           blameamerica               news   4clwtt 2017-04-14 11:42:51   \n",
       "366080        redditeconomics               news  4huroqs 2017-04-26 16:53:07   \n",
       "376301      bestofcuckculture              drama  4krjfos 2017-04-27 14:36:08   \n",
       "445734  shitdwarffortresssays      dwarffortress  55ej76s 2017-04-17 23:37:38   \n",
       "450073    unexpectedredvsblue     destinythegame  56nwrws 2017-04-30 00:36:30   \n",
       "453204    unexpectedpregnancy       trashyboners  57lohqs 2017-04-16 10:59:46   \n",
       "458555      unexpectedmulaney          askreddit  598q8us 2017-04-26 15:38:53   \n",
       "462061       redpillortaliban         incelideas  5abcios 2017-04-22 13:48:44   \n",
       "\n",
       "        LINK_SENTIMENT                                         PROPERTIES  \n",
       "3203                -1  94.0,82.0,0.81914893617,0.0,0.063829787234,0.1...  \n",
       "23285               -1  76.0,66.0,0.828947368421,0.0,0.0789473684211,0...  \n",
       "47992                1  35.0,30.0,0.8,0.0,0.171428571429,0.17142857142...  \n",
       "311639              -1  238.0,197.0,0.789915966387,0.0,0.0420168067227...  \n",
       "340361               1  87.0,72.0,0.804597701149,0.0,0.0689655172414,0...  \n",
       "340621               1  53.0,47.0,0.792452830189,0.0,0.188679245283,0....  \n",
       "347945               1  47.0,40.0,0.808510638298,0.0,0.127659574468,0....  \n",
       "348193              -1  99.0,83.0,0.757575757576,0.0,0.0909090909091,0...  \n",
       "366080               1  83.0,70.0,0.807228915663,0.0,0.0722891566265,0...  \n",
       "376301               1  86.0,76.0,0.790697674419,0.0,0.093023255814,0....  \n",
       "445734               1  59.0,49.0,0.779661016949,0.0,0.101694915254,0....  \n",
       "450073               1  23.0,20.0,0.739130434783,0.0,0.260869565217,0....  \n",
       "453204               1  27.0,24.0,0.814814814815,0.0,0.222222222222,0....  \n",
       "458555               1  114.0,96.0,0.789473684211,0.0,0.0789473684211,...  \n",
       "462061               1  192.0,164.0,0.8125,0.0,0.0677083333333,0.15104...  "
      ]
     },
     "execution_count": 7,
     "metadata": {},
     "output_type": "execute_result"
    }
   ],
   "source": [
    "file.head(15)"
   ]
  },
  {
   "cell_type": "code",
   "execution_count": 8,
   "metadata": {},
   "outputs": [
    {
     "name": "stdout",
     "output_type": "stream",
     "text": [
      "Wall time: 51 ms\n"
     ]
    },
    {
     "data": {
      "text/plain": [
       "5310"
      ]
     },
     "execution_count": 8,
     "metadata": {},
     "output_type": "execute_result"
    }
   ],
   "source": [
    "%%time\n",
    "u_source = file['SOURCE_SUBREDDIT'].unique().tolist()\n",
    "u_target = file['TARGET_SUBREDDIT'].unique().tolist()\n",
    "u_source.extend(u_target)\n",
    "Vertices_list = list(dict.fromkeys(u_source))\n",
    "Vertices_list.sort()\n",
    "len(Vertices_list)"
   ]
  },
  {
   "cell_type": "code",
   "execution_count": 9,
   "metadata": {},
   "outputs": [],
   "source": [
    "#creation of edge list"
   ]
  },
  {
   "cell_type": "code",
   "execution_count": 10,
   "metadata": {},
   "outputs": [
    {
     "name": "stdout",
     "output_type": "stream",
     "text": [
      "Wall time: 15 ms\n"
     ]
    }
   ],
   "source": [
    "%%time\n",
    "Edges_list = list(zip(file['SOURCE_SUBREDDIT'],file['TARGET_SUBREDDIT']))\n",
    "Edges_list.sort()\n",
    "Edges_unique = list(dict.fromkeys(Edges_list))"
   ]
  },
  {
   "cell_type": "code",
   "execution_count": 11,
   "metadata": {},
   "outputs": [],
   "source": [
    "# Creation of adjacency matrix and adjacency list\n",
    "# Edges_unique = Edges_unique[:500]\n",
    "# Vertices_list = Vertices_list[:500]"
   ]
  },
  {
   "cell_type": "code",
   "execution_count": 12,
   "metadata": {},
   "outputs": [
    {
     "name": "stdout",
     "output_type": "stream",
     "text": [
      "Wall time: 957 ms\n"
     ]
    }
   ],
   "source": [
    "%%time\n",
    "V = len(Vertices_list)\n",
    "Adj_Mat = []\n",
    "Adj_Mat = np.zeros((V,V),dtype=int)\n",
    "\n",
    "Adj_list = []\n",
    "for s in range(V):\n",
    "    Adj_list.append([])\n",
    "\n",
    "for i in Edges_unique:\n",
    "    a = Vertices_list.index(i[0])\n",
    "    b = Vertices_list.index(i[1])\n",
    "    Adj_Mat[a][b]=1\n",
    "    Adj_list[a].append(i[1])\n"
   ]
  },
  {
   "cell_type": "code",
   "execution_count": 13,
   "metadata": {},
   "outputs": [],
   "source": [
    "#calculate out degree"
   ]
  },
  {
   "cell_type": "code",
   "execution_count": 25,
   "metadata": {},
   "outputs": [
    {
     "name": "stdout",
     "output_type": "stream",
     "text": [
      "Wall time: 8.99 ms\n"
     ]
    }
   ],
   "source": [
    "%%time\n",
    "count_vertex = 0    \n",
    "count = []\n",
    "outdegree_sub = {}\n",
    "for i in range(len(Adj_list)):\n",
    "    count_vertex = len(Adj_list[i])\n",
    "    a = [Vertices_list[i],count_vertex]\n",
    "    count.append(a)\n",
    "    outdegree_sub[Vertices_list[i]] = Adj_list[i]\n"
   ]
  },
  {
   "cell_type": "code",
   "execution_count": 26,
   "metadata": {
    "scrolled": false
   },
   "outputs": [],
   "source": [
    "# count\n",
    "# outdegree_sub"
   ]
  },
  {
   "cell_type": "code",
   "execution_count": 27,
   "metadata": {},
   "outputs": [],
   "source": [
    "count.sort(key=custom_func,reverse=True)"
   ]
  },
  {
   "cell_type": "code",
   "execution_count": 28,
   "metadata": {},
   "outputs": [],
   "source": [
    "count\n",
    "count = count[:10]"
   ]
  },
  {
   "cell_type": "code",
   "execution_count": 29,
   "metadata": {},
   "outputs": [],
   "source": [
    "popularName = [x[0] for x in count]\n",
    "popularNo = [x[1] for x in count]"
   ]
  },
  {
   "cell_type": "code",
   "execution_count": 30,
   "metadata": {},
   "outputs": [
    {
     "data": {
      "image/png": "[encoded data removed]",
      "text/plain": [
       "<Figure size 1008x576 with 1 Axes>"
      ]
     },
     "metadata": {
      "needs_background": "light"
     },
     "output_type": "display_data"
    }
   ],
   "source": [
    "y_pos = np.arange(len(popularName))\n",
    "plt.rcParams[\"figure.figsize\"] =  [14, 8]\n",
    "plt.bar(y_pos, popularNo, align='center', alpha=0.8,color='#F78F1E')\n",
    "plt.xticks(y_pos, popularName,rotation='vertical')\n",
    "plt.ylabel('Connections')\n",
    "plt.title('Popular Subreddits')\n",
    "plt.show()\n",
    "# plt.savefig(\"Popular_subreddits\",dpi=500)"
   ]
  },
  {
   "cell_type": "code",
   "execution_count": 31,
   "metadata": {},
   "outputs": [
    {
     "data": {
      "text/plain": [
       "['2meirl4meirl',\n",
       " '4chan',\n",
       " 'adviceanimals',\n",
       " 'albania',\n",
       " 'amadisasters',\n",
       " 'amifreetogo',\n",
       " 'anarcho_capitalism',\n",
       " 'androidapps',\n",
       " 'antitrumpalliance',\n",
       " 'arduino',\n",
       " 'argsociety',\n",
       " 'art',\n",
       " 'ask_politics',\n",
       " 'askhistorians',\n",
       " 'askhistory',\n",
       " 'askmen',\n",
       " 'askouija',\n",
       " 'askreddit',\n",
       " 'askscience',\n",
       " 'atheism',\n",
       " 'australia',\n",
       " 'aww',\n",
       " 'awwwtf',\n",
       " 'badmathematics',\n",
       " 'baseball',\n",
       " 'basicincome',\n",
       " 'bayarea',\n",
       " 'beatles',\n",
       " 'beholdthemasterrace',\n",
       " 'bettercallsaul',\n",
       " 'bettereveryloop',\n",
       " 'biology',\n",
       " 'bitcoinmarkets',\n",
       " 'boardgames',\n",
       " 'bodybuilding',\n",
       " 'books',\n",
       " 'britishsuccess',\n",
       " 'calgaryflames',\n",
       " 'canada',\n",
       " 'casualiama',\n",
       " 'catastrophicfailure',\n",
       " 'cfb',\n",
       " 'changemyview',\n",
       " 'chicago',\n",
       " 'comics',\n",
       " 'completeanarchy',\n",
       " 'conspiracy',\n",
       " 'crappydesign',\n",
       " 'cringe',\n",
       " 'cringepics',\n",
       " 'damnthatsinteresting',\n",
       " 'dataisbeautiful',\n",
       " 'depression',\n",
       " 'discordapp',\n",
       " 'diy',\n",
       " 'dota2',\n",
       " 'drugs',\n",
       " 'eagles',\n",
       " 'elitedangerous',\n",
       " 'ems',\n",
       " 'esist',\n",
       " 'evilbuildings',\n",
       " 'excons',\n",
       " 'explainlikeiama',\n",
       " 'explainlikeimfive',\n",
       " 'fantasyfootball',\n",
       " 'fellowkids',\n",
       " 'finlandconspiracy',\n",
       " 'firstworldanarchists',\n",
       " 'foreveralone',\n",
       " 'frankocean',\n",
       " 'fuckthealtright',\n",
       " 'funny',\n",
       " 'fyrefestival',\n",
       " 'gamedev',\n",
       " 'gaming',\n",
       " 'gentlemanboners',\n",
       " 'getmotivated',\n",
       " 'gifs',\n",
       " 'globaloffensive',\n",
       " 'golf',\n",
       " 'graphic_design',\n",
       " 'guitars',\n",
       " 'harambe',\n",
       " 'heroesofthestorm',\n",
       " 'highqualitygifs',\n",
       " 'hiphopheads',\n",
       " 'history',\n",
       " 'historyporn',\n",
       " 'hmmm',\n",
       " 'hockey',\n",
       " 'holdmycatnip',\n",
       " 'holdthemoan',\n",
       " 'iama',\n",
       " 'iamverysmart',\n",
       " 'instant_regret',\n",
       " 'islam',\n",
       " 'iwallpaper',\n",
       " 'jeep',\n",
       " 'jokes',\n",
       " 'justiceserved',\n",
       " 'justnomil',\n",
       " 'kayaking',\n",
       " 'kendricklamar',\n",
       " 'latestagecapitalism',\n",
       " 'leagueoflegends',\n",
       " 'learnmath',\n",
       " 'learnprogramming',\n",
       " 'legaladvice',\n",
       " 'libya',\n",
       " 'lifeprotips',\n",
       " 'marchagainsttrump',\n",
       " 'markmywords',\n",
       " 'me_irl',\n",
       " 'mechanical_gifs',\n",
       " 'medicine',\n",
       " 'menslib',\n",
       " 'mildlyinteresting',\n",
       " 'morrowind',\n",
       " 'motorcycles',\n",
       " 'movies',\n",
       " 'music',\n",
       " 'natureisfuckinglit',\n",
       " 'nba',\n",
       " 'niceguys',\n",
       " 'nostalgia',\n",
       " 'nostupidquestions',\n",
       " 'nottheonion',\n",
       " 'nsfw_gif',\n",
       " 'obscuresubreddits',\n",
       " 'oculus',\n",
       " 'offmychest',\n",
       " 'oldschoolcool',\n",
       " 'outoftheloop',\n",
       " 'pcgaming',\n",
       " 'pcmasterrace',\n",
       " 'personalfinance',\n",
       " 'photoshopbattles',\n",
       " 'pics',\n",
       " 'polandball',\n",
       " 'politicaldiscussion',\n",
       " 'politicalvideo',\n",
       " 'politics',\n",
       " 'portland',\n",
       " 'postprocessing',\n",
       " 'premed',\n",
       " 'prequelmemes',\n",
       " 'programmerhumor',\n",
       " 'protectandserve',\n",
       " 'publicfreakout',\n",
       " 'rarepuppers',\n",
       " 'rickandmorty',\n",
       " 'roastme',\n",
       " 'runescape',\n",
       " 'samharris',\n",
       " 'sanfrancisco',\n",
       " 'science',\n",
       " 'self',\n",
       " 'sex',\n",
       " 'shittylifeprotips',\n",
       " 'showerthoughts',\n",
       " 'singapore',\n",
       " 'soccer',\n",
       " 'space',\n",
       " 'sports',\n",
       " 'squaredcircle',\n",
       " 'startrekgifs',\n",
       " 'steam',\n",
       " 'strangerthings',\n",
       " 'studentloans',\n",
       " 'subredditsimulator',\n",
       " 'surfing',\n",
       " 'syriancivilwar',\n",
       " 'sysadmin',\n",
       " 'tacobell',\n",
       " 'taiwan',\n",
       " 'talesfromtechsupport',\n",
       " 'talesfromthesquadcar',\n",
       " 'television',\n",
       " 'teslamotors',\n",
       " 'thathappened',\n",
       " 'the_donald',\n",
       " 'theleftovers',\n",
       " 'tinder',\n",
       " 'todayilearned',\n",
       " 'tumblr',\n",
       " 'unexpected',\n",
       " 'unexpectedjihad',\n",
       " 'unitedkingdom',\n",
       " 'unresolvedmysteries',\n",
       " 'videos',\n",
       " 'wallstreetbets',\n",
       " 'westworld',\n",
       " 'whatcouldgowrong',\n",
       " 'whatisthisthing',\n",
       " 'whatsthisbug',\n",
       " 'wholesomememes',\n",
       " 'woahdude',\n",
       " 'worldnews',\n",
       " 'wow',\n",
       " 'wtf',\n",
       " 'youtubehaiku',\n",
       " 'zoomies']"
      ]
     },
     "execution_count": 31,
     "metadata": {},
     "output_type": "execute_result"
    }
   ],
   "source": [
    "outdegree_sub['bestof']"
   ]
  },
  {
   "cell_type": "code",
   "execution_count": 39,
   "metadata": {},
   "outputs": [
    {
     "name": "stdout",
     "output_type": "stream",
     "text": [
      "['peoplewhosayheck', 'bestof', 'subredditdrama', 'procss', 'drama', 'titlegore', 'circlebroke2', 'brasilonreddit', 'shitliberalssay', 'shitpost']\n"
     ]
    }
   ],
   "source": [
    "# popular among popular connections\n",
    "popularName1 = []\n",
    "commonCount = []\n",
    "commonName = []\n",
    "for s in popularName:\n",
    "    common_sub = list(set(outdegree_sub[s]) & set(popularName))\n",
    "    popularName1.append(s)\n",
    "    commonCount.append(len(common_sub))\n",
    "    commonName.append((common_sub))\n",
    "    \n",
    "print(popularName1)"
   ]
  },
  {
   "cell_type": "code",
   "execution_count": 33,
   "metadata": {},
   "outputs": [
    {
     "name": "stdout",
     "output_type": "stream",
     "text": [
      "[1, 0, 2, 0, 2, 1, 2, 0, 3, 0]\n"
     ]
    }
   ],
   "source": [
    "print(commonCount)"
   ]
  },
  {
   "cell_type": "code",
   "execution_count": 34,
   "metadata": {},
   "outputs": [
    {
     "data": {
      "image/png": "[encoded data removed]",
      "text/plain": [
       "<Figure size 1008x576 with 1 Axes>"
      ]
     },
     "metadata": {
      "needs_background": "light"
     },
     "output_type": "display_data"
    }
   ],
   "source": [
    "y_pos = np.arange(len(popularName1))\n",
    "plt.rcParams[\"figure.figsize\"] =  [14, 8]\n",
    "plt.bar(y_pos, commonCount, align='center', alpha=0.8,color='#F78F1E')\n",
    "plt.xticks(y_pos, popularName1,rotation='vertical')\n",
    "plt.ylabel('Connections Among Popular Subrediits')\n",
    "plt.title('Popular Subreddits')\n",
    "plt.show()\n",
    "# plt.savefig(\"Popular_subreddits\",dpi=500)"
   ]
  },
  {
   "cell_type": "code",
   "execution_count": 36,
   "metadata": {},
   "outputs": [
    {
     "data": {
      "text/plain": [
       "['peoplewhosayheck',\n",
       " 'bestof',\n",
       " 'subredditdrama',\n",
       " 'procss',\n",
       " 'drama',\n",
       " 'titlegore',\n",
       " 'circlebroke2',\n",
       " 'brasilonreddit',\n",
       " 'shitliberalssay',\n",
       " 'shitpost']"
      ]
     },
     "execution_count": 36,
     "metadata": {},
     "output_type": "execute_result"
    }
   ],
   "source": [
    "popularName1"
   ]
  },
  {
   "cell_type": "code",
   "execution_count": 40,
   "metadata": {},
   "outputs": [
    {
     "data": {
      "text/plain": [
       "[['subredditdrama'],\n",
       " [],\n",
       " ['circlebroke2', 'drama'],\n",
       " [],\n",
       " ['subredditdrama', 'circlebroke2'],\n",
       " ['shitliberalssay'],\n",
       " ['drama', 'bestof'],\n",
       " [],\n",
       " ['subredditdrama', 'circlebroke2', 'bestof'],\n",
       " []]"
      ]
     },
     "execution_count": 40,
     "metadata": {},
     "output_type": "execute_result"
    }
   ],
   "source": [
    "commonName"
   ]
  },
  {
   "cell_type": "code",
   "execution_count": 64,
   "metadata": {},
   "outputs": [
    {
     "name": "stdout",
     "output_type": "stream",
     "text": [
      "2\n",
      "6\n",
      "4\n",
      "2\n",
      "6\n",
      "8\n",
      "4\n",
      "1\n",
      "2\n",
      "6\n",
      "1\n"
     ]
    }
   ],
   "source": [
    "d3matrix = []\n",
    "d3matrix = np.zeros((len(popularName1),len(popularName1)),dtype=int)\n",
    "matrix_index = 0\n",
    "for name in commonName:\n",
    "    for name1 in name:\n",
    "        a = popularName1.index(name1)\n",
    "        d3matrix[matrix_index][a] = 1\n",
    "        print(a)\n",
    "    matrix_index = matrix_index+1"
   ]
  },
  {
   "cell_type": "code",
   "execution_count": 65,
   "metadata": {},
   "outputs": [
    {
     "data": {
      "text/plain": [
       "array([[0, 0, 1, 0, 0, 0, 0, 0, 0, 0],\n",
       "       [0, 0, 0, 0, 0, 0, 0, 0, 0, 0],\n",
       "       [0, 0, 0, 0, 1, 0, 1, 0, 0, 0],\n",
       "       [0, 0, 0, 0, 0, 0, 0, 0, 0, 0],\n",
       "       [0, 0, 1, 0, 0, 0, 1, 0, 0, 0],\n",
       "       [0, 0, 0, 0, 0, 0, 0, 0, 1, 0],\n",
       "       [0, 1, 0, 0, 1, 0, 0, 0, 0, 0],\n",
       "       [0, 0, 0, 0, 0, 0, 0, 0, 0, 0],\n",
       "       [0, 1, 1, 0, 0, 0, 1, 0, 0, 0],\n",
       "       [0, 0, 0, 0, 0, 0, 0, 0, 0, 0]])"
      ]
     },
     "execution_count": 65,
     "metadata": {},
     "output_type": "execute_result"
    }
   ],
   "source": [
    "d3matrix"
   ]
  },
  {
   "cell_type": "code",
   "execution_count": 35,
   "metadata": {},
   "outputs": [],
   "source": [
    "# Stroing Adj matrix and Adj list as csv"
   ]
  },
  {
   "cell_type": "code",
   "execution_count": 27,
   "metadata": {},
   "outputs": [],
   "source": [
    "# np.savetxt('Adjacency_Matrix.csv',Adj_Mat,delimiter = ',')\n",
    "# np.savetxt('Adjacency_list.csv',Adj_list,delimiter = ',')"
   ]
  },
  {
   "cell_type": "code",
   "execution_count": null,
   "metadata": {},
   "outputs": [],
   "source": []
  },
  {
   "cell_type": "code",
   "execution_count": 28,
   "metadata": {},
   "outputs": [],
   "source": [
    "#Triple-store query to be executed in Neo4j"
   ]
  },
  {
   "cell_type": "code",
   "execution_count": 29,
   "metadata": {},
   "outputs": [],
   "source": [
    "# load csv from 'file:///soc-redditHyperlinks-title.tsv' as graph FIELDTERMINATOR '\\t' create (node1:source{name:graph[0]})-[r:Sentiment {name:graph[4]}]-> (node2:target{name:graph[1]})"
   ]
  },
  {
   "cell_type": "code",
   "execution_count": null,
   "metadata": {},
   "outputs": [],
   "source": []
  },
  {
   "cell_type": "code",
   "execution_count": 30,
   "metadata": {},
   "outputs": [],
   "source": [
    "#insight - 1"
   ]
  },
  {
   "cell_type": "code",
   "execution_count": 31,
   "metadata": {},
   "outputs": [],
   "source": [
    "#using edge_list for finding paths"
   ]
  },
  {
   "cell_type": "code",
   "execution_count": null,
   "metadata": {},
   "outputs": [],
   "source": []
  },
  {
   "cell_type": "code",
   "execution_count": null,
   "metadata": {},
   "outputs": [],
   "source": []
  },
  {
   "cell_type": "code",
   "execution_count": 32,
   "metadata": {},
   "outputs": [
    {
     "name": "stdout",
     "output_type": "stream",
     "text": [
      " no:of source nodes : 27187\n",
      " no:of target nodes : 0\n"
     ]
    }
   ],
   "source": [
    "#cycles(which are pure cycles)\n",
    "origin_nodes = list(set(u_source).difference(u_target))\n",
    "dest_nodes   = list(set(u_target).difference(u_source))\n",
    "origin_nodes.sort()\n",
    "dest_nodes.sort()\n",
    "print(\" no:of source nodes :\",len(origin_nodes))\n",
    "print(\" no:of target nodes :\",len(dest_nodes))"
   ]
  },
  {
   "cell_type": "code",
   "execution_count": null,
   "metadata": {},
   "outputs": [],
   "source": []
  },
  {
   "cell_type": "code",
   "execution_count": 33,
   "metadata": {},
   "outputs": [],
   "source": [
    "\n",
    "def Vertices(node):\n",
    "    for i in range(len(Vertices_list)):\n",
    "        if node == Vertices_list[i]:\n",
    "#             print(i)\n",
    "            return i\n",
    "\n",
    "def Matrix(index):\n",
    "    for i in range(len(Adj_Mat[index])):\n",
    "        if Adj_Mat[index][i]==1:\n",
    "#             print(Vertices_list[i])\n",
    "            return Vertices_list[i]\n"
   ]
  },
  {
   "cell_type": "code",
   "execution_count": null,
   "metadata": {},
   "outputs": [],
   "source": [
    "%%time\n",
    "src = origin_nodes[1]\n",
    "trg = ''\n",
    "path1 = [src]\n",
    "\n",
    "for i in range(V):\n",
    "    trg = Matrix(Vertices(src))\n",
    "#     path1.append(src)\n",
    "    path1.append(trg)\n",
    "    src = trg\n",
    "    try:\n",
    "        b=path1.index(src)\n",
    "    except ValueError:\n",
    "        continue\n",
    "#     if isinstance(b,int):\n",
    "#         break\n",
    "print(path1)\n",
    "\n",
    "# for i in range(len(Vertices_list)):\n",
    "#     if src == Vertices_list[i] : \n",
    "#         for j in range(len(Adj_Mat[i]):\n",
    "#             if Adj_Mat[i][j] == 1 :\n",
    "#                 path.append[[Vertices_listtices_list[i],Vertices_list[j]]]\n",
    "#                 src = Vertices_list[j]"
   ]
  },
  {
   "cell_type": "code",
   "execution_count": null,
   "metadata": {},
   "outputs": [],
   "source": []
  },
  {
   "cell_type": "code",
   "execution_count": null,
   "metadata": {},
   "outputs": [],
   "source": [
    "# src = origin_nodes[38]\n",
    "# trg = ''\n",
    "# for i in Edges_unique :\n",
    "#     if src == i[0] :\n",
    "#         print(i)\n",
    "#          trg = i[1]\n",
    "#         for j in Edges_unique:\n",
    "#             if trg == i[0]:\n",
    "#                 print(j)\n",
    "#                 src = trg\n",
    "# #                 break\n",
    "    "
   ]
  },
  {
   "cell_type": "code",
   "execution_count": 31,
   "metadata": {},
   "outputs": [
    {
     "data": {
      "image/png": "[encoded data removed]",
      "text/plain": [
       "<Figure size 432x288 with 1 Axes>"
      ]
     },
     "metadata": {},
     "output_type": "display_data"
    }
   ],
   "source": [
    "# library\n",
    "import matplotlib.pyplot as plt\n",
    "from matplotlib_venn import venn2\n",
    " \n",
    "# First way to call the 2 group Venn diagram:\n",
    "venn2(subsets = (13000, 5, 2), set_labels = ('Body', 'Title'))\n",
    "plt.show()\n",
    "\n"
   ]
  },
  {
   "cell_type": "code",
   "execution_count": null,
   "metadata": {},
   "outputs": [],
   "source": []
  }
 ],
 "metadata": {
  "kernelspec": {
   "display_name": "Python 3",
   "language": "python",
   "name": "python3"
  },
  "language_info": {
   "codemirror_mode": {
    "name": "ipython",
    "version": 3
   },
   "file_extension": ".py",
   "mimetype": "text/x-python",
   "name": "python",
   "nbconvert_exporter": "python",
   "pygments_lexer": "ipython3",
   "version": "3.7.3"
  }
 },
 "nbformat": 4,
 "nbformat_minor": 4
}

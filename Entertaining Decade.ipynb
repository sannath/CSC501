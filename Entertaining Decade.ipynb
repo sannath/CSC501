{
 "cells": [
  {
   "cell_type": "code",
   "execution_count": 1,
   "metadata": {},
   "outputs": [],
   "source": [
    "import pandas as pd\n",
    "import numpy as np \n",
    "from matplotlib import pyplot as plt"
   ]
  },
  {
   "cell_type": "code",
   "execution_count": 2,
   "metadata": {},
   "outputs": [],
   "source": [
    "ratingsCSV = pd.read_csv(\"ratings.csv\")\n",
    "moviesCSV = pd.read_csv(\"movies.csv\")"
   ]
  },
  {
   "cell_type": "code",
   "execution_count": 3,
   "metadata": {},
   "outputs": [],
   "source": [
    "h_rated = []\n",
    "for x in range(len(ratingsCSV)) : \n",
    "    if ratingsCSV.rating[x] == 4.0 or ratingsCSV.rating[x] ==4.5 or ratingsCSV.rating[x]== 5.0 :\n",
    "        h_rated.append(ratingsCSV.movieId[x])"
   ]
  },
  {
   "cell_type": "code",
   "execution_count": 4,
   "metadata": {},
   "outputs": [],
   "source": [
    "    u_h_rated = list(dict.fromkeys(h_rated))\n",
    "    u_h_rated.sort()"
   ]
  },
  {
   "cell_type": "code",
   "execution_count": 5,
   "metadata": {},
   "outputs": [],
   "source": [
    "y=0\n",
    "year = []\n",
    "for x in range(len(moviesCSV)):\n",
    "    if moviesCSV.movieId[x] == u_h_rated[y] :\n",
    "        y+=1\n",
    "        title = moviesCSV.title[x]\n",
    "        if title.find('(') != -1 :\n",
    "            yr = title.split('(')[-1]\n",
    "            year.append(yr[0:4])  "
   ]
  },
  {
   "cell_type": "code",
   "execution_count": 6,
   "metadata": {},
   "outputs": [],
   "source": [
    "tens = []\n",
    "aughts = []\n",
    "ninties = []\n",
    "eighties = []\n",
    "seventies = []\n",
    "sixties = []\n",
    "fifties = []\n",
    "forties = []\n",
    "thirties = []\n",
    "twenties = []"
   ]
  },
  {
   "cell_type": "code",
   "execution_count": 7,
   "metadata": {},
   "outputs": [],
   "source": [
    "for x in range(len(year)):\n",
    "    if int(year[x])>2010 and int(year[x])<2021 :\n",
    "        tens.append(year[x])\n",
    "    elif int(year[x])>2000 and int(year[x])<2011 :\n",
    "        aughts.append(year[x])\n",
    "    elif int(year[x])>1990 and int(year[x])<2001 :\n",
    "        ninties.append(year[x])\n",
    "    elif int(year[x])>1980 and int(year[x])<1991 :\n",
    "        eighties.append(year[x])\n",
    "    elif int(year[x])>1970 and int(year[x])<1981 :\n",
    "        seventies.append(year[x])\n",
    "    elif int(year[x])>1960 and int(year[x])<1971 :\n",
    "        sixties.append(year[x])\n",
    "    elif int(year[x])>1950 and int(year[x])<1961 :\n",
    "        fifties.append(year[x])\n",
    "    elif int(year[x])>1940 and int(year[x])<1951 :\n",
    "        forties.append(year[x])\n",
    "    elif int(year[x])>1930 and int(year[x])<1941 :\n",
    "        thirties.append(year[x])\n",
    "    elif int(year[x])>1920 and int(year[x])<1931 :\n",
    "        twenties.append(year[x])"
   ]
  },
  {
   "cell_type": "code",
   "execution_count": 8,
   "metadata": {},
   "outputs": [],
   "source": [
    "count = [len(twenties),len(thirties),len(forties),len(fifties),len(sixties),len(seventies),len(eighties),len(ninties),len(aughts),len(tens)]"
   ]
  },
  {
   "cell_type": "code",
   "execution_count": 9,
   "metadata": {},
   "outputs": [],
   "source": [
    "x_axis = [1920,1930,1940,1950,1960,1970,1980,1990,2000,2010]"
   ]
  },
  {
   "cell_type": "code",
   "execution_count": 10,
   "metadata": {},
   "outputs": [
    {
     "data": {
      "image/png": "[encoded data removed]",
      "text/plain": [
       "<Figure size 432x288 with 1 Axes>"
      ]
     },
     "metadata": {
      "needs_background": "light"
     },
     "output_type": "display_data"
    }
   ],
   "source": [
    "plt.bar(x_axis,count,color='green')\n",
    "#plt.plot(x_axis,count,color='blue')\n",
    "plt.xlabel(\"Decades\")\n",
    "plt.ylabel(\"Count of high rated movies\")\n",
    "plt.title(\"Number of movies with 4 and above rating per decade\")\n",
    "plt.show()"
   ]
  },
  {
   "cell_type": "code",
   "execution_count": null,
   "metadata": {},
   "outputs": [],
   "source": []
  },
  {
   "cell_type": "code",
   "execution_count": 11,
   "metadata": {},
   "outputs": [],
   "source": [
    "Action = []\n",
    "Adventure = []\n",
    "Animation = []\n",
    "Childrens = []\n",
    "Comedy = []\n",
    "Crime = []\n",
    "Documentary = []\n",
    "Drama = []\n",
    "Fantasy = []\n",
    "FilmNoir = []\n",
    "Horror = []\n",
    "IMAX = []\n",
    "Musical = []\n",
    "Mystery = []\n",
    "Romance = []\n",
    "SciFi = []\n",
    "Thriller = []\n",
    "War = []\n",
    "Western = []\n",
    "unspecified = []"
   ]
  },
  {
   "cell_type": "code",
   "execution_count": 12,
   "metadata": {},
   "outputs": [],
   "source": [
    "genres = moviesCSV.genres"
   ]
  },
  {
   "cell_type": "code",
   "execution_count": 13,
   "metadata": {},
   "outputs": [],
   "source": [
    "for x in range(len(genres)) :\n",
    "    g = genres[x].split('|')\n",
    "    for y in range(len(g)) :\n",
    "        if g[y]==\"Action\" : \n",
    "            Action.append(moviesCSV.title[x])\n",
    "        elif g[y]==\"Adventure\" :\n",
    "            Adventure.append(moviesCSV.title[x])\n",
    "        elif g[y]==\"Animation\" :\n",
    "            Animation.append(moviesCSV.title[x])\n",
    "        elif g[y]==\"Children\" :\n",
    "            Childrens.append(moviesCSV.title[x])\n",
    "        elif g[y]==\"Comedy\" :\n",
    "            Comedy.append(moviesCSV.title[x])\n",
    "        elif g[y]==\"Crime\" :\n",
    "            Crime.append(moviesCSV.title[x])\n",
    "        elif g[y]==\"Documentary\" :\n",
    "            Documentary.append(moviesCSV.title[x])\n",
    "        elif g[y]==\"Drama\" :\n",
    "            Drama.append(moviesCSV.title[x])\n",
    "        elif g[y]==\"Fantasy\" :\n",
    "            Fantasy.append(moviesCSV.title[x])\n",
    "        elif g[y]==\"Film-Noir\" :\n",
    "            FilmNoir.append(moviesCSV.title[x])\n",
    "        elif g[y]==\"Horror\" :\n",
    "            Horror.append(moviesCSV.title[x])\n",
    "        elif g[y]==\"IMAX\" :\n",
    "            IMAX.append(moviesCSV.title[x])\n",
    "        elif g[y]==\"Musical\" :\n",
    "            Musical.append(moviesCSV.title[x])\n",
    "        elif g[y]==\"Mystery\" :\n",
    "            Mystery.append(moviesCSV.title[x])\n",
    "        elif g[y]==\"Romance\" :\n",
    "            Romance.append(moviesCSV.title[x])\n",
    "        elif g[y]==\"Sci-Fi\" :\n",
    "            SciFi.append(moviesCSV.title[x])\n",
    "        elif g[y]==\"Thriller\" :\n",
    "            Thriller.append(moviesCSV.title[x])\n",
    "        elif g[y]==\"War\" :\n",
    "            War.append(moviesCSV.title[x])\n",
    "        elif g[y]==\"Western\" :\n",
    "            Western.append(moviesCSV.title[x])\n",
    "        else :\n",
    "            unspecified.append(moviesCSV.title[x])"
   ]
  },
  {
   "cell_type": "code",
   "execution_count": 14,
   "metadata": {},
   "outputs": [],
   "source": [
    "movieCount = [len(Action),len(Adventure),len(Animation),len(Childrens),len(Comedy),len(Crime),\n",
    "              len(Documentary),len(Drama),len(Fantasy),len(FilmNoir),len(Horror),len(IMAX),len(Musical),\n",
    "              len(Mystery),len(Romance),len(SciFi),len(Thriller),len(War),len(Western),len(unspecified)]"
   ]
  },
  {
   "cell_type": "code",
   "execution_count": 15,
   "metadata": {},
   "outputs": [],
   "source": [
    "x_axis = ['Action','Adventure','Animation','Childrens','Comedy','Crime',\n",
    "          'Documentary','Drama','Fantasy','Film-Noir','Horror','IMAX','Musical',\n",
    "          'Mystery','Romance','Sci-Fi','Thriller','War','Western','no genres listed']"
   ]
  },
  {
   "cell_type": "code",
   "execution_count": 16,
   "metadata": {},
   "outputs": [
    {
     "data": {
      "image/png": "[encoded data removed]",
      "text/plain": [
       "<Figure size 432x288 with 1 Axes>"
      ]
     },
     "metadata": {
      "needs_background": "light"
     },
     "output_type": "display_data"
    }
   ],
   "source": [
    "plt.barh(x_axis,movieCount)\n",
    "plt.ylabel(\"GENRES\")\n",
    "plt.xlabel(\"# Movies\")\n",
    "plt.title(\"Number of Movies per Genre\")\n",
    "plt.show()"
   ]
  },
  {
   "cell_type": "code",
   "execution_count": null,
   "metadata": {},
   "outputs": [],
   "source": []
  },
  {
   "cell_type": "code",
   "execution_count": 17,
   "metadata": {},
   "outputs": [],
   "source": [
    "z=0\n",
    "genres = []\n",
    "for x in range(len(moviesCSV)) :\n",
    "    if moviesCSV.movieId[x] == u_h_rated[z] :\n",
    "        z+=1\n",
    "        genre = moviesCSV.genres[x]\n",
    "        g = genre.split('|')\n",
    "        for y in range(len(g)) :\n",
    "            genres.append(g[y])"
   ]
  },
  {
   "cell_type": "code",
   "execution_count": 18,
   "metadata": {},
   "outputs": [],
   "source": [
    "y = [genres.count(\"Action\"),genres.count(\"Adventure\"),genres.count(\"Animation\"),genres.count(\"Children\"),\n",
    "          genres.count(\"Comedy\"),genres.count(\"Crime\"),genres.count(\"Documentary\"),genres.count(\"Drama\"),\n",
    "          genres.count(\"Fantasy\"),genres.count(\"Film-Noir\"),genres.count(\"Horror\"),genres.count(\"IMAX\"),genres.count(\"Musical\"),\n",
    "          genres.count(\"Mystery\"),genres.count(\"Romance\"),genres.count(\"Sci-Fi\"),genres.count(\"Thriller\"),\n",
    "          genres.count(\"War\"),genres.count(\"Western\"),genres.count(\"(no genres listed)\")]\n",
    "y_axis = []\n",
    "for x in range(len(y)) :\n",
    "    y_axis.append(y[x]/movieCount[x]*100)"
   ]
  },
  {
   "cell_type": "code",
   "execution_count": 19,
   "metadata": {},
   "outputs": [],
   "source": [
    "x_axis = ['Action','Adventure','Animation','Childrens','Comedy','Crime','Documentary','Drama','Fantasy','Film-Noir',\n",
    "          'Horror','IMAX','Musical','Mystery','Romance','Sci-Fi','Thriller','War','Western','(no genres listed)']"
   ]
  },
  {
   "cell_type": "code",
   "execution_count": 23,
   "metadata": {},
   "outputs": [
    {
     "data": {
      "image/png": "[encoded data removed]",
      "text/plain": [
       "<Figure size 432x288 with 1 Axes>"
      ]
     },
     "metadata": {
      "needs_background": "light"
     },
     "output_type": "display_data"
    }
   ],
   "source": [
    "plt.barh(x_axis,y_axis)\n",
    "plt.xlim(50,90)\n",
    "plt.xlabel(\"Percentage\")\n",
    "plt.ylabel(\"Genres\")\n",
    "plt.title(\"% of movies within each genre which are rated 4 and above\")\n",
    "plt.show()"
   ]
  }
 ],
 "metadata": {
  "kernelspec": {
   "display_name": "Python 3",
   "language": "python",
   "name": "python3"
  },
  "language_info": {
   "codemirror_mode": {
    "name": "ipython",
    "version": 3
   },
   "file_extension": ".py",
   "mimetype": "text/x-python",
   "name": "python",
   "nbconvert_exporter": "python",
   "pygments_lexer": "ipython3",
   "version": "3.7.3"
  }
 },
 "nbformat": 4,
 "nbformat_minor": 4
}

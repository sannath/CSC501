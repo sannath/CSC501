{
 "cells": [
  {
   "cell_type": "code",
   "execution_count": 1,
   "metadata": {},
   "outputs": [],
   "source": [
    "import pandas as pd\n",
    "import numpy as np\n",
    "from matplotlib import pyplot as plt"
   ]
  },
  {
   "cell_type": "code",
   "execution_count": 2,
   "metadata": {},
   "outputs": [],
   "source": [
    "ratingsCSV = pd.read_csv(\"ratings.csv\");"
   ]
  },
  {
   "cell_type": "code",
   "execution_count": 4,
   "metadata": {},
   "outputs": [],
   "source": [
    "y_axis = []\n",
    "zeroF_band_rating = ratingsCSV[(ratingsCSV.rating == 0.5)]\n",
    "y_axis.append(len(zeroF_band_rating))\n",
    "one_band_rating = ratingsCSV[(ratingsCSV.rating == 1.0)] \n",
    "y_axis.append(len(one_band_rating))\n",
    "oneF_band_rating = ratingsCSV[(ratingsCSV.rating == 1.5)]\n",
    "y_axis.append(len(oneF_band_rating))\n",
    "two_band_rating = ratingsCSV[(ratingsCSV.rating == 2.0)] \n",
    "y_axis.append(len(two_band_rating))\n",
    "twoF_band_rating = ratingsCSV[(ratingsCSV.rating == 2.5)]\n",
    "y_axis.append(len(twoF_band_rating))\n",
    "three_band_rating = ratingsCSV[(ratingsCSV.rating == 3.0)]\n",
    "y_axis.append(len(three_band_rating))\n",
    "threeF_band_rating = ratingsCSV[(ratingsCSV.rating == 3.5)]\n",
    "y_axis.append(len(threeF_band_rating))\n",
    "four_band_rating = ratingsCSV[(ratingsCSV.rating == 4.0)]\n",
    "y_axis.append(len(four_band_rating))\n",
    "fourF_band_rating = ratingsCSV[(ratingsCSV.rating == 4.5)]\n",
    "y_axis.append(len(fourF_band_rating))\n",
    "five_rating = ratingsCSV[(ratingsCSV.rating == 5.0)]\n",
    "y_axis.append(len(five_rating))"
   ]
  },
  {
   "cell_type": "code",
   "execution_count": 5,
   "metadata": {},
   "outputs": [
    {
     "name": "stdout",
     "output_type": "stream",
     "text": [
      "[1370, 2811, 1791, 7551, 5550, 20047, 13136, 26818, 8551, 13211]\n"
     ]
    }
   ],
   "source": [
    "print(y_axis)"
   ]
  },
  {
   "cell_type": "code",
   "execution_count": 4,
   "metadata": {},
   "outputs": [],
   "source": [
    "x_axis = [0.5,1,1.5,2,2.5,3,3.5,4,4.5,5]\n",
    "x = range(0,10)"
   ]
  },
  {
   "cell_type": "code",
   "execution_count": 5,
   "metadata": {},
   "outputs": [
    {
     "data": {
      "image/png": "[encoded data removed]",
      "text/plain": [
       "<Figure size 432x288 with 1 Axes>"
      ]
     },
     "metadata": {
      "needs_background": "light"
     },
     "output_type": "display_data"
    }
   ],
   "source": [
    "plt.xticks(x,x_axis)\n",
    "plt.bar(x,y_axis)\n",
    "plt.xlabel(\"Rating\")\n",
    "plt.ylabel(\"Number of Movies\")\n",
    "plt.title(\"Total count of movies for each rating\")\n",
    "plt.show()"
   ]
  }
 ],
 "metadata": {
  "kernelspec": {
   "display_name": "Python 3",
   "language": "python",
   "name": "python3"
  },
  "language_info": {
   "codemirror_mode": {
    "name": "ipython",
    "version": 3
   },
   "file_extension": ".py",
   "mimetype": "text/x-python",
   "name": "python",
   "nbconvert_exporter": "python",
   "pygments_lexer": "ipython3",
   "version": "3.7.3"
  }
 },
 "nbformat": 4,
 "nbformat_minor": 4
}

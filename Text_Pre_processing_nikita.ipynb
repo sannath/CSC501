{
 "cells": [
  {
   "cell_type": "code",
   "execution_count": 1,
   "metadata": {},
   "outputs": [],
   "source": [
    "import pandas as pd\n",
    "\n",
    "#Punctuations\n",
    "import string\n",
    "\n",
    "#reg Expressions\n",
    "import re\n",
    "\n",
    "#emojis with description\n",
    "import demoji\n",
    "\n",
    "#sentences to words\n",
    "from nltk.tokenize import TreebankWordTokenizer\n",
    "\n",
    "#paras to sentences\n",
    "from nltk.tokenize import sent_tokenize\n",
    "\n",
    "#stopwords\n",
    "from nltk.corpus import stopwords\n",
    "\n",
    "from gensim.models import Word2Vec\n",
    "import matplotlib.pyplot as plt\n",
    "\n",
    "# demoji.download_codes()\n",
    "from datetime import datetime, date\n",
    "\n",
    "from wordcloud import WordCloud, STOPWORDS\n",
    "from textblob import TextBlob\n",
    "pd.set_option('display.max_colwidth', 1000)\n",
    "import operator\n",
    "import numpy as np"
   ]
  },
  {
   "cell_type": "code",
   "execution_count": 2,
   "metadata": {},
   "outputs": [],
   "source": [
    "file = pd.read_csv('C:\\\\Users\\\\nikita\\\\Downloads/IRAhandle_tweets_1.csv')"
   ]
  },
  {
   "cell_type": "code",
   "execution_count": 95,
   "metadata": {},
   "outputs": [],
   "source": [
    "# file.head(2)"
   ]
  },
  {
   "cell_type": "code",
   "execution_count": 5,
   "metadata": {},
   "outputs": [],
   "source": [
    "# subset of entire csv based on (langugae = english and russian) as DATAFRAME"
   ]
  },
  {
   "cell_type": "code",
   "execution_count": 4,
   "metadata": {},
   "outputs": [],
   "source": [
    "# file.language.unique()"
   ]
  },
  {
   "cell_type": "code",
   "execution_count": 96,
   "metadata": {},
   "outputs": [],
   "source": [
    "file['just_date'] = file['publish_date'].str.split(n=1).str[0]\n",
    "file['year'] = file['just_date'].str.split('/').str[2]\n",
    "file['month'] = file['just_date'].str.split('/').str[0]\n",
    "# file['just_date']"
   ]
  },
  {
   "cell_type": "code",
   "execution_count": 7,
   "metadata": {},
   "outputs": [],
   "source": [
    "file = file[(file['language']=='English') | (file['language']=='Russian')].reset_index()"
   ]
  },
  {
   "cell_type": "code",
   "execution_count": 8,
   "metadata": {},
   "outputs": [
    {
     "name": "stdout",
     "output_type": "stream",
     "text": [
      "3202\n"
     ]
    }
   ],
   "source": [
    "#to be used\n",
    "a = file.loc[file['year'] == '2017', 'new_june_2018']\n",
    "c0 =0\n",
    "c1=0\n",
    "for x in a:\n",
    "    if x == 0:\n",
    "        c0 +=1\n",
    "    else:\n",
    "        c1+=1\n",
    "print(c1)"
   ]
  },
  {
   "cell_type": "code",
   "execution_count": 9,
   "metadata": {},
   "outputs": [
    {
     "name": "stdout",
     "output_type": "stream",
     "text": [
      "4254\n"
     ]
    }
   ],
   "source": [
    "#to be used\n",
    "b = file.loc[file['year'] == '2017', 'language']\n",
    "c0 =0\n",
    "c1=0\n",
    "for x in b:\n",
    "    if x == 'English':\n",
    "        c0 +=1\n",
    "    else:\n",
    "        c1+=1\n",
    "print(c1)"
   ]
  },
  {
   "cell_type": "code",
   "execution_count": 11,
   "metadata": {},
   "outputs": [
    {
     "name": "stdout",
     "output_type": "stream",
     "text": [
      "3197\n"
     ]
    }
   ],
   "source": [
    "c0 =0\n",
    "c1=0\n",
    "counter = 0\n",
    "for x in file['year']:\n",
    "    if x == '2017':\n",
    "        if file['new_june_2018'][counter] == 1: \n",
    "            if file['language'][counter] == 'English':\n",
    "                c0 +=1\n",
    "            else:\n",
    "                c1+=1\n",
    "    counter +=1\n",
    "print(c0)"
   ]
  },
  {
   "cell_type": "code",
   "execution_count": 12,
   "metadata": {},
   "outputs": [
    {
     "name": "stdout",
     "output_type": "stream",
     "text": [
      "5\n"
     ]
    }
   ],
   "source": [
    "print(c1)"
   ]
  },
  {
   "cell_type": "code",
   "execution_count": 13,
   "metadata": {},
   "outputs": [
    {
     "data": {
      "text/html": [
       "<div>\n",
       "<style scoped>\n",
       "    .dataframe tbody tr th:only-of-type {\n",
       "        vertical-align: middle;\n",
       "    }\n",
       "\n",
       "    .dataframe tbody tr th {\n",
       "        vertical-align: top;\n",
       "    }\n",
       "\n",
       "    .dataframe thead th {\n",
       "        text-align: right;\n",
       "    }\n",
       "</style>\n",
       "<table border=\"1\" class=\"dataframe\">\n",
       "  <thead>\n",
       "    <tr style=\"text-align: right;\">\n",
       "      <th></th>\n",
       "      <th>year</th>\n",
       "      <th>author</th>\n",
       "    </tr>\n",
       "  </thead>\n",
       "  <tbody>\n",
       "    <tr>\n",
       "      <th>0</th>\n",
       "      <td>2014</td>\n",
       "      <td>143</td>\n",
       "    </tr>\n",
       "    <tr>\n",
       "      <th>1</th>\n",
       "      <td>2015</td>\n",
       "      <td>59265</td>\n",
       "    </tr>\n",
       "    <tr>\n",
       "      <th>2</th>\n",
       "      <td>2016</td>\n",
       "      <td>69251</td>\n",
       "    </tr>\n",
       "    <tr>\n",
       "      <th>3</th>\n",
       "      <td>2017</td>\n",
       "      <td>99902</td>\n",
       "    </tr>\n",
       "    <tr>\n",
       "      <th>4</th>\n",
       "      <td>2018</td>\n",
       "      <td>102</td>\n",
       "    </tr>\n",
       "  </tbody>\n",
       "</table>\n",
       "</div>"
      ],
      "text/plain": [
       "   year  author\n",
       "0  2014     143\n",
       "1  2015   59265\n",
       "2  2016   69251\n",
       "3  2017   99902\n",
       "4  2018     102"
      ]
     },
     "execution_count": 13,
     "metadata": {},
     "output_type": "execute_result"
    }
   ],
   "source": [
    "analyzeYears = file.groupby(['year'])['author'].count().reset_index()\n",
    "analyzeYears"
   ]
  },
  {
   "cell_type": "code",
   "execution_count": 14,
   "metadata": {},
   "outputs": [
    {
     "data": {
      "image/png": "[encoded data removed]",
      "text/plain": [
       "<Figure size 576x576 with 1 Axes>"
      ]
     },
     "metadata": {
      "needs_background": "light"
     },
     "output_type": "display_data"
    }
   ],
   "source": [
    "plt.rcParams[\"figure.figsize\"] =  [8, 8]\n",
    "plt.plot(analyzeYears.year, analyzeYears.author, color='orange')\n",
    "plt.xlabel('Year')\n",
    "plt.ylabel('Number of Tweets')\n",
    "plt.title('Tweets in Years')\n",
    "# xticks(np.arange(1995, 2015, step=2))\n",
    "plt.show()\n",
    "# plt.savefig(\"rating\",dpi=500)"
   ]
  },
  {
   "cell_type": "code",
   "execution_count": 15,
   "metadata": {},
   "outputs": [
    {
     "data": {
      "text/plain": [
       "Series([], Name: month, dtype: object)"
      ]
     },
     "execution_count": 15,
     "metadata": {},
     "output_type": "execute_result"
    }
   ],
   "source": [
    "file.loc[file['year'] == 2017, 'month']\n",
    "# analyzeMonths = file.groupby(['month'])['author'].count().reset_index()\n",
    "# analyzeMonths"
   ]
  },
  {
   "cell_type": "code",
   "execution_count": 16,
   "metadata": {},
   "outputs": [],
   "source": [
    "# plt.rcParams[\"figure.figsize\"] =  [14, 8]\n",
    "# a.plot.line()\n",
    "# plt.xlabel('Year')\n",
    "# plt.ylabel('Movies Released')\n",
    "# plt.title('Movies Released in Years')\n",
    "# # plt.show()\n",
    "# plt.savefig(\"movierleeased\",dpi=500)"
   ]
  },
  {
   "cell_type": "code",
   "execution_count": null,
   "metadata": {},
   "outputs": [],
   "source": []
  },
  {
   "cell_type": "code",
   "execution_count": 17,
   "metadata": {},
   "outputs": [],
   "source": [
    "# plt.rcParams[\"figure.figsize\"] =  [12, 12]\n",
    "# plt.plot(a['author'], a['just_date'], label = \"Year 2000\")\n",
    "# plt.xlabel('author')\n",
    "# plt.ylabel('just_date')\n",
    "# plt.title('Movie Trends In Years')\n",
    "# plt.legend()\n",
    "# #plt.show()\n",
    "# plt.savefig(\"movietrend\",dpi=500)"
   ]
  },
  {
   "cell_type": "code",
   "execution_count": null,
   "metadata": {},
   "outputs": [],
   "source": []
  },
  {
   "cell_type": "code",
   "execution_count": 18,
   "metadata": {},
   "outputs": [],
   "source": [
    "# file.loc[file['content'] == 'Italian']\n",
    "# s  = file[file['content'].str.contains('9')]\n",
    "# s"
   ]
  },
  {
   "cell_type": "code",
   "execution_count": 115,
   "metadata": {},
   "outputs": [],
   "source": [
    "text = file[(file['language']=='English') | (file['language']=='Russian')]\n",
    "# text = file[(file['year']=='2017' ) & (file['month'] == '9')]"
   ]
  },
  {
   "cell_type": "code",
   "execution_count": 116,
   "metadata": {},
   "outputs": [],
   "source": [
    "text = text[['content','language','month','year']]"
   ]
  },
  {
   "cell_type": "code",
   "execution_count": 117,
   "metadata": {},
   "outputs": [],
   "source": [
    "# text_df = text.sort_values(['language'])"
   ]
  },
  {
   "cell_type": "code",
   "execution_count": 118,
   "metadata": {},
   "outputs": [],
   "source": [
    "text_list = text.values.tolist()"
   ]
  },
  {
   "cell_type": "code",
   "execution_count": 23,
   "metadata": {},
   "outputs": [
    {
     "data": {
      "text/plain": [
       "[['\"We have a sitting Democrat US Senator on trial for corruption and you\\'ve barely heard a peep from the mainstream media.\" ~ @nedryun https://t.co/gh6g0D1oiC',\n",
       "  'English',\n",
       "  '10',\n",
       "  '2017']]"
      ]
     },
     "execution_count": 23,
     "metadata": {},
     "output_type": "execute_result"
    }
   ],
   "source": [
    "text_list[:1]"
   ]
  },
  {
   "cell_type": "code",
   "execution_count": 24,
   "metadata": {},
   "outputs": [],
   "source": [
    "ind_russian = []\n",
    "ind_english = []\n",
    "\n",
    "for i in range(len(text_list)):\n",
    "#     if text_list[i][2]=='9' and text_list[i][3]=='2017':\n",
    "    if text_list[i][1]=='Russian':\n",
    "        ind_russian.append(i)\n",
    "    else :\n",
    "        ind_english.append(i)\n"
   ]
  },
  {
   "cell_type": "code",
   "execution_count": 25,
   "metadata": {},
   "outputs": [],
   "source": [
    "#(1) filtering hyperlinks and \n",
    "#(2) remove numbers and convert text into lowercase\n",
    "#(3) separate emojis from text. create a list of set of emojis, each set represents the emojis in its respective locations tweet \n",
    "#(4) identifying '#' and creating a list of hashtag words\n",
    "#(5) sentence into words\n",
    "#(6) filtering punctuations\n",
    "#(7) stop-words for english and russian tweets"
   ]
  },
  {
   "cell_type": "code",
   "execution_count": 29,
   "metadata": {
    "scrolled": true
   },
   "outputs": [
    {
     "name": "stdout",
     "output_type": "stream",
     "text": [
      "Wall time: 4min 19s\n"
     ]
    }
   ],
   "source": [
    "%%time\n",
    "text_h = []\n",
    "emoji_list = []\n",
    "hashtags_list = []\n",
    "sentiment = []\n",
    "punch = string.punctuation\n",
    "stop_words_e = stopwords.words('english')\n",
    "stop_words_r = stopwords.words('russian')\n",
    "\n",
    "for i in range(len(text_list)):\n",
    "    \n",
    "    # (1)\n",
    "    tweet = re.sub(r'(https?:\\/\\/)(\\s)*(www\\.)?(\\s)*((\\w|\\s)+\\.)*([\\w\\-\\s]+\\/)*([\\w\\-]+)((\\?)?[\\w\\s]*=\\s*[\\w\\%&]*)*', '', text_list[i][0], flags=re.MULTILINE)\n",
    "     \n",
    "    # (2)\n",
    "    tweet = re.sub(r'\\d+', '', tweet)\n",
    "    tweet = tweet.lower() #lowercase\n",
    "    \n",
    "    #sentiment\n",
    "    blob = TextBlob(tweet)\n",
    "    sentiment.append(blob.sentiment)\n",
    "    \n",
    "    #remove # and store word in list\n",
    "    hastags_per_tweet = re.findall('\\#(\\w*)',tweet)\n",
    "\n",
    "    if len(hastags_per_tweet) != 0:\n",
    "        hashtags_list.append(hastags_per_tweet)\n",
    "        \n",
    "        \n",
    "    tweet = tweet.translate(str.maketrans('', '', string.punctuation))\n",
    "        \n",
    "    # (3)\n",
    "    emoji_set = demoji.findall(tweet)\n",
    "    emoji_list.append(emoji_set)\n",
    "\n",
    "    for emoj in emoji_set:\n",
    "        tweet = tweet.replace(emoj,'')\n",
    "    \n",
    "    # (5)\n",
    "    tweet = TreebankWordTokenizer().tokenize(tweet)\n",
    "    tweet.sort()\n",
    "    \n",
    "    # (6)\n",
    "    tweet = [words for words in tweet if words not in punch]\n",
    "    \n",
    "    # (7)\n",
    "    if i<len(ind_english):\n",
    "        tweet = [words for words in tweet if words not in stop_words_e]\n",
    "    else:\n",
    "        tweet = [words for words in tweet if words not in stop_words_r]\n",
    "    \n",
    "#     print(tweet)\n",
    "    text_h.append(tweet)"
   ]
  },
  {
   "cell_type": "code",
   "execution_count": 30,
   "metadata": {},
   "outputs": [],
   "source": [
    "polarity = []\n",
    "subjectivity = []\n",
    "for x in sentiment:\n",
    "    polarity.append(x.polarity)\n",
    "    subjectivity.append(x.subjectivity)"
   ]
  },
  {
   "cell_type": "code",
   "execution_count": 32,
   "metadata": {},
   "outputs": [],
   "source": [
    "file['polarity'] = polarity\n",
    "file['subjectivity'] = subjectivity"
   ]
  },
  {
   "cell_type": "code",
   "execution_count": 120,
   "metadata": {},
   "outputs": [],
   "source": [
    "flatten  = [y for x in hashtags_list for y in x]"
   ]
  },
  {
   "cell_type": "code",
   "execution_count": 124,
   "metadata": {},
   "outputs": [],
   "source": [
    "wordfreq = {}\n",
    "for w in flatten:\n",
    "    if w in wordfreq:\n",
    "        wordfreq[w] +=1\n",
    "    else:\n",
    "        wordfreq[w] = 1\n",
    "sorted_x = sorted(wordfreq.items(), key=operator.itemgetter(1),reverse=True)\n",
    "sorted_x = sorted_x[:20]\n",
    "trendingHashtag = [x[0] for x in sorted_x]\n",
    "trendingHashtagNo = [x[1] for x in sorted_x]\n",
    "# sorted_x"
   ]
  },
  {
   "cell_type": "code",
   "execution_count": 126,
   "metadata": {},
   "outputs": [
    {
     "data": {
      "image/png": "[encoded data removed]",
      "text/plain": [
       "<Figure size 576x576 with 1 Axes>"
      ]
     },
     "metadata": {
      "needs_background": "light"
     },
     "output_type": "display_data"
    }
   ],
   "source": [
    "y_pos = np.arange(len(trendingHashtag))\n",
    "# plt.rcParams[\"figure.figsize\"] =  [14, 8]\n",
    "plt.bar(y_pos, trendingHashtagNo, align='center', alpha=0.8,color='#F78F1E')\n",
    "plt.xticks(y_pos, trendingHashtag,rotation='vertical')\n",
    "plt.ylabel('Tweets')\n",
    "plt.title('Trending Hashtags')\n",
    "plt.show()\n",
    "# plt.savefig(\"TrendingHashtags\",dpi=500)"
   ]
  },
  {
   "cell_type": "code",
   "execution_count": 128,
   "metadata": {},
   "outputs": [],
   "source": [
    "# most used words trend\n",
    "file1 = file[file['content'].str.contains(\"trump\")]\n",
    "file2 = file[file['content'].str.contains(\"hillary\")]\n",
    "# file3 = file[file['content'].str.contains(\"obama\")]\n",
    "file4 = file[file['content'].str.contains(\"election\")]"
   ]
  },
  {
   "cell_type": "code",
   "execution_count": 129,
   "metadata": {},
   "outputs": [],
   "source": [
    "# file1.head()\n",
    "# (file1.author.unique())\n",
    "# len(file1.external_author_id.unique())"
   ]
  },
  {
   "cell_type": "code",
   "execution_count": 130,
   "metadata": {},
   "outputs": [],
   "source": [
    "# file.year.unique() #2014 to 2018\n",
    "years = ['2014','2015','2016','2017','2018']"
   ]
  },
  {
   "cell_type": "code",
   "execution_count": 131,
   "metadata": {},
   "outputs": [],
   "source": [
    "# most used words trend sentiment\n",
    "data2014_trump = file1.loc[file1['year'] == '2014']\n",
    "data2015_trump = file1.loc[file1['year'] == '2015']\n",
    "data2016_trump = file1.loc[file1['year'] == '2016']\n",
    "data2017_trump = file1.loc[file1['year'] == '2017']\n",
    "data2018_trump = file1.loc[file1['year'] == '2018']"
   ]
  },
  {
   "cell_type": "code",
   "execution_count": 132,
   "metadata": {},
   "outputs": [],
   "source": [
    "# most used words trend sentiment\n",
    "data2014_hillary = file2.loc[file2['year'] == '2014']\n",
    "data2015_hillary = file2.loc[file2['year'] == '2015']\n",
    "data2016_hillary = file2.loc[file2['year'] == '2016']\n",
    "data2017_hillary = file2.loc[file2['year'] == '2017']\n",
    "data2018_hillary = file2.loc[file2['year'] == '2018']"
   ]
  },
  {
   "cell_type": "code",
   "execution_count": 133,
   "metadata": {},
   "outputs": [],
   "source": [
    "# # most used words trend sentiment\n",
    "# data2014_obama = file3.loc[file3['year'] == '2014']\n",
    "# data2015_obama = file3.loc[file3['year'] == '2015']\n",
    "# data2016_obama = file3.loc[file3['year'] == '2016']\n",
    "# data2017_obama = file3.loc[file3['year'] == '2017']\n",
    "# data2018_obama = file3.loc[file3['year'] == '2018']"
   ]
  },
  {
   "cell_type": "code",
   "execution_count": 134,
   "metadata": {},
   "outputs": [],
   "source": [
    "# most used words trend sentiment\n",
    "data2014_president = file4.loc[file4['year'] == '2014']\n",
    "data2015_president = file4.loc[file4['year'] == '2015']\n",
    "data2016_president = file4.loc[file4['year'] == '2016']\n",
    "data2017_president = file4.loc[file4['year'] == '2017']\n",
    "data2018_president = file4.loc[file4['year'] == '2018']"
   ]
  },
  {
   "cell_type": "code",
   "execution_count": 135,
   "metadata": {},
   "outputs": [],
   "source": [
    "attr1_trump = data2014_trump['polarity'].mean(axis = 0, skipna = True)\n",
    "attr2_trump = data2015_trump['polarity'].mean(axis = 0, skipna = True)\n",
    "attr3_trump = data2016_trump['polarity'].mean(axis = 0, skipna = True)\n",
    "attr4_trump = data2017_trump['polarity'].mean(axis = 0, skipna = True)\n",
    "attr5_trump = data2018_trump['polarity'].mean(axis = 0, skipna = True)\n",
    "polarity_trump = [attr1_trump,attr2_trump,attr3_trump,attr4_trump,attr5_trump]"
   ]
  },
  {
   "cell_type": "code",
   "execution_count": 136,
   "metadata": {},
   "outputs": [],
   "source": [
    "attr1_hillary = data2014_hillary['polarity'].mean(axis = 0, skipna = True)\n",
    "attr2_hillary = data2015_hillary['polarity'].mean(axis = 0, skipna = True)\n",
    "attr3_hillary = data2016_hillary['polarity'].mean(axis = 0, skipna = True)\n",
    "attr4_hillary = data2017_hillary['polarity'].mean(axis = 0, skipna = True)\n",
    "attr5_hillary = data2018_hillary['polarity'].mean(axis = 0, skipna = True)\n",
    "polarity_hillary = [attr1_hillary,attr2_hillary,attr3_hillary,attr4_hillary,attr5_hillary]"
   ]
  },
  {
   "cell_type": "code",
   "execution_count": 137,
   "metadata": {},
   "outputs": [],
   "source": [
    "# attr1_obama = data2014_obama['polarity'].mean(axis = 0, skipna = True)\n",
    "# attr2_obama = data2015_obama['polarity'].mean(axis = 0, skipna = True)\n",
    "# attr3_obama = data2016_obama['polarity'].mean(axis = 0, skipna = True)\n",
    "# attr4_obama = data2017_obama['polarity'].mean(axis = 0, skipna = True)\n",
    "# attr5_obama = data2018_obama['polarity'].mean(axis = 0, skipna = True)\n",
    "# polarity_obama = [attr1_obama,attr2_obama,attr3_obama,attr4_obama,attr5_obama]"
   ]
  },
  {
   "cell_type": "code",
   "execution_count": 138,
   "metadata": {},
   "outputs": [],
   "source": [
    "attr1_president = data2014_president['polarity'].mean(axis = 0, skipna = True)\n",
    "attr2_president = data2015_president['polarity'].mean(axis = 0, skipna = True)\n",
    "attr3_president = data2016_president['polarity'].mean(axis = 0, skipna = True)\n",
    "attr4_president = data2017_president['polarity'].mean(axis = 0, skipna = True)\n",
    "attr5_president = data2018_president['polarity'].mean(axis = 0, skipna = True)\n",
    "polarity_president = [attr1_president,attr2_president,attr3_president,attr4_president,attr5_president]"
   ]
  },
  {
   "cell_type": "code",
   "execution_count": 139,
   "metadata": {},
   "outputs": [
    {
     "data": {
      "image/png": "[encoded data removed]",
      "text/plain": [
       "<Figure size 576x576 with 1 Axes>"
      ]
     },
     "metadata": {
      "needs_background": "light"
     },
     "output_type": "display_data"
    }
   ],
   "source": [
    "# plt.rcParams[\"figure.figsize\"] =  [12, 12]\n",
    "plt.plot(years, polarity_trump, label = \"Trump\")\n",
    "plt.plot(years, polarity_hillary, label = \"Hillary\")\n",
    "# plt.plot(years, polarity_obama, label = \"Year 2010\")\n",
    "# plt.plot(years, polarity_president, label = \"Year 2015\")\n",
    "plt.xlabel('year')\n",
    "plt.ylabel('Sentiment')\n",
    "plt.title('Tweet sentiment over the years')\n",
    "plt.legend()\n",
    "plt.show()\n",
    "# plt.savefig(\"sentiment\",dpi=500)"
   ]
  },
  {
   "cell_type": "code",
   "execution_count": 140,
   "metadata": {},
   "outputs": [],
   "source": [
    "# authors_negativity = data2016_hillary.author.unique()\n",
    "authors_negativity = data2016_hillary.groupby(['author'])['index'].count().reset_index()\n",
    "# authors_negativity"
   ]
  },
  {
   "cell_type": "code",
   "execution_count": 141,
   "metadata": {},
   "outputs": [
    {
     "data": {
      "image/png": "[encoded data removed]",
      "text/plain": [
       "<Figure size 576x576 with 1 Axes>"
      ]
     },
     "metadata": {
      "needs_background": "light"
     },
     "output_type": "display_data"
    }
   ],
   "source": [
    "y_pos = np.arange(len(authors_negativity['author']))\n",
    "# plt.rcParams[\"figure.figsize\"] =  [14, 8]\n",
    "plt.bar(y_pos, authors_negativity['index'], align='center', alpha=0.8,color='#F78F1E')\n",
    "plt.xticks(y_pos, authors_negativity['author'],rotation='vertical')\n",
    "plt.ylabel('Tweets')\n",
    "plt.title('tweets posted about hillary in 2016')\n",
    "plt.show()\n",
    "# plt.savefig(\"TrendingHashtags\",dpi=500)"
   ]
  },
  {
   "cell_type": "code",
   "execution_count": 146,
   "metadata": {},
   "outputs": [
    {
     "data": {
      "image/png": "[encoded data removed]",
      "text/plain": [
       "<Figure size 576x576 with 1 Axes>"
      ]
     },
     "metadata": {
      "needs_background": "light"
     },
     "output_type": "display_data"
    }
   ],
   "source": [
    "# plt.plot(years, polarity_obama, label = \"Year 2010\")\n",
    "plt.plot(years, polarity_president)\n",
    "plt.xlabel('Year')\n",
    "plt.ylabel('Sentiment')\n",
    "plt.title('Tweet sentiment over the years for Presidential Election')\n",
    "# plt.legend()\n",
    "plt.show()\n",
    "# plt.savefig(\"sentiment\",dpi=500)"
   ]
  },
  {
   "cell_type": "code",
   "execution_count": 170,
   "metadata": {},
   "outputs": [],
   "source": [
    "attr1_trump = data2014_trump['subjectivity'].mean(axis = 0, skipna = True)\n",
    "attr2_trump = data2015_trump['subjectivity'].mean(axis = 0, skipna = True)\n",
    "attr3_trump = data2016_trump['subjectivity'].mean(axis = 0, skipna = True)\n",
    "attr4_trump = data2017_trump['subjectivity'].mean(axis = 0, skipna = True)\n",
    "attr5_trump = data2018_trump['subjectivity'].mean(axis = 0, skipna = True)\n",
    "subjectivity_trump = [attr1_trump,attr2_trump,attr3_trump,attr4_trump,attr5_trump]"
   ]
  },
  {
   "cell_type": "code",
   "execution_count": 171,
   "metadata": {},
   "outputs": [],
   "source": [
    "attr1_hillary = data2014_hillary['subjectivity'].mean(axis = 0, skipna = True)\n",
    "attr2_hillary = data2015_hillary['subjectivity'].mean(axis = 0, skipna = True)\n",
    "attr3_hillary = data2016_hillary['subjectivity'].mean(axis = 0, skipna = True)\n",
    "attr4_hillary = data2017_hillary['subjectivity'].mean(axis = 0, skipna = True)\n",
    "attr5_hillary = data2018_hillary['subjectivity'].mean(axis = 0, skipna = True)\n",
    "subjectivity_hillary = [attr1_hillary,attr2_hillary,attr3_hillary,attr4_hillary,attr5_hillary]"
   ]
  },
  {
   "cell_type": "code",
   "execution_count": null,
   "metadata": {},
   "outputs": [],
   "source": [
    "ratingvsyearless = [x[0] for x in ratingvsyear] #first column\n",
    "ratingvsyearmore = [x[1] for x in ratingvsyear] #second column\n",
    "ratinglabels = [x[2] for x in ratingvsyear] #third column"
   ]
  },
  {
   "cell_type": "code",
   "execution_count": null,
   "metadata": {},
   "outputs": [],
   "source": [
    "x = np.arange(10)\n",
    "ax1 = plt.subplot(1,1,1)\n",
    "w = 0.3\n",
    "\n",
    "plt.xticks(x + w, ratinglabels, rotation='vertical')\n",
    "ratingnum =ax1.bar(x, ratingvsyearless, width=w, color='#F78F1E', align='center')\n",
    "ax2 = ax1.twinx() # to use different bars on x axis\n",
    "movienum =ax2.bar(x + w, ratingvsyearmore, width=w,color='#FFC222',align='center')\n",
    "\n",
    "plt.ylabel('Number of Movies')\n",
    "plt.xlabel('Rating')\n",
    "plt.title('Ratings Before and After 2010')\n",
    "plt.legend([ratingnum, movienum],['Rating before 2010', 'Rating after 2010'])\n",
    "plt.show()\n",
    "# plt.savefig(\"ratingbeforeafter\",dpi=500)"
   ]
  },
  {
   "cell_type": "code",
   "execution_count": 173,
   "metadata": {},
   "outputs": [
    {
     "data": {
      "image/png": "[encoded data removed]",
      "text/plain": [
       "<Figure size 576x576 with 1 Axes>"
      ]
     },
     "metadata": {
      "needs_background": "light"
     },
     "output_type": "display_data"
    }
   ],
   "source": [
    "# plt.rcParams[\"figure.figsize\"] =  [12, 12]\n",
    "plt.plot(years, subjectivity_trump, label = \"Trump\")\n",
    "plt.plot(years, subjectivity_hillary, label = \"Hillary\")\n",
    "# plt.plot(years, polarity_obama, label = \"Year 2010\")\n",
    "# plt.plot(years, polarity_president, label = \"Year 2015\")\n",
    "plt.xlabel('year')\n",
    "plt.ylabel('subjectivity')\n",
    "plt.title('Tweet subjectivity over the years')\n",
    "plt.legend()\n",
    "plt.show()\n",
    "# plt.savefig(\"sentiment\",dpi=500)"
   ]
  },
  {
   "cell_type": "code",
   "execution_count": 184,
   "metadata": {},
   "outputs": [],
   "source": [
    "# one-hot vector"
   ]
  },
  {
   "cell_type": "code",
   "execution_count": 148,
   "metadata": {},
   "outputs": [],
   "source": [
    "# Bigram\n",
    "model = Word2Vec(text_h)\n",
    "#  min_count=1,size= 50,workers=3, window =3, sg = 1"
   ]
  },
  {
   "cell_type": "code",
   "execution_count": 109,
   "metadata": {},
   "outputs": [],
   "source": [
    "# 1-Skip-gram\n",
    "skip_model = Word2Vec(text_h,sg = 1)\n",
    "#  min_count=1,size= 50,workers=3, window =3, sg = 1"
   ]
  },
  {
   "cell_type": "code",
   "execution_count": 52,
   "metadata": {},
   "outputs": [],
   "source": [
    "# words = list(model.wv.vocab)\n",
    "# print(words)"
   ]
  },
  {
   "cell_type": "code",
   "execution_count": 23,
   "metadata": {},
   "outputs": [],
   "source": [
    "# v1 = model.wv['miami']\n",
    "# v1 = model[model.wv.vocab]\n",
    "# v1"
   ]
  },
  {
   "cell_type": "code",
   "execution_count": 150,
   "metadata": {},
   "outputs": [],
   "source": [
    "words = list(model.wv.vocab)\n",
    "highest = 0\n",
    "for x in words:\n",
    "    result = model.most_similar(positive=['madam', x], negative=['mr'], topn=1)\n",
    "    print(x)\n",
    "    print(result)"
   ]
  },
  {
   "cell_type": "code",
   "execution_count": 153,
   "metadata": {},
   "outputs": [
    {
     "name": "stdout",
     "output_type": "stream",
     "text": [
      "[('ideas', 0.9467995166778564)]\n"
     ]
    },
    {
     "name": "stderr",
     "output_type": "stream",
     "text": [
      "C:\\Users\\nikita\\Anaconda3\\lib\\site-packages\\ipykernel_launcher.py:1: DeprecationWarning: Call to deprecated `most_similar` (Method will be removed in 4.0.0, use self.wv.most_similar() instead).\n",
      "  \"\"\"Entry point for launching an IPython kernel.\n"
     ]
    }
   ],
   "source": [
    "result = model.most_similar(positive=['mr', 'industrial'], negative=['madam'], topn=1)\n",
    "print(result)"
   ]
  },
  {
   "cell_type": "code",
   "execution_count": 154,
   "metadata": {},
   "outputs": [
    {
     "name": "stdout",
     "output_type": "stream",
     "text": [
      "[('profiteering', 1.009194254875183), ('renewal', 1.0042377710342407), ('tariffs', 1.002394437789917), ('utility', 1.0015949010849), ('wwiii', 0.9997847080230713), ('sotu', 0.9968365430831909), ('poaching', 0.9966999292373657), ('starters', 0.9964951276779175), ('quarterly', 0.99614417552948), ('overhaul', 0.9959242343902588)]\n"
     ]
    },
    {
     "name": "stderr",
     "output_type": "stream",
     "text": [
      "C:\\Users\\nikita\\Anaconda3\\lib\\site-packages\\ipykernel_launcher.py:1: DeprecationWarning: Call to deprecated `most_similar_cosmul` (Method will be removed in 4.0.0, use self.wv.most_similar_cosmul() instead).\n",
      "  \"\"\"Entry point for launching an IPython kernel.\n"
     ]
    }
   ],
   "source": [
    "result = model.most_similar_cosmul(positive=['woman', 'industrial'], negative=['man'])\n",
    "print(result)"
   ]
  },
  {
   "cell_type": "code",
   "execution_count": 157,
   "metadata": {},
   "outputs": [
    {
     "name": "stderr",
     "output_type": "stream",
     "text": [
      "C:\\Users\\nikita\\Anaconda3\\lib\\site-packages\\ipykernel_launcher.py:1: DeprecationWarning: Call to deprecated `most_similar` (Method will be removed in 4.0.0, use self.wv.most_similar() instead).\n",
      "  \"\"\"Entry point for launching an IPython kernel.\n"
     ]
    },
    {
     "data": {
      "text/plain": [
       "'mother missing killed old outside london killer kills officer inside'"
      ]
     },
     "execution_count": 157,
     "metadata": {},
     "output_type": "execute_result"
    }
   ],
   "source": [
    "nearestNeighbours = model.most_similar('man')\n",
    "nearestMen = [i[0] for i in nearestNeighbours]\n",
    "nearestMen = ' '.join(nearestMen).replace('-','')\n",
    "nearestMen"
   ]
  },
  {
   "cell_type": "code",
   "execution_count": 159,
   "metadata": {},
   "outputs": [
    {
     "data": {
      "image/png": "[encoded data removed]",
      "text/plain": [
       "<Figure size 576x576 with 1 Axes>"
      ]
     },
     "metadata": {
      "needs_background": "light"
     },
     "output_type": "display_data"
    }
   ],
   "source": [
    "#compare it with skipgram also\n",
    "title_wordcloud = WordCloud(stopwords=STOPWORDS, background_color='white', height=1500, width=4000).generate(nearestMen)\n",
    "# plt.figure(figsize=(16,8))\n",
    "plt.title(\"Words similar to man\")\n",
    "plt.imshow(title_wordcloud)\n",
    "plt.axis('off')\n",
    "plt.show()\n",
    "# plt.savefig(\"words1\",dpi=500)"
   ]
  },
  {
   "cell_type": "code",
   "execution_count": 160,
   "metadata": {},
   "outputs": [
    {
     "name": "stderr",
     "output_type": "stream",
     "text": [
      "C:\\Users\\nikita\\Anaconda3\\lib\\site-packages\\ipykernel_launcher.py:1: DeprecationWarning: Call to deprecated `most_similar` (Method will be removed in 4.0.0, use self.wv.most_similar() instead).\n",
      "  \"\"\"Entry point for launching an IPython kernel.\n"
     ]
    },
    {
     "data": {
      "text/plain": [
       "'teen pregnant teens yearold raping shot teacher three suspects stabbed'"
      ]
     },
     "execution_count": 160,
     "metadata": {},
     "output_type": "execute_result"
    }
   ],
   "source": [
    "nearestNeighbours = model.most_similar('woman')\n",
    "nearestWomen = [i[0] for i in nearestNeighbours]\n",
    "nearestWomen = ' '.join(nearestWomen).replace('-','')\n",
    "nearestWomen"
   ]
  },
  {
   "cell_type": "code",
   "execution_count": 161,
   "metadata": {},
   "outputs": [
    {
     "data": {
      "image/png": "[encoded data removed]",
      "text/plain": [
       "<Figure size 576x576 with 1 Axes>"
      ]
     },
     "metadata": {
      "needs_background": "light"
     },
     "output_type": "display_data"
    }
   ],
   "source": [
    "title_wordcloud = WordCloud(stopwords=STOPWORDS, background_color='white', height=1500, width=4000).generate(nearestWomen)\n",
    "# plt.figure(figsize=(16,8))\n",
    "plt.title(\"Words similar to woman\")\n",
    "plt.imshow(title_wordcloud)\n",
    "plt.axis('off')\n",
    "plt.show()\n",
    "# plt.savefig(\"woman\",dpi=500)"
   ]
  },
  {
   "cell_type": "code",
   "execution_count": 162,
   "metadata": {},
   "outputs": [
    {
     "name": "stderr",
     "output_type": "stream",
     "text": [
      "C:\\Users\\nikita\\Anaconda3\\lib\\site-packages\\ipykernel_launcher.py:1: DeprecationWarning: Call to deprecated `most_similar` (Method will be removed in 4.0.0, use self.wv.most_similar() instead).\n",
      "  \"\"\"Entry point for launching an IPython kernel.\n"
     ]
    },
    {
     "data": {
      "text/plain": [
       "['anger',\n",
       " 'actors',\n",
       " 'australia',\n",
       " 'accountability',\n",
       " 'addressing',\n",
       " 'becoming',\n",
       " 'award',\n",
       " 'background',\n",
       " 'behalf',\n",
       " 'awareness']"
      ]
     },
     "execution_count": 162,
     "metadata": {},
     "output_type": "execute_result"
    }
   ],
   "source": [
    "#if exists in whole dataset\n",
    "nearestNeighbours = model.most_similar('africa') #black american African American to show racism\n",
    "racism = [i[0] for i in nearestNeighbours]\n",
    "# nearestWomen = ' '.join(nearestWomen).replace('-','')\n",
    "racism"
   ]
  },
  {
   "cell_type": "code",
   "execution_count": 169,
   "metadata": {},
   "outputs": [],
   "source": [
    "#words occurances in our trained model\n",
    "#not used anywhere, we can use instead of getting popular names from hashtags\n",
    "w2c = dict()\n",
    "for item in model.wv.vocab:\n",
    "    w2c[item]=model.wv.vocab[item].count\n",
    "w2cSorted=dict(sorted(w2c.items(), key=lambda x: x[1],reverse=True))\n",
    "# w2cSorted"
   ]
  },
  {
   "cell_type": "code",
   "execution_count": null,
   "metadata": {},
   "outputs": [],
   "source": [
    "# b = file.loc[file['year'] == '2017', 'language']\n",
    "# c0 =0\n",
    "# c1=0\n",
    "# for x in b:\n",
    "#     if x == 'English':\n",
    "#         c0 +=1\n",
    "#     else:\n",
    "#         c1+=1\n",
    "# print(c1)"
   ]
  },
  {
   "cell_type": "code",
   "execution_count": 195,
   "metadata": {},
   "outputs": [
    {
     "data": {
      "text/plain": [
       "[('’', 0.9698026180267334),\n",
       " ('trump', 0.9586488604545593),\n",
       " ('breaking', 0.9586135745048523),\n",
       " ('new', 0.958206295967102),\n",
       " ('look', 0.956089973449707),\n",
       " ('obama', 0.9530141949653625),\n",
       " ('right', 0.9530028104782104),\n",
       " ('lol', 0.9527576565742493),\n",
       " ('не', 0.9509600400924683),\n",
       " ('‘', 0.9485880732536316)]"
      ]
     },
     "execution_count": 195,
     "metadata": {},
     "output_type": "execute_result"
    }
   ],
   "source": [
    "# sim_words = model.wv.most_similar('hillary')\n",
    "# sim_words"
   ]
  },
  {
   "cell_type": "code",
   "execution_count": 26,
   "metadata": {},
   "outputs": [],
   "source": [
    "# Transition Matrix"
   ]
  }
 ],
 "metadata": {
  "kernelspec": {
   "display_name": "Python 3",
   "language": "python",
   "name": "python3"
  },
  "language_info": {
   "codemirror_mode": {
    "name": "ipython",
    "version": 3
   },
   "file_extension": ".py",
   "mimetype": "text/x-python",
   "name": "python",
   "nbconvert_exporter": "python",
   "pygments_lexer": "ipython3",
   "version": "3.7.3"
  }
 },
 "nbformat": 4,
 "nbformat_minor": 4
}
